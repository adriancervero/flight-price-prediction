{
 "cells": [
  {
   "cell_type": "markdown",
   "metadata": {},
   "source": [
    "# 01 - Data Preparation"
   ]
  },
  {
   "cell_type": "markdown",
   "metadata": {},
   "source": [
    "This notebook prepares the dataset for the exploratory data analysis.\n",
    "\n",
    "1. Load raw from data folder.\n",
    "2. Make some column transformations.\n",
    "3. Save dataset into a .csv file for next stage."
   ]
  },
  {
   "cell_type": "markdown",
   "metadata": {},
   "source": [
    "### Import libraries"
   ]
  },
  {
   "cell_type": "code",
   "execution_count": 2,
   "metadata": {},
   "outputs": [],
   "source": [
    "import pandas as pd\n",
    "import numpy as np\n",
    "import matplotlib.pyplot as plt\n",
    "import seaborn as sns\n",
    "from datetime import datetime, timedelta"
   ]
  },
  {
   "cell_type": "markdown",
   "metadata": {},
   "source": [
    "### Loading the data"
   ]
  },
  {
   "cell_type": "code",
   "execution_count": 3,
   "metadata": {},
   "outputs": [],
   "source": [
    "columns = ['dTime', 'dTimeUTC', 'aTime', 'aTimeUTC', 'airlines',\n",
    "               'fly_duration', 'flyFrom', 'cityFrom', 'cityCodeFrom','flyTo',\n",
    "               'cityTo','cityCodeTo', 'distance', 'price', 'route', 'countryFrom',\n",
    "          'countryTo', 'flight_no', 'seats', 'collectionDate']\n",
    "\n",
    "flights = pd.read_csv('../data/raw/flights_raw.csv', names=columns)"
   ]
  },
  {
   "cell_type": "code",
   "execution_count": 4,
   "metadata": {},
   "outputs": [
    {
     "data": {
      "text/html": [
       "<div>\n",
       "<style scoped>\n",
       "    .dataframe tbody tr th:only-of-type {\n",
       "        vertical-align: middle;\n",
       "    }\n",
       "\n",
       "    .dataframe tbody tr th {\n",
       "        vertical-align: top;\n",
       "    }\n",
       "\n",
       "    .dataframe thead th {\n",
       "        text-align: right;\n",
       "    }\n",
       "</style>\n",
       "<table border=\"1\" class=\"dataframe\">\n",
       "  <thead>\n",
       "    <tr style=\"text-align: right;\">\n",
       "      <th></th>\n",
       "      <th>dTime</th>\n",
       "      <th>dTimeUTC</th>\n",
       "      <th>aTime</th>\n",
       "      <th>aTimeUTC</th>\n",
       "      <th>airlines</th>\n",
       "      <th>fly_duration</th>\n",
       "      <th>flyFrom</th>\n",
       "      <th>cityFrom</th>\n",
       "      <th>cityCodeFrom</th>\n",
       "      <th>flyTo</th>\n",
       "      <th>cityTo</th>\n",
       "      <th>cityCodeTo</th>\n",
       "      <th>distance</th>\n",
       "      <th>price</th>\n",
       "      <th>route</th>\n",
       "      <th>countryFrom</th>\n",
       "      <th>countryTo</th>\n",
       "      <th>flight_no</th>\n",
       "      <th>seats</th>\n",
       "      <th>collectionDate</th>\n",
       "    </tr>\n",
       "  </thead>\n",
       "  <tbody>\n",
       "    <tr>\n",
       "      <th>0</th>\n",
       "      <td>2021-02-01 15:00:00</td>\n",
       "      <td>1612188000</td>\n",
       "      <td>2021-02-01 16:25:00</td>\n",
       "      <td>1612193100</td>\n",
       "      <td>UX</td>\n",
       "      <td>1h 25m</td>\n",
       "      <td>MAD</td>\n",
       "      <td>Madrid</td>\n",
       "      <td>MAD</td>\n",
       "      <td>BCN</td>\n",
       "      <td>Barcelona</td>\n",
       "      <td>BCN</td>\n",
       "      <td>483.25</td>\n",
       "      <td>78</td>\n",
       "      <td>MAD -&gt; BCN</td>\n",
       "      <td>Spain</td>\n",
       "      <td>Spain</td>\n",
       "      <td>7703</td>\n",
       "      <td>NaN</td>\n",
       "      <td>2021-01-31 18:19:43.233765</td>\n",
       "    </tr>\n",
       "    <tr>\n",
       "      <th>1</th>\n",
       "      <td>2021-02-01 09:35:00</td>\n",
       "      <td>1612168500</td>\n",
       "      <td>2021-02-01 10:50:00</td>\n",
       "      <td>1612173000</td>\n",
       "      <td>VY</td>\n",
       "      <td>1h 15m</td>\n",
       "      <td>MAD</td>\n",
       "      <td>Madrid</td>\n",
       "      <td>MAD</td>\n",
       "      <td>BCN</td>\n",
       "      <td>Barcelona</td>\n",
       "      <td>BCN</td>\n",
       "      <td>483.25</td>\n",
       "      <td>91</td>\n",
       "      <td>MAD -&gt; BCN</td>\n",
       "      <td>Spain</td>\n",
       "      <td>Spain</td>\n",
       "      <td>1003</td>\n",
       "      <td>NaN</td>\n",
       "      <td>2021-01-31 18:19:43.233765</td>\n",
       "    </tr>\n",
       "    <tr>\n",
       "      <th>2</th>\n",
       "      <td>2021-02-01 19:45:00</td>\n",
       "      <td>1612205100</td>\n",
       "      <td>2021-02-01 21:05:00</td>\n",
       "      <td>1612209900</td>\n",
       "      <td>IB</td>\n",
       "      <td>1h 20m</td>\n",
       "      <td>MAD</td>\n",
       "      <td>Madrid</td>\n",
       "      <td>MAD</td>\n",
       "      <td>BCN</td>\n",
       "      <td>Barcelona</td>\n",
       "      <td>BCN</td>\n",
       "      <td>483.25</td>\n",
       "      <td>91</td>\n",
       "      <td>MAD -&gt; BCN</td>\n",
       "      <td>Spain</td>\n",
       "      <td>Spain</td>\n",
       "      <td>1946</td>\n",
       "      <td>5.0</td>\n",
       "      <td>2021-01-31 18:19:43.233765</td>\n",
       "    </tr>\n",
       "    <tr>\n",
       "      <th>3</th>\n",
       "      <td>2021-02-01 19:15:00</td>\n",
       "      <td>1612203300</td>\n",
       "      <td>2021-02-02 08:50:00</td>\n",
       "      <td>1612252200</td>\n",
       "      <td>UX</td>\n",
       "      <td>13h 35m</td>\n",
       "      <td>MAD</td>\n",
       "      <td>Madrid</td>\n",
       "      <td>MAD</td>\n",
       "      <td>BCN</td>\n",
       "      <td>Barcelona</td>\n",
       "      <td>BCN</td>\n",
       "      <td>483.25</td>\n",
       "      <td>108</td>\n",
       "      <td>MAD -&gt; BCN</td>\n",
       "      <td>Spain</td>\n",
       "      <td>Spain</td>\n",
       "      <td>6097</td>\n",
       "      <td>3.0</td>\n",
       "      <td>2021-01-31 18:19:43.233765</td>\n",
       "    </tr>\n",
       "    <tr>\n",
       "      <th>4</th>\n",
       "      <td>2021-02-01 14:50:00</td>\n",
       "      <td>1612187400</td>\n",
       "      <td>2021-02-02 08:50:00</td>\n",
       "      <td>1612252200</td>\n",
       "      <td>UX</td>\n",
       "      <td>18h 0m</td>\n",
       "      <td>MAD</td>\n",
       "      <td>Madrid</td>\n",
       "      <td>MAD</td>\n",
       "      <td>BCN</td>\n",
       "      <td>Barcelona</td>\n",
       "      <td>BCN</td>\n",
       "      <td>483.25</td>\n",
       "      <td>112</td>\n",
       "      <td>MAD -&gt; BCN</td>\n",
       "      <td>Spain</td>\n",
       "      <td>Spain</td>\n",
       "      <td>6067</td>\n",
       "      <td>3.0</td>\n",
       "      <td>2021-01-31 18:19:43.233765</td>\n",
       "    </tr>\n",
       "  </tbody>\n",
       "</table>\n",
       "</div>"
      ],
      "text/plain": [
       "                 dTime    dTimeUTC                aTime    aTimeUTC airlines  \\\n",
       "0  2021-02-01 15:00:00  1612188000  2021-02-01 16:25:00  1612193100       UX   \n",
       "1  2021-02-01 09:35:00  1612168500  2021-02-01 10:50:00  1612173000       VY   \n",
       "2  2021-02-01 19:45:00  1612205100  2021-02-01 21:05:00  1612209900       IB   \n",
       "3  2021-02-01 19:15:00  1612203300  2021-02-02 08:50:00  1612252200       UX   \n",
       "4  2021-02-01 14:50:00  1612187400  2021-02-02 08:50:00  1612252200       UX   \n",
       "\n",
       "  fly_duration flyFrom cityFrom cityCodeFrom flyTo     cityTo cityCodeTo  \\\n",
       "0       1h 25m     MAD   Madrid          MAD   BCN  Barcelona        BCN   \n",
       "1       1h 15m     MAD   Madrid          MAD   BCN  Barcelona        BCN   \n",
       "2       1h 20m     MAD   Madrid          MAD   BCN  Barcelona        BCN   \n",
       "3      13h 35m     MAD   Madrid          MAD   BCN  Barcelona        BCN   \n",
       "4       18h 0m     MAD   Madrid          MAD   BCN  Barcelona        BCN   \n",
       "\n",
       "   distance  price       route countryFrom countryTo  flight_no  seats  \\\n",
       "0    483.25     78  MAD -> BCN       Spain     Spain       7703    NaN   \n",
       "1    483.25     91  MAD -> BCN       Spain     Spain       1003    NaN   \n",
       "2    483.25     91  MAD -> BCN       Spain     Spain       1946    5.0   \n",
       "3    483.25    108  MAD -> BCN       Spain     Spain       6097    3.0   \n",
       "4    483.25    112  MAD -> BCN       Spain     Spain       6067    3.0   \n",
       "\n",
       "               collectionDate  \n",
       "0  2021-01-31 18:19:43.233765  \n",
       "1  2021-01-31 18:19:43.233765  \n",
       "2  2021-01-31 18:19:43.233765  \n",
       "3  2021-01-31 18:19:43.233765  \n",
       "4  2021-01-31 18:19:43.233765  "
      ]
     },
     "execution_count": 4,
     "metadata": {},
     "output_type": "execute_result"
    }
   ],
   "source": [
    "flights.head()"
   ]
  },
  {
   "cell_type": "markdown",
   "metadata": {},
   "source": [
    "### Preparing columns"
   ]
  },
  {
   "cell_type": "markdown",
   "metadata": {},
   "source": [
    "Split 'datetime' columns into 'date' and 'time' separate ones."
   ]
  },
  {
   "cell_type": "code",
   "execution_count": 5,
   "metadata": {},
   "outputs": [],
   "source": [
    "flights['dDate'] = flights['dTime'].apply(lambda x: x.split(' ')[0])\n",
    "flights['dTime'] = flights['dTime'].apply(lambda x: x.split(' ')[1][:5])\n",
    "flights['aDate'] = flights['aTime'].apply(lambda x: x.split(' ')[0])\n",
    "flights['aTime'] = flights['aTime'].apply(lambda x: x.split(' ')[1][:5])"
   ]
  },
  {
   "cell_type": "code",
   "execution_count": 6,
   "metadata": {},
   "outputs": [],
   "source": [
    "flights['dTimeUTC'] = flights['dTimeUTC'].apply(lambda x: datetime.utcfromtimestamp(x))\n",
    "flights['aTimeUTC'] = flights['aTimeUTC'].apply(lambda x: datetime.utcfromtimestamp(x))"
   ]
  },
  {
   "cell_type": "code",
   "execution_count": 7,
   "metadata": {},
   "outputs": [],
   "source": [
    "flights['collectionDate'] = flights['collectionDate'].apply(lambda x: x.split(' ')[0])"
   ]
  },
  {
   "cell_type": "code",
   "execution_count": 8,
   "metadata": {},
   "outputs": [
    {
     "data": {
      "text/html": [
       "<div>\n",
       "<style scoped>\n",
       "    .dataframe tbody tr th:only-of-type {\n",
       "        vertical-align: middle;\n",
       "    }\n",
       "\n",
       "    .dataframe tbody tr th {\n",
       "        vertical-align: top;\n",
       "    }\n",
       "\n",
       "    .dataframe thead th {\n",
       "        text-align: right;\n",
       "    }\n",
       "</style>\n",
       "<table border=\"1\" class=\"dataframe\">\n",
       "  <thead>\n",
       "    <tr style=\"text-align: right;\">\n",
       "      <th></th>\n",
       "      <th>collectionDate</th>\n",
       "      <th>dDate</th>\n",
       "      <th>dTime</th>\n",
       "      <th>aDate</th>\n",
       "      <th>aTime</th>\n",
       "      <th>dTimeUTC</th>\n",
       "      <th>aTimeUTC</th>\n",
       "    </tr>\n",
       "  </thead>\n",
       "  <tbody>\n",
       "    <tr>\n",
       "      <th>0</th>\n",
       "      <td>2021-01-31</td>\n",
       "      <td>2021-02-01</td>\n",
       "      <td>15:00</td>\n",
       "      <td>2021-02-01</td>\n",
       "      <td>16:25</td>\n",
       "      <td>2021-02-01 14:00:00</td>\n",
       "      <td>2021-02-01 15:25:00</td>\n",
       "    </tr>\n",
       "    <tr>\n",
       "      <th>1</th>\n",
       "      <td>2021-01-31</td>\n",
       "      <td>2021-02-01</td>\n",
       "      <td>09:35</td>\n",
       "      <td>2021-02-01</td>\n",
       "      <td>10:50</td>\n",
       "      <td>2021-02-01 08:35:00</td>\n",
       "      <td>2021-02-01 09:50:00</td>\n",
       "    </tr>\n",
       "    <tr>\n",
       "      <th>2</th>\n",
       "      <td>2021-01-31</td>\n",
       "      <td>2021-02-01</td>\n",
       "      <td>19:45</td>\n",
       "      <td>2021-02-01</td>\n",
       "      <td>21:05</td>\n",
       "      <td>2021-02-01 18:45:00</td>\n",
       "      <td>2021-02-01 20:05:00</td>\n",
       "    </tr>\n",
       "    <tr>\n",
       "      <th>3</th>\n",
       "      <td>2021-01-31</td>\n",
       "      <td>2021-02-01</td>\n",
       "      <td>19:15</td>\n",
       "      <td>2021-02-02</td>\n",
       "      <td>08:50</td>\n",
       "      <td>2021-02-01 18:15:00</td>\n",
       "      <td>2021-02-02 07:50:00</td>\n",
       "    </tr>\n",
       "    <tr>\n",
       "      <th>4</th>\n",
       "      <td>2021-01-31</td>\n",
       "      <td>2021-02-01</td>\n",
       "      <td>14:50</td>\n",
       "      <td>2021-02-02</td>\n",
       "      <td>08:50</td>\n",
       "      <td>2021-02-01 13:50:00</td>\n",
       "      <td>2021-02-02 07:50:00</td>\n",
       "    </tr>\n",
       "  </tbody>\n",
       "</table>\n",
       "</div>"
      ],
      "text/plain": [
       "  collectionDate       dDate  dTime       aDate  aTime            dTimeUTC  \\\n",
       "0     2021-01-31  2021-02-01  15:00  2021-02-01  16:25 2021-02-01 14:00:00   \n",
       "1     2021-01-31  2021-02-01  09:35  2021-02-01  10:50 2021-02-01 08:35:00   \n",
       "2     2021-01-31  2021-02-01  19:45  2021-02-01  21:05 2021-02-01 18:45:00   \n",
       "3     2021-01-31  2021-02-01  19:15  2021-02-02  08:50 2021-02-01 18:15:00   \n",
       "4     2021-01-31  2021-02-01  14:50  2021-02-02  08:50 2021-02-01 13:50:00   \n",
       "\n",
       "             aTimeUTC  \n",
       "0 2021-02-01 15:25:00  \n",
       "1 2021-02-01 09:50:00  \n",
       "2 2021-02-01 20:05:00  \n",
       "3 2021-02-02 07:50:00  \n",
       "4 2021-02-02 07:50:00  "
      ]
     },
     "execution_count": 8,
     "metadata": {},
     "output_type": "execute_result"
    }
   ],
   "source": [
    "flights[['collectionDate','dDate', 'dTime', 'aDate', 'aTime', 'dTimeUTC', 'aTimeUTC']].head()"
   ]
  },
  {
   "cell_type": "code",
   "execution_count": 9,
   "metadata": {},
   "outputs": [
    {
     "data": {
      "text/plain": [
       "0           1h 25m\n",
       "1           1h 15m\n",
       "2           1h 20m\n",
       "3          13h 35m\n",
       "4           18h 0m\n",
       "            ...   \n",
       "1312163     9h 10m\n",
       "1312164     5h 35m\n",
       "1312165     13h 0m\n",
       "1312166    20h 25m\n",
       "1312167    20h 30m\n",
       "Name: fly_duration, Length: 1312168, dtype: object"
      ]
     },
     "execution_count": 9,
     "metadata": {},
     "output_type": "execute_result"
    }
   ],
   "source": [
    "flights['fly_duration']"
   ]
  },
  {
   "cell_type": "code",
   "execution_count": 10,
   "metadata": {},
   "outputs": [],
   "source": [
    "def duration_to_numeric(duration):\n",
    "    \"\"\" Fly duration string to float in hours \"\"\"\n",
    "    hours = float(duration.split(' ')[0][:-1])\n",
    "    minutes = float(duration.split(' ')[1][:-1])\n",
    "    return hours + minutes/60"
   ]
  },
  {
   "cell_type": "code",
   "execution_count": 11,
   "metadata": {},
   "outputs": [],
   "source": [
    "flights['fly_duration'] = flights['fly_duration'].apply(duration_to_numeric)"
   ]
  },
  {
   "cell_type": "code",
   "execution_count": 12,
   "metadata": {},
   "outputs": [],
   "source": [
    "# Removing duplicates\n",
    "flights.drop_duplicates(inplace=True)"
   ]
  },
  {
   "cell_type": "code",
   "execution_count": 13,
   "metadata": {},
   "outputs": [],
   "source": [
    "# reordering cols\n",
    "columns = ['collectionDate','dDate', 'dTime', 'aDate', 'aTime', 'dTimeUTC', 'aTimeUTC',\n",
    "           'flyFrom', 'flyTo', 'airlines', 'flight_no', 'fly_duration', 'distance', 'route',\n",
    "           'price','seats', 'cityFrom', 'cityCodeFrom', 'cityTo', 'cityCodeTo', 'countryFrom', \n",
    "           'countryTo']"
   ]
  },
  {
   "cell_type": "code",
   "execution_count": 14,
   "metadata": {},
   "outputs": [],
   "source": [
    "flights = flights[columns]"
   ]
  },
  {
   "cell_type": "code",
   "execution_count": 15,
   "metadata": {},
   "outputs": [
    {
     "data": {
      "text/html": [
       "<div>\n",
       "<style scoped>\n",
       "    .dataframe tbody tr th:only-of-type {\n",
       "        vertical-align: middle;\n",
       "    }\n",
       "\n",
       "    .dataframe tbody tr th {\n",
       "        vertical-align: top;\n",
       "    }\n",
       "\n",
       "    .dataframe thead th {\n",
       "        text-align: right;\n",
       "    }\n",
       "</style>\n",
       "<table border=\"1\" class=\"dataframe\">\n",
       "  <thead>\n",
       "    <tr style=\"text-align: right;\">\n",
       "      <th></th>\n",
       "      <th>collectionDate</th>\n",
       "      <th>dDate</th>\n",
       "      <th>dTime</th>\n",
       "      <th>aDate</th>\n",
       "      <th>aTime</th>\n",
       "      <th>dTimeUTC</th>\n",
       "      <th>aTimeUTC</th>\n",
       "      <th>flyFrom</th>\n",
       "      <th>flyTo</th>\n",
       "      <th>airlines</th>\n",
       "      <th>...</th>\n",
       "      <th>distance</th>\n",
       "      <th>route</th>\n",
       "      <th>price</th>\n",
       "      <th>seats</th>\n",
       "      <th>cityFrom</th>\n",
       "      <th>cityCodeFrom</th>\n",
       "      <th>cityTo</th>\n",
       "      <th>cityCodeTo</th>\n",
       "      <th>countryFrom</th>\n",
       "      <th>countryTo</th>\n",
       "    </tr>\n",
       "  </thead>\n",
       "  <tbody>\n",
       "    <tr>\n",
       "      <th>0</th>\n",
       "      <td>2021-01-31</td>\n",
       "      <td>2021-02-01</td>\n",
       "      <td>15:00</td>\n",
       "      <td>2021-02-01</td>\n",
       "      <td>16:25</td>\n",
       "      <td>2021-02-01 14:00:00</td>\n",
       "      <td>2021-02-01 15:25:00</td>\n",
       "      <td>MAD</td>\n",
       "      <td>BCN</td>\n",
       "      <td>UX</td>\n",
       "      <td>...</td>\n",
       "      <td>483.25</td>\n",
       "      <td>MAD -&gt; BCN</td>\n",
       "      <td>78</td>\n",
       "      <td>NaN</td>\n",
       "      <td>Madrid</td>\n",
       "      <td>MAD</td>\n",
       "      <td>Barcelona</td>\n",
       "      <td>BCN</td>\n",
       "      <td>Spain</td>\n",
       "      <td>Spain</td>\n",
       "    </tr>\n",
       "    <tr>\n",
       "      <th>1</th>\n",
       "      <td>2021-01-31</td>\n",
       "      <td>2021-02-01</td>\n",
       "      <td>09:35</td>\n",
       "      <td>2021-02-01</td>\n",
       "      <td>10:50</td>\n",
       "      <td>2021-02-01 08:35:00</td>\n",
       "      <td>2021-02-01 09:50:00</td>\n",
       "      <td>MAD</td>\n",
       "      <td>BCN</td>\n",
       "      <td>VY</td>\n",
       "      <td>...</td>\n",
       "      <td>483.25</td>\n",
       "      <td>MAD -&gt; BCN</td>\n",
       "      <td>91</td>\n",
       "      <td>NaN</td>\n",
       "      <td>Madrid</td>\n",
       "      <td>MAD</td>\n",
       "      <td>Barcelona</td>\n",
       "      <td>BCN</td>\n",
       "      <td>Spain</td>\n",
       "      <td>Spain</td>\n",
       "    </tr>\n",
       "    <tr>\n",
       "      <th>2</th>\n",
       "      <td>2021-01-31</td>\n",
       "      <td>2021-02-01</td>\n",
       "      <td>19:45</td>\n",
       "      <td>2021-02-01</td>\n",
       "      <td>21:05</td>\n",
       "      <td>2021-02-01 18:45:00</td>\n",
       "      <td>2021-02-01 20:05:00</td>\n",
       "      <td>MAD</td>\n",
       "      <td>BCN</td>\n",
       "      <td>IB</td>\n",
       "      <td>...</td>\n",
       "      <td>483.25</td>\n",
       "      <td>MAD -&gt; BCN</td>\n",
       "      <td>91</td>\n",
       "      <td>5.0</td>\n",
       "      <td>Madrid</td>\n",
       "      <td>MAD</td>\n",
       "      <td>Barcelona</td>\n",
       "      <td>BCN</td>\n",
       "      <td>Spain</td>\n",
       "      <td>Spain</td>\n",
       "    </tr>\n",
       "    <tr>\n",
       "      <th>3</th>\n",
       "      <td>2021-01-31</td>\n",
       "      <td>2021-02-01</td>\n",
       "      <td>19:15</td>\n",
       "      <td>2021-02-02</td>\n",
       "      <td>08:50</td>\n",
       "      <td>2021-02-01 18:15:00</td>\n",
       "      <td>2021-02-02 07:50:00</td>\n",
       "      <td>MAD</td>\n",
       "      <td>BCN</td>\n",
       "      <td>UX</td>\n",
       "      <td>...</td>\n",
       "      <td>483.25</td>\n",
       "      <td>MAD -&gt; BCN</td>\n",
       "      <td>108</td>\n",
       "      <td>3.0</td>\n",
       "      <td>Madrid</td>\n",
       "      <td>MAD</td>\n",
       "      <td>Barcelona</td>\n",
       "      <td>BCN</td>\n",
       "      <td>Spain</td>\n",
       "      <td>Spain</td>\n",
       "    </tr>\n",
       "    <tr>\n",
       "      <th>4</th>\n",
       "      <td>2021-01-31</td>\n",
       "      <td>2021-02-01</td>\n",
       "      <td>14:50</td>\n",
       "      <td>2021-02-02</td>\n",
       "      <td>08:50</td>\n",
       "      <td>2021-02-01 13:50:00</td>\n",
       "      <td>2021-02-02 07:50:00</td>\n",
       "      <td>MAD</td>\n",
       "      <td>BCN</td>\n",
       "      <td>UX</td>\n",
       "      <td>...</td>\n",
       "      <td>483.25</td>\n",
       "      <td>MAD -&gt; BCN</td>\n",
       "      <td>112</td>\n",
       "      <td>3.0</td>\n",
       "      <td>Madrid</td>\n",
       "      <td>MAD</td>\n",
       "      <td>Barcelona</td>\n",
       "      <td>BCN</td>\n",
       "      <td>Spain</td>\n",
       "      <td>Spain</td>\n",
       "    </tr>\n",
       "  </tbody>\n",
       "</table>\n",
       "<p>5 rows × 22 columns</p>\n",
       "</div>"
      ],
      "text/plain": [
       "  collectionDate       dDate  dTime       aDate  aTime            dTimeUTC  \\\n",
       "0     2021-01-31  2021-02-01  15:00  2021-02-01  16:25 2021-02-01 14:00:00   \n",
       "1     2021-01-31  2021-02-01  09:35  2021-02-01  10:50 2021-02-01 08:35:00   \n",
       "2     2021-01-31  2021-02-01  19:45  2021-02-01  21:05 2021-02-01 18:45:00   \n",
       "3     2021-01-31  2021-02-01  19:15  2021-02-02  08:50 2021-02-01 18:15:00   \n",
       "4     2021-01-31  2021-02-01  14:50  2021-02-02  08:50 2021-02-01 13:50:00   \n",
       "\n",
       "             aTimeUTC flyFrom flyTo airlines  ...  distance       route  \\\n",
       "0 2021-02-01 15:25:00     MAD   BCN       UX  ...    483.25  MAD -> BCN   \n",
       "1 2021-02-01 09:50:00     MAD   BCN       VY  ...    483.25  MAD -> BCN   \n",
       "2 2021-02-01 20:05:00     MAD   BCN       IB  ...    483.25  MAD -> BCN   \n",
       "3 2021-02-02 07:50:00     MAD   BCN       UX  ...    483.25  MAD -> BCN   \n",
       "4 2021-02-02 07:50:00     MAD   BCN       UX  ...    483.25  MAD -> BCN   \n",
       "\n",
       "   price seats  cityFrom  cityCodeFrom     cityTo cityCodeTo countryFrom  \\\n",
       "0     78   NaN    Madrid           MAD  Barcelona        BCN       Spain   \n",
       "1     91   NaN    Madrid           MAD  Barcelona        BCN       Spain   \n",
       "2     91   5.0    Madrid           MAD  Barcelona        BCN       Spain   \n",
       "3    108   3.0    Madrid           MAD  Barcelona        BCN       Spain   \n",
       "4    112   3.0    Madrid           MAD  Barcelona        BCN       Spain   \n",
       "\n",
       "  countryTo  \n",
       "0     Spain  \n",
       "1     Spain  \n",
       "2     Spain  \n",
       "3     Spain  \n",
       "4     Spain  \n",
       "\n",
       "[5 rows x 22 columns]"
      ]
     },
     "execution_count": 15,
     "metadata": {},
     "output_type": "execute_result"
    }
   ],
   "source": [
    "flights.head()"
   ]
  },
  {
   "cell_type": "markdown",
   "metadata": {},
   "source": [
    "### Selecting just performed flights"
   ]
  },
  {
   "cell_type": "code",
   "execution_count": 16,
   "metadata": {},
   "outputs": [],
   "source": [
    "def get_perfomed_flights(flights):\n",
    "    departure_dates = pd.to_datetime(flights['dDate'])\n",
    "    max_collection_day = pd.to_datetime(flights['collectionDate']).max()                    \n",
    "    pf = flights[departure_dates <= max_collection_day]\n",
    "    return pf"
   ]
  },
  {
   "cell_type": "code",
   "execution_count": 17,
   "metadata": {},
   "outputs": [],
   "source": [
    "pf = get_perfomed_flights(flights)"
   ]
  },
  {
   "cell_type": "markdown",
   "metadata": {},
   "source": [
    "### Creating traning and test datasets"
   ]
  },
  {
   "cell_type": "code",
   "execution_count": 18,
   "metadata": {},
   "outputs": [],
   "source": [
    "def split_data(df, test_size=0.2):\n",
    "    \"\"\" Split data into train and test sets. \"\"\"\n",
    "    \n",
    "    flight_dates = pd.to_datetime(df['dDate'])\n",
    "    #df['collectionDate'] = pd.to_datetime(pd.to_datetime(df['collectionDate']))\n",
    "\n",
    "    # number of days\n",
    "    days_timedelta = flight_dates.max()-flight_dates.min()\n",
    "    n_days = days_timedelta.days\n",
    "    # date where spliting\n",
    "    split_idx = int( n_days * (1-test_size)+2)\n",
    "    \n",
    "    split_date = flight_dates.min() + timedelta(days=split_idx)\n",
    "    train = df[flight_dates <= split_date]\n",
    "    test = df[flight_dates > split_date]\n",
    "    \n",
    "    return train, test"
   ]
  },
  {
   "cell_type": "code",
   "execution_count": 19,
   "metadata": {},
   "outputs": [
    {
     "data": {
      "text/plain": [
       "((115484, 22), (36981, 22))"
      ]
     },
     "execution_count": 19,
     "metadata": {},
     "output_type": "execute_result"
    }
   ],
   "source": [
    "train, test = split_data(pf, test_size=0.2)\n",
    "train.shape, test.shape"
   ]
  },
  {
   "cell_type": "code",
   "execution_count": 20,
   "metadata": {},
   "outputs": [
    {
     "data": {
      "text/plain": [
       "24.255402879349358"
      ]
     },
     "execution_count": 20,
     "metadata": {},
     "output_type": "execute_result"
    }
   ],
   "source": [
    "test.shape[0]/pf.shape[0]*100"
   ]
  },
  {
   "cell_type": "markdown",
   "metadata": {},
   "source": [
    "### Storing data for exploratory data analysis"
   ]
  },
  {
   "cell_type": "code",
   "execution_count": 21,
   "metadata": {},
   "outputs": [],
   "source": [
    "#flights.to_csv('../data/interim/flights_interim.csv', index=False)\n",
    "train.to_csv('../data/interim/train.csv', index=False)\n",
    "test.to_csv('../data/interim/test.csv', index=False)"
   ]
  },
  {
   "cell_type": "code",
   "execution_count": null,
   "metadata": {},
   "outputs": [],
   "source": []
  }
 ],
 "metadata": {
  "kernelspec": {
   "display_name": "Python 3",
   "language": "python",
   "name": "python3"
  },
  "language_info": {
   "codemirror_mode": {
    "name": "ipython",
    "version": 3
   },
   "file_extension": ".py",
   "mimetype": "text/x-python",
   "name": "python",
   "nbconvert_exporter": "python",
   "pygments_lexer": "ipython3",
   "version": "3.9.1"
  }
 },
 "nbformat": 4,
 "nbformat_minor": 4
}
