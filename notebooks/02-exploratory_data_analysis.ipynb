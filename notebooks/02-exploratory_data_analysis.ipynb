{
 "cells": [
  {
   "cell_type": "markdown",
   "id": "fe1b4193",
   "metadata": {},
   "source": [
    "# 02 - Exploratory Data Analysis"
   ]
  },
  {
   "cell_type": "markdown",
   "id": "2a28c20c",
   "metadata": {},
   "source": [
    "In this notebook we will explore the data. Our goal is to predict whether or not the price of a flight will drop in the future to assist travelers in purchasing airline tickets. In this exploration of the data the plan is to try to understand the trends that flight prices follow over time and to discover the features that influence them.\n",
    "\n",
    "1. Load data\n",
    "2. Feature overview\n",
    "3. Missing values\n",
    "4. Feature Analysis\n",
    "5. Price Over Time\n",
    "6. Conclusions"
   ]
  },
  {
   "cell_type": "code",
   "execution_count": 1,
   "id": "6cf0c322",
   "metadata": {},
   "outputs": [],
   "source": [
    "import pandas as pd\n",
    "import numpy as np\n",
    "import matplotlib.pyplot as plt\n",
    "import matplotlib.ticker as ticker\n",
    "import seaborn as sns\n",
    "from scipy import stats\n",
    "from datetime import datetime"
   ]
  },
  {
   "cell_type": "code",
   "execution_count": 2,
   "id": "820cd774",
   "metadata": {},
   "outputs": [],
   "source": [
    "sns.set_context('notebook')\n",
    "sns.set_palette('deep')\n",
    "import warnings\n",
    "warnings.filterwarnings('ignore')"
   ]
  },
  {
   "cell_type": "markdown",
   "id": "a16d891f",
   "metadata": {},
   "source": [
    "### Load data"
   ]
  },
  {
   "cell_type": "code",
   "execution_count": 3,
   "id": "13ed0f82",
   "metadata": {},
   "outputs": [
    {
     "ename": "ParserError",
     "evalue": "Error tokenizing data. C error: Calling read(nbytes) on source failed. Try engine='python'.",
     "output_type": "error",
     "traceback": [
      "\u001b[0;31m---------------------------------------------------------------------------\u001b[0m",
      "\u001b[0;31mParserError\u001b[0m                               Traceback (most recent call last)",
      "\u001b[0;32m<ipython-input-3-6642eaf88667>\u001b[0m in \u001b[0;36m<module>\u001b[0;34m\u001b[0m\n\u001b[0;32m----> 1\u001b[0;31m \u001b[0mflights\u001b[0m \u001b[0;34m=\u001b[0m \u001b[0mpd\u001b[0m\u001b[0;34m.\u001b[0m\u001b[0mread_csv\u001b[0m\u001b[0;34m(\u001b[0m\u001b[0;34m'../data/interim/flights_interim.csv'\u001b[0m\u001b[0;34m)\u001b[0m\u001b[0;34m\u001b[0m\u001b[0;34m\u001b[0m\u001b[0m\n\u001b[0m\u001b[1;32m      2\u001b[0m \u001b[0mflights\u001b[0m \u001b[0;34m=\u001b[0m \u001b[0mflights\u001b[0m\u001b[0;34m.\u001b[0m\u001b[0msample\u001b[0m\u001b[0;34m(\u001b[0m\u001b[0;36m2000000\u001b[0m\u001b[0;34m)\u001b[0m\u001b[0;34m\u001b[0m\u001b[0;34m\u001b[0m\u001b[0m\n\u001b[1;32m      3\u001b[0m \u001b[0mflights\u001b[0m\u001b[0;34m.\u001b[0m\u001b[0mshape\u001b[0m\u001b[0;34m\u001b[0m\u001b[0;34m\u001b[0m\u001b[0m\n",
      "\u001b[0;32m~/miniconda3/envs/tfm/lib/python3.9/site-packages/pandas/io/parsers.py\u001b[0m in \u001b[0;36mread_csv\u001b[0;34m(filepath_or_buffer, sep, delimiter, header, names, index_col, usecols, squeeze, prefix, mangle_dupe_cols, dtype, engine, converters, true_values, false_values, skipinitialspace, skiprows, skipfooter, nrows, na_values, keep_default_na, na_filter, verbose, skip_blank_lines, parse_dates, infer_datetime_format, keep_date_col, date_parser, dayfirst, cache_dates, iterator, chunksize, compression, thousands, decimal, lineterminator, quotechar, quoting, doublequote, escapechar, comment, encoding, dialect, error_bad_lines, warn_bad_lines, delim_whitespace, low_memory, memory_map, float_precision, storage_options)\u001b[0m\n\u001b[1;32m    608\u001b[0m     \u001b[0mkwds\u001b[0m\u001b[0;34m.\u001b[0m\u001b[0mupdate\u001b[0m\u001b[0;34m(\u001b[0m\u001b[0mkwds_defaults\u001b[0m\u001b[0;34m)\u001b[0m\u001b[0;34m\u001b[0m\u001b[0;34m\u001b[0m\u001b[0m\n\u001b[1;32m    609\u001b[0m \u001b[0;34m\u001b[0m\u001b[0m\n\u001b[0;32m--> 610\u001b[0;31m     \u001b[0;32mreturn\u001b[0m \u001b[0m_read\u001b[0m\u001b[0;34m(\u001b[0m\u001b[0mfilepath_or_buffer\u001b[0m\u001b[0;34m,\u001b[0m \u001b[0mkwds\u001b[0m\u001b[0;34m)\u001b[0m\u001b[0;34m\u001b[0m\u001b[0;34m\u001b[0m\u001b[0m\n\u001b[0m\u001b[1;32m    611\u001b[0m \u001b[0;34m\u001b[0m\u001b[0m\n\u001b[1;32m    612\u001b[0m \u001b[0;34m\u001b[0m\u001b[0m\n",
      "\u001b[0;32m~/miniconda3/envs/tfm/lib/python3.9/site-packages/pandas/io/parsers.py\u001b[0m in \u001b[0;36m_read\u001b[0;34m(filepath_or_buffer, kwds)\u001b[0m\n\u001b[1;32m    466\u001b[0m \u001b[0;34m\u001b[0m\u001b[0m\n\u001b[1;32m    467\u001b[0m     \u001b[0;32mwith\u001b[0m \u001b[0mparser\u001b[0m\u001b[0;34m:\u001b[0m\u001b[0;34m\u001b[0m\u001b[0;34m\u001b[0m\u001b[0m\n\u001b[0;32m--> 468\u001b[0;31m         \u001b[0;32mreturn\u001b[0m \u001b[0mparser\u001b[0m\u001b[0;34m.\u001b[0m\u001b[0mread\u001b[0m\u001b[0;34m(\u001b[0m\u001b[0mnrows\u001b[0m\u001b[0;34m)\u001b[0m\u001b[0;34m\u001b[0m\u001b[0;34m\u001b[0m\u001b[0m\n\u001b[0m\u001b[1;32m    469\u001b[0m \u001b[0;34m\u001b[0m\u001b[0m\n\u001b[1;32m    470\u001b[0m \u001b[0;34m\u001b[0m\u001b[0m\n",
      "\u001b[0;32m~/miniconda3/envs/tfm/lib/python3.9/site-packages/pandas/io/parsers.py\u001b[0m in \u001b[0;36mread\u001b[0;34m(self, nrows)\u001b[0m\n\u001b[1;32m   1055\u001b[0m     \u001b[0;32mdef\u001b[0m \u001b[0mread\u001b[0m\u001b[0;34m(\u001b[0m\u001b[0mself\u001b[0m\u001b[0;34m,\u001b[0m \u001b[0mnrows\u001b[0m\u001b[0;34m=\u001b[0m\u001b[0;32mNone\u001b[0m\u001b[0;34m)\u001b[0m\u001b[0;34m:\u001b[0m\u001b[0;34m\u001b[0m\u001b[0;34m\u001b[0m\u001b[0m\n\u001b[1;32m   1056\u001b[0m         \u001b[0mnrows\u001b[0m \u001b[0;34m=\u001b[0m \u001b[0mvalidate_integer\u001b[0m\u001b[0;34m(\u001b[0m\u001b[0;34m\"nrows\"\u001b[0m\u001b[0;34m,\u001b[0m \u001b[0mnrows\u001b[0m\u001b[0;34m)\u001b[0m\u001b[0;34m\u001b[0m\u001b[0;34m\u001b[0m\u001b[0m\n\u001b[0;32m-> 1057\u001b[0;31m         \u001b[0mindex\u001b[0m\u001b[0;34m,\u001b[0m \u001b[0mcolumns\u001b[0m\u001b[0;34m,\u001b[0m \u001b[0mcol_dict\u001b[0m \u001b[0;34m=\u001b[0m \u001b[0mself\u001b[0m\u001b[0;34m.\u001b[0m\u001b[0m_engine\u001b[0m\u001b[0;34m.\u001b[0m\u001b[0mread\u001b[0m\u001b[0;34m(\u001b[0m\u001b[0mnrows\u001b[0m\u001b[0;34m)\u001b[0m\u001b[0;34m\u001b[0m\u001b[0;34m\u001b[0m\u001b[0m\n\u001b[0m\u001b[1;32m   1058\u001b[0m \u001b[0;34m\u001b[0m\u001b[0m\n\u001b[1;32m   1059\u001b[0m         \u001b[0;32mif\u001b[0m \u001b[0mindex\u001b[0m \u001b[0;32mis\u001b[0m \u001b[0;32mNone\u001b[0m\u001b[0;34m:\u001b[0m\u001b[0;34m\u001b[0m\u001b[0;34m\u001b[0m\u001b[0m\n",
      "\u001b[0;32m~/miniconda3/envs/tfm/lib/python3.9/site-packages/pandas/io/parsers.py\u001b[0m in \u001b[0;36mread\u001b[0;34m(self, nrows)\u001b[0m\n\u001b[1;32m   2059\u001b[0m     \u001b[0;32mdef\u001b[0m \u001b[0mread\u001b[0m\u001b[0;34m(\u001b[0m\u001b[0mself\u001b[0m\u001b[0;34m,\u001b[0m \u001b[0mnrows\u001b[0m\u001b[0;34m=\u001b[0m\u001b[0;32mNone\u001b[0m\u001b[0;34m)\u001b[0m\u001b[0;34m:\u001b[0m\u001b[0;34m\u001b[0m\u001b[0;34m\u001b[0m\u001b[0m\n\u001b[1;32m   2060\u001b[0m         \u001b[0;32mtry\u001b[0m\u001b[0;34m:\u001b[0m\u001b[0;34m\u001b[0m\u001b[0;34m\u001b[0m\u001b[0m\n\u001b[0;32m-> 2061\u001b[0;31m             \u001b[0mdata\u001b[0m \u001b[0;34m=\u001b[0m \u001b[0mself\u001b[0m\u001b[0;34m.\u001b[0m\u001b[0m_reader\u001b[0m\u001b[0;34m.\u001b[0m\u001b[0mread\u001b[0m\u001b[0;34m(\u001b[0m\u001b[0mnrows\u001b[0m\u001b[0;34m)\u001b[0m\u001b[0;34m\u001b[0m\u001b[0;34m\u001b[0m\u001b[0m\n\u001b[0m\u001b[1;32m   2062\u001b[0m         \u001b[0;32mexcept\u001b[0m \u001b[0mStopIteration\u001b[0m\u001b[0;34m:\u001b[0m\u001b[0;34m\u001b[0m\u001b[0;34m\u001b[0m\u001b[0m\n\u001b[1;32m   2063\u001b[0m             \u001b[0;32mif\u001b[0m \u001b[0mself\u001b[0m\u001b[0;34m.\u001b[0m\u001b[0m_first_chunk\u001b[0m\u001b[0;34m:\u001b[0m\u001b[0;34m\u001b[0m\u001b[0;34m\u001b[0m\u001b[0m\n",
      "\u001b[0;32mpandas/_libs/parsers.pyx\u001b[0m in \u001b[0;36mpandas._libs.parsers.TextReader.read\u001b[0;34m()\u001b[0m\n",
      "\u001b[0;32mpandas/_libs/parsers.pyx\u001b[0m in \u001b[0;36mpandas._libs.parsers.TextReader._read_low_memory\u001b[0;34m()\u001b[0m\n",
      "\u001b[0;32mpandas/_libs/parsers.pyx\u001b[0m in \u001b[0;36mpandas._libs.parsers.TextReader._read_rows\u001b[0;34m()\u001b[0m\n",
      "\u001b[0;32mpandas/_libs/parsers.pyx\u001b[0m in \u001b[0;36mpandas._libs.parsers.TextReader._tokenize_rows\u001b[0;34m()\u001b[0m\n",
      "\u001b[0;32mpandas/_libs/parsers.pyx\u001b[0m in \u001b[0;36mpandas._libs.parsers.raise_parser_error\u001b[0;34m()\u001b[0m\n",
      "\u001b[0;31mParserError\u001b[0m: Error tokenizing data. C error: Calling read(nbytes) on source failed. Try engine='python'."
     ]
    }
   ],
   "source": [
    "flights = pd.read_csv('../data/interim/flights_interim.csv')\n",
    "flights = flights.sample(2000000)\n",
    "flights.shape"
   ]
  },
  {
   "cell_type": "code",
   "execution_count": null,
   "id": "d1535e43",
   "metadata": {},
   "outputs": [],
   "source": [
    "flights.head()"
   ]
  },
  {
   "cell_type": "code",
   "execution_count": null,
   "id": "5fc6ea49",
   "metadata": {},
   "outputs": [],
   "source": [
    "# Data transformations needed for some visualization:\n",
    "flights['orig-dest'] = flights['flyFrom'] +'-'+ flights['flyTo']\n",
    "flights['airline'] = flights['airlines'].str.split(',').apply(lambda x: x[0])\n",
    "flights['flight_no'] = flights['airline']+''+flights['flight_no'].astype(str)"
   ]
  },
  {
   "cell_type": "markdown",
   "id": "6a711925",
   "metadata": {},
   "source": [
    "### Features Overview"
   ]
  },
  {
   "cell_type": "code",
   "execution_count": null,
   "id": "de7fe96a",
   "metadata": {},
   "outputs": [],
   "source": [
    "flights.columns"
   ]
  },
  {
   "cell_type": "markdown",
   "id": "bdb1aed3",
   "metadata": {},
   "source": [
    "Features:\n",
    "* **price**: airline ticket fare\n",
    "* **collectionDate**: date flight data was taken\n",
    "* **dDate**: departure day\n",
    "* **dTime**: departure time\n",
    "* **aDate**: arrival day\n",
    "* **aTime**: arrival time\n",
    "* **dTimeUTC**, **aTimeUTC**: departure and arrival time in UTC timezone\n",
    "* **flyFrom**: origin airport IATA code\n",
    "* **flyTo**: destination airport IATA code\n",
    "* **airline**: self-explanatory\n",
    "* **flight_no**: identification plain number\n",
    "* **fly_duration**, **distance**: self-explanatory\n",
    "* **route**: airports through the flight passes\n",
    "* **seats**: availability\n",
    "* **cityFrom**, **cityCodeFrom**, **cityTo**, **cityCodeTo**: different id's for the origin and destination cities\n",
    "* **countryFrom**, **countryTo**: origin and dest countries"
   ]
  },
  {
   "cell_type": "markdown",
   "id": "8da54b30",
   "metadata": {},
   "source": [
    "**Numerical**: distance, fly_duration, seats, price\n",
    "\\\n",
    "**Categorical**: flyFrom, flyTo, airlines, route"
   ]
  },
  {
   "cell_type": "markdown",
   "id": "bd2a5d76",
   "metadata": {},
   "source": [
    "Descriptive summary of the numerical features"
   ]
  },
  {
   "cell_type": "code",
   "execution_count": null,
   "id": "17cbbca9",
   "metadata": {},
   "outputs": [],
   "source": [
    "flights[['distance', 'fly_duration', 'seats','price']].describe()"
   ]
  },
  {
   "cell_type": "markdown",
   "id": "56346c20",
   "metadata": {},
   "source": [
    "### Missing Values"
   ]
  },
  {
   "cell_type": "code",
   "execution_count": null,
   "id": "b9aa0813",
   "metadata": {},
   "outputs": [],
   "source": [
    "flights.isna().sum()"
   ]
  },
  {
   "cell_type": "markdown",
   "id": "2611ca68",
   "metadata": {},
   "source": [
    "* 'seats' column has many missing values. Probably we will have to drop it."
   ]
  },
  {
   "cell_type": "markdown",
   "id": "74a41859",
   "metadata": {},
   "source": [
    "## Feature Analysis"
   ]
  },
  {
   "cell_type": "markdown",
   "id": "0aeeef97",
   "metadata": {},
   "source": [
    "### Price"
   ]
  },
  {
   "cell_type": "markdown",
   "id": "15a1229d",
   "metadata": {},
   "source": [
    "Price is one of the key features for our purpose. Let's start by looking at how it is distributed."
   ]
  },
  {
   "cell_type": "code",
   "execution_count": null,
   "id": "772e4441",
   "metadata": {},
   "outputs": [],
   "source": [
    "f, axes = plt.subplots(1, 2, figsize=(12,5))\n",
    "\n",
    "# plot price hist\n",
    "sns.histplot(x='price', data=flights, kde=False, bins=50, ax=axes[0]);\n",
    "axes[0].set_title('Price Histogram')\n",
    "\n",
    "# plot log transform price hist\n",
    "flights['log_price'] = np.log(flights['price'])\n",
    "sns.histplot(x='log_price', data=flights, kde=False, bins=50, ax=axes[1]);\n",
    "axes[1].set_title('Log-Price Histogram')\n",
    "\n",
    "sns.despine(offset=5)\n",
    "plt.tight_layout()"
   ]
  },
  {
   "cell_type": "markdown",
   "id": "e68a3497",
   "metadata": {},
   "source": [
    "* 'price' follows a exponential distribution and has many high values that skew to the right its distribution. \n",
    "* We have also plotted the price log-transformed.\n",
    "* As we can see, 'log_price' aproximate a bit better to a normal distribution."
   ]
  },
  {
   "cell_type": "markdown",
   "id": "0565d58a",
   "metadata": {},
   "source": [
    "Let's see how price distribution changes according to the route:"
   ]
  },
  {
   "cell_type": "code",
   "execution_count": null,
   "id": "0e1f374d",
   "metadata": {},
   "outputs": [],
   "source": [
    "# Price distribution per route\n",
    "sns.displot(\n",
    "    flights, x=\"log_price\", col=\"orig-dest\", col_wrap=5, kind='hist',\n",
    "    binwidth=0.2, height=3\n",
    ");\n",
    "plt.tight_layout()"
   ]
  },
  {
   "cell_type": "markdown",
   "id": "5bf93ee7",
   "metadata": {},
   "source": [
    "* As we can expect, some routes are more placed to the left (cheaper routes) and other to the right (more expensive routes).\n",
    "* It seems that long-distance routes as 'MAD-MEX' (Madrid-Mexico) has narrower distribution than short-distance ones. "
   ]
  },
  {
   "cell_type": "markdown",
   "id": "0bfeff27",
   "metadata": {},
   "source": [
    "And how does the price vary according to the route? Let's have a look"
   ]
  },
  {
   "cell_type": "code",
   "execution_count": null,
   "id": "c0734179",
   "metadata": {},
   "outputs": [],
   "source": [
    "plt.figure(figsize=(14, 5))\n",
    "sns.boxplot(x='orig-dest', y='log_price', data=flights);\n",
    "sns.despine(offset=10)\n",
    "plt.title('Log-Price by route', fontsize=14);"
   ]
  },
  {
   "cell_type": "markdown",
   "id": "9ca5abe8",
   "metadata": {},
   "source": [
    "* As expected, longest routes have more expensive fares\n",
    "* Many outliers"
   ]
  },
  {
   "cell_type": "markdown",
   "id": "08a72b12",
   "metadata": {},
   "source": [
    "### CollectionDate"
   ]
  },
  {
   "cell_type": "markdown",
   "id": "7383ea2f",
   "metadata": {},
   "source": [
    "This date feature represents the day that data was collected. \n",
    "\\\n",
    "We can use this variable to compute a new 'Days until departure' numerical variable using this column and departure date colunm."
   ]
  },
  {
   "cell_type": "code",
   "execution_count": null,
   "id": "0d3739b0",
   "metadata": {},
   "outputs": [],
   "source": [
    "flights['collectionDate'].head()"
   ]
  },
  {
   "cell_type": "code",
   "execution_count": null,
   "id": "dd3ba506",
   "metadata": {},
   "outputs": [],
   "source": [
    "flights['collectionDate'].nunique(), flights['collectionDate'].min(), flights['collectionDate'].max()"
   ]
  },
  {
   "cell_type": "markdown",
   "id": "de6ad4c9",
   "metadata": {},
   "source": [
    "* We have 76 days of data collected\n",
    "* From Jan 31 to April 19"
   ]
  },
  {
   "cell_type": "markdown",
   "id": "45b2cc27",
   "metadata": {},
   "source": [
    "### FlyFrom, FlyTo"
   ]
  },
  {
   "cell_type": "markdown",
   "id": "1cb38e44",
   "metadata": {},
   "source": [
    "We have collected flights from 10 routes:"
   ]
  },
  {
   "cell_type": "code",
   "execution_count": null,
   "id": "cb742aad",
   "metadata": {},
   "outputs": [],
   "source": [
    "routes = flights['flyFrom'] +'-'+ flights['flyTo']"
   ]
  },
  {
   "cell_type": "code",
   "execution_count": null,
   "id": "10be4574",
   "metadata": {},
   "outputs": [],
   "source": [
    "routes.unique()"
   ]
  },
  {
   "cell_type": "code",
   "execution_count": null,
   "id": "5edfd895",
   "metadata": {},
   "outputs": [],
   "source": [
    "plt.figure(figsize=(14,5))\n",
    "sns.countplot(x='orig-dest', data=flights)\n",
    "sns.despine(offset=10);\n",
    "plt.xticks(rotation=0);"
   ]
  },
  {
   "cell_type": "markdown",
   "id": "e2e746fc",
   "metadata": {},
   "source": [
    "* MAD-JFK (Madrid-New York) and MAD-MEX (Madrid-Mexico City) are the busiest routes. The rest of them have a similar traffic."
   ]
  },
  {
   "cell_type": "markdown",
   "id": "17da6ded",
   "metadata": {},
   "source": [
    "### Airlines"
   ]
  },
  {
   "cell_type": "code",
   "execution_count": null,
   "id": "0e35ff30",
   "metadata": {},
   "outputs": [],
   "source": [
    "flights[['airlines', 'route']].head()"
   ]
  },
  {
   "cell_type": "markdown",
   "id": "d289f78c",
   "metadata": {},
   "source": [
    "* Airlines column show the carrier that manage a given flight. Hopping flights have more than one airline if there are diferent airlines in the itinerary."
   ]
  },
  {
   "cell_type": "code",
   "execution_count": null,
   "id": "39d913fe",
   "metadata": {},
   "outputs": [],
   "source": [
    "flights['airline'].nunique()"
   ]
  },
  {
   "cell_type": "markdown",
   "id": "1cc29c86",
   "metadata": {},
   "source": [
    "There are 131 airlines in our dataset. Let's plot the top 40 busiest airline."
   ]
  },
  {
   "cell_type": "code",
   "execution_count": null,
   "id": "7d2fc423",
   "metadata": {},
   "outputs": [],
   "source": [
    "airlines_counts = flights.groupby('airline')['airline'].count()\n",
    "busiest_airlines = airlines_counts.sort_values(ascending=False).head(40)\n",
    "\n",
    "# plot\n",
    "plt.figure(figsize=(14,5))\n",
    "sns.barplot(x=busiest_airlines.index, y=busiest_airlines, palette='Blues_r')\n",
    "plt.title('Number of Flights by\\nTop 40 Busiest Airlines', fontsize=16)\n",
    "plt.xlabel('Airline');\n",
    "plt.ylabel('Number of Flights')\n",
    "sns.despine(offset=10)\n",
    "plt.tight_layout()"
   ]
  },
  {
   "cell_type": "markdown",
   "id": "c14c8cc5",
   "metadata": {},
   "source": [
    "* Iberia (IB) is the airline with more flights in our dataset. Follow by Vueling (VY), KLM (KL), Air Europa (UX) and TAP Air Portugal (TP)"
   ]
  },
  {
   "cell_type": "code",
   "execution_count": null,
   "id": "5a799f8f",
   "metadata": {},
   "outputs": [],
   "source": [
    "n_airlines = flights.groupby('orig-dest')['airline'].nunique().sort_values(ascending=False).reset_index()\n",
    "n_airlines"
   ]
  },
  {
   "cell_type": "code",
   "execution_count": null,
   "id": "982de619",
   "metadata": {},
   "outputs": [],
   "source": [
    "plt.figure(figsize=(10,5))\n",
    "sns.barplot(x='airline', y='orig-dest', data=n_airlines, palette='Blues_r');\n",
    "plt.title('Number of Airlines Operating in Each Route', fontsize=16)\n",
    "plt.xlabel('Number of Airlines');\n",
    "plt.ylabel('Route')\n",
    "sns.despine(offset=10)"
   ]
  },
  {
   "cell_type": "markdown",
   "id": "237f6a14",
   "metadata": {},
   "source": [
    "* MAD-MEX and MAD-JFK are the routes with the largest number of different airlines operating on them.\n",
    "* In general, more airlines operate on international routes."
   ]
  },
  {
   "cell_type": "markdown",
   "id": "24d6f63e",
   "metadata": {},
   "source": [
    "### Flight_no"
   ]
  },
  {
   "cell_type": "code",
   "execution_count": null,
   "id": "2e565475",
   "metadata": {},
   "outputs": [],
   "source": [
    "flights['flight_no'].head()"
   ]
  },
  {
   "cell_type": "markdown",
   "id": "2c4b0a6c",
   "metadata": {},
   "source": [
    "* It seeams that 'flight_no' identifies a unique plain. "
   ]
  },
  {
   "cell_type": "code",
   "execution_count": null,
   "id": "4f8cfcc5",
   "metadata": {},
   "outputs": [],
   "source": [
    "flights.groupby('flight_no')['orig-dest'].nunique().sort_values(ascending=False).head(5)"
   ]
  },
  {
   "cell_type": "markdown",
   "id": "f408cd3c",
   "metadata": {},
   "source": [
    "* There 'flight_no' values for more than one route. This means plains not always operates in the same itinerary.\n",
    "* Probably we will drop this feature."
   ]
  },
  {
   "cell_type": "markdown",
   "id": "c1e194db",
   "metadata": {},
   "source": [
    "### Fly_duration"
   ]
  },
  {
   "cell_type": "markdown",
   "id": "502d1588",
   "metadata": {},
   "source": [
    "This feature represents the duration of the flight in hours."
   ]
  },
  {
   "cell_type": "code",
   "execution_count": null,
   "id": "c55df1ec",
   "metadata": {},
   "outputs": [],
   "source": [
    "flights['fly_duration'].head()"
   ]
  },
  {
   "cell_type": "code",
   "execution_count": null,
   "id": "f8543461",
   "metadata": {},
   "outputs": [],
   "source": [
    "sns.histplot(flights['fly_duration'], bins=50);\n",
    "sns.despine(offset=10)"
   ]
  },
  {
   "cell_type": "code",
   "execution_count": null,
   "id": "427e6ac2",
   "metadata": {},
   "outputs": [],
   "source": [
    "# fly_duration distribution for route\n",
    "sns.displot(\n",
    "    flights, x=\"fly_duration\", col=\"orig-dest\", col_wrap=5, kind='hist',\n",
    "    binwidth=1, height=3\n",
    ");\n",
    "plt.tight_layout()"
   ]
  },
  {
   "cell_type": "markdown",
   "id": "94fc62ae",
   "metadata": {},
   "source": [
    "* It seems that there are variability in the fly_duration variable even in flights on the same route.\n",
    "* We can notice that in some routes a considerable number of flights concentreates in some point on the left side. These are probable direct flights."
   ]
  },
  {
   "cell_type": "code",
   "execution_count": null,
   "id": "91695cf2",
   "metadata": {},
   "outputs": [],
   "source": [
    "# Direct flights\n",
    "flights['hops'] = flights['route'].apply(lambda x: len(x.split('->')) - 2)\n",
    "flights['direct'] = flights['hops'] == 0"
   ]
  },
  {
   "cell_type": "code",
   "execution_count": null,
   "id": "e4d73402",
   "metadata": {},
   "outputs": [],
   "source": [
    "# There are observations with wrong column due an error during collection. We'll drop them.\n",
    "\n",
    "split_date = datetime.strptime('2021-02-24', '%Y-%m-%d')\n",
    "broken = pd.to_datetime(flights['collectionDate']) < split_date"
   ]
  },
  {
   "cell_type": "code",
   "execution_count": null,
   "id": "e0eeffb5",
   "metadata": {},
   "outputs": [],
   "source": [
    "# Price distribution for route\n",
    "g = sns.displot(\n",
    "    flights[~broken], x=\"fly_duration\", col=\"orig-dest\", col_wrap=5, kind='hist',\n",
    "    binwidth=1, height=3, hue='direct', facet_kws={\"legend_out\": True}\n",
    ");\n",
    "plt.tight_layout()"
   ]
  },
  {
   "cell_type": "markdown",
   "id": "e77338c4",
   "metadata": {},
   "source": [
    "* Now we can clearly distinguish between direct flights and flights with hopping in the fly_duration distributions now"
   ]
  },
  {
   "cell_type": "markdown",
   "id": "19166397",
   "metadata": {},
   "source": [
    "### Distance"
   ]
  },
  {
   "cell_type": "code",
   "execution_count": null,
   "id": "2dc07384",
   "metadata": {},
   "outputs": [],
   "source": [
    "flights['distance'].unique()"
   ]
  },
  {
   "cell_type": "markdown",
   "id": "97740f11",
   "metadata": {},
   "source": [
    "* Distance is fixed for each route. It is the geographical distance between the two airports."
   ]
  },
  {
   "cell_type": "code",
   "execution_count": null,
   "id": "1ed5bfde",
   "metadata": {},
   "outputs": [],
   "source": [
    "route_distances = flights.groupby('orig-dest')['distance'].mean().reset_index()\n",
    "pal = sns.color_palette(\"Blues_r\", len(route_distances))\n",
    "rank = route_distances[\"distance\"].argsort().argsort() \n",
    "\n",
    "plt.figure(figsize=(14,5))\n",
    "g = sns.barplot(y='orig-dest', x='distance', data=route_distances, palette=np.array(pal[::-1])[rank]);\n",
    "\n",
    "# values text\n",
    "for index, row in route_distances.iterrows():\n",
    "    g.text(row['distance']+550, index+0.13, str(round(row['distance'],2))+' km' , color='black', ha=\"center\")\n",
    "\n",
    "plt.title('Distance between origin and destination by route', fontsize=14)\n",
    "sns.despine(offset=10, bottom=True)\n",
    "\n",
    "# remove x axis\n",
    "plt.xticks([])\n",
    "plt.xlabel(None)\n",
    "plt.ylabel(None)\n",
    "\n",
    "# scale y ticks\n",
    "plt.yticks(fontsize=14);"
   ]
  },
  {
   "cell_type": "markdown",
   "id": "74c7782c",
   "metadata": {},
   "source": [
    "### Route"
   ]
  },
  {
   "cell_type": "code",
   "execution_count": null,
   "id": "157fa239",
   "metadata": {},
   "outputs": [],
   "source": [
    "flights['route']"
   ]
  },
  {
   "cell_type": "markdown",
   "id": "1000cdc6",
   "metadata": {},
   "source": [
    "* This variable shows the hops in a flight route between origin and destination\n",
    "* We can use this to create a new columns that computes the number of hops"
   ]
  },
  {
   "cell_type": "code",
   "execution_count": null,
   "id": "87723300",
   "metadata": {},
   "outputs": [],
   "source": [
    "sns.countplot(flights['hops']);\n",
    "sns.despine(trim=False, offset=0)"
   ]
  },
  {
   "cell_type": "markdown",
   "id": "e46df166",
   "metadata": {},
   "source": [
    "Most of the flights are direct. Are direct flights cheaper?"
   ]
  },
  {
   "cell_type": "code",
   "execution_count": null,
   "id": "1dbb6d90",
   "metadata": {},
   "outputs": [],
   "source": [
    "sns.boxplot(x='hops', y='log_price', data=flights, showfliers=False);\n",
    "sns.despine(offset=10)"
   ]
  },
  {
   "cell_type": "code",
   "execution_count": null,
   "id": "609b90bd",
   "metadata": {},
   "outputs": [],
   "source": [
    "plt.figure(figsize=(18,5))\n",
    "sns.boxplot(x='orig-dest', y='log_price', data=flights, hue='hops', showfliers=False);\n",
    "sns.despine(offset=10)"
   ]
  },
  {
   "cell_type": "markdown",
   "id": "9328aa7a",
   "metadata": {},
   "source": [
    "* It seems that it is. In general, direct flights are the cheapest.\n",
    "* The difference between direct and non-direct is greater in short-distance route as 'BCN-PMI' or 'MAD-BCN'\n",
    "* In long distance routes this difference is smaller. Even in one route ('MAD-MEX') direct flights are a bit expensive than flights with 2 or more stops."
   ]
  },
  {
   "cell_type": "markdown",
   "id": "025e9566",
   "metadata": {},
   "source": [
    "### Seats"
   ]
  },
  {
   "cell_type": "markdown",
   "id": "dcc5b3c2",
   "metadata": {},
   "source": [
    "Available seats in the flight? It is not clear what means this variable. Moreover, it has many drop values so it is a great candidate to drop it."
   ]
  },
  {
   "cell_type": "code",
   "execution_count": null,
   "id": "44110985",
   "metadata": {},
   "outputs": [],
   "source": [
    "flights['seats'].isna().sum()"
   ]
  },
  {
   "cell_type": "code",
   "execution_count": null,
   "id": "f8cc33ab",
   "metadata": {},
   "outputs": [],
   "source": [
    "flights['seats'].isna().sum() / flights.shape[0]"
   ]
  },
  {
   "cell_type": "markdown",
   "id": "324f5c57",
   "metadata": {},
   "source": [
    "* This column has many NaN values (21.19%)"
   ]
  },
  {
   "cell_type": "code",
   "execution_count": null,
   "id": "b79b7fa8",
   "metadata": {},
   "outputs": [],
   "source": [
    "sns.countplot(flights['seats']);\n",
    "sns.despine(offset=10)"
   ]
  },
  {
   "cell_type": "code",
   "execution_count": null,
   "id": "e1e18629",
   "metadata": {},
   "outputs": [],
   "source": [
    "sns.boxplot(x='seats', y='log_price', data=flights);\n",
    "sns.despine(offset=10)"
   ]
  },
  {
   "cell_type": "markdown",
   "id": "4d38dd3f",
   "metadata": {},
   "source": [
    "* There does not appear to be any correlation between seats and price. Except for value 7 which seems to have a slightly higher price."
   ]
  },
  {
   "cell_type": "markdown",
   "id": "c7addaf6",
   "metadata": {},
   "source": [
    "## Price over time"
   ]
  },
  {
   "cell_type": "markdown",
   "id": "6bd6e045",
   "metadata": {},
   "source": [
    "Now that we have taken a look at each of the relevant features of the dataset, let's focus on the main objective of this project. Let's see how the price evolves over time until the day of departure of the flight.\n",
    "\\\n",
    "We use the first quantile when aggregating data, since we are more interested in low flights fares."
   ]
  },
  {
   "cell_type": "code",
   "execution_count": null,
   "id": "9f0d18f1",
   "metadata": {},
   "outputs": [],
   "source": [
    "grouped = flights.groupby('collectionDate')['price'].mean().reset_index()\n",
    "\n",
    "plt.figure(figsize=(20,5))\n",
    "f = sns.lineplot(x='collectionDate', y='price', data=grouped);\n",
    "f.xaxis.set_major_locator(ticker.LinearLocator(10))\n",
    "plt.xticks(rotation=0);\n",
    "sns.despine(offset=0)\n",
    "plt.xlabel('Day of Data Collection');\n",
    "plt.ylabel('Price')\n",
    "plt.title('Price Over Time', fontsize=16);"
   ]
  },
  {
   "cell_type": "markdown",
   "id": "62ff5b64",
   "metadata": {},
   "source": [
    "* As the graph shows, prices rise throughout the month of March and are higher than during April or February. \n",
    "* Price decreases seems occur at the end of the month. As we do not have more data we cannot conclude if this is an isolated case (COVID third wave in March) or happens more often throughout the year."
   ]
  },
  {
   "cell_type": "markdown",
   "id": "33291a98",
   "metadata": {},
   "source": [
    "Now let's see how price evolves by route:"
   ]
  },
  {
   "cell_type": "code",
   "execution_count": null,
   "id": "57254d14",
   "metadata": {},
   "outputs": [],
   "source": [
    "grouped = flights.groupby(['orig-dest','collectionDate'])['log_price'].quantile(.25).reset_index()\n",
    "\n",
    "plt.figure(figsize=(14,8));\n",
    "g = sns.FacetGrid(grouped, col=\"orig-dest\", col_wrap=5);\n",
    "g.map(sns.lineplot, \"collectionDate\", \"log_price\");\n",
    "plt.xticks([]);"
   ]
  },
  {
   "cell_type": "markdown",
   "id": "aff10b90",
   "metadata": {},
   "source": [
    "* There are quite a few routes where the price does not vary so much.\n",
    "* Route MAD-JFK appears to have some degree of seasonality. We cannot confirm this with so little data\n",
    "* Route BCN-PMI has a steep drop in price during March."
   ]
  },
  {
   "cell_type": "markdown",
   "id": "7fa5f7ec",
   "metadata": {},
   "source": [
    "We can't use 'collectionDate' as a feature since we want to make prediction with new days. So let's create a new numeric variable called 'days_until_dep' to group the flights according to how many days left before the departure of the flight. This way we can see how the price changes with time."
   ]
  },
  {
   "cell_type": "code",
   "execution_count": null,
   "id": "c61e5759",
   "metadata": {},
   "outputs": [],
   "source": [
    "def add_days_until_dep_feature(df):\n",
    "    \"\"\" Remaining days until flight departure \"\"\"\n",
    "    collected = pd.to_datetime(df['collectionDate'])\n",
    "    departure =  pd.to_datetime(df['dDate'])\n",
    "    daysUntilDep = departure - collected\n",
    "    df['days_until_dep'] = daysUntilDep.dt.days\n",
    "    return df"
   ]
  },
  {
   "cell_type": "code",
   "execution_count": null,
   "id": "69ae7e6b",
   "metadata": {},
   "outputs": [],
   "source": [
    "flights = add_days_until_dep_feature(flights)"
   ]
  },
  {
   "cell_type": "code",
   "execution_count": null,
   "id": "fcbafcce",
   "metadata": {},
   "outputs": [],
   "source": [
    "plt.figure(figsize=(12,5))\n",
    "sns.lineplot(x='days_until_dep', y='log_price', data=flights);\n",
    "sns.despine(offset=0);\n",
    "plt.ylabel('Price')\n",
    "plt.xlabel('Days Until Departure');"
   ]
  },
  {
   "cell_type": "markdown",
   "id": "eb4fd1be",
   "metadata": {},
   "source": [
    "* Generally the price decreases until around 50 days until departure and then start increasing."
   ]
  },
  {
   "cell_type": "markdown",
   "id": "09c214e3",
   "metadata": {},
   "source": [
    "Now we will try to group the data using different features to find which ones affect the flight price trend the most."
   ]
  },
  {
   "cell_type": "markdown",
   "id": "9ab57cbb",
   "metadata": {},
   "source": [
    "### Route"
   ]
  },
  {
   "cell_type": "code",
   "execution_count": null,
   "id": "ec3a0db8",
   "metadata": {},
   "outputs": [],
   "source": [
    "grouped = flights.groupby(['orig-dest','days_until_dep'])['log_price'].quantile(.25).reset_index()\n",
    "\n",
    "plt.figure(figsize=(14,8));\n",
    "g = sns.FacetGrid(grouped, col=\"orig-dest\", col_wrap=5);\n",
    "g.map(sns.lineplot, \"days_until_dep\", \"log_price\");\n",
    "g.fig.suptitle('Price trends by route', fontsize=18);\n",
    "plt.tight_layout()"
   ]
  },
  {
   "cell_type": "markdown",
   "id": "8b7fff5d",
   "metadata": {},
   "source": [
    "* The 'orig-dest' feature is one of the features that most affects the price of a flight as well as the trend it follows. Also since we only have 10 different routes it is one of the main categories we will use to aggregate the flights."
   ]
  },
  {
   "cell_type": "code",
   "execution_count": null,
   "id": "6d9ffc79",
   "metadata": {},
   "outputs": [],
   "source": [
    "plt.figure(figsize=(14,5));\n",
    "sns.boxplot(x='orig-dest', y='log_price', data=grouped, showfliers=False);\n",
    "sns.despine(offset=10);\n",
    "plt.ylabel('Price')\n",
    "plt.xlabel('Route');\n",
    "plt.title('Prices grouped by days until departure on each route', fontsize=16);"
   ]
  },
  {
   "cell_type": "markdown",
   "id": "37ef7e4a",
   "metadata": {},
   "source": [
    "* Price variance is not uniform through all routes. So maybe we can expect that the model will generate more savings (percentage) on one route than another since the greater the price difference, the more room for the price to go down."
   ]
  },
  {
   "cell_type": "markdown",
   "id": "ffd14a50",
   "metadata": {},
   "source": [
    "### Airline"
   ]
  },
  {
   "cell_type": "markdown",
   "id": "8cc41cad",
   "metadata": {},
   "source": [
    "There 152 airlines in our dataset so let's just plot top 10 most frequent airlines from all the flights."
   ]
  },
  {
   "cell_type": "code",
   "execution_count": null,
   "id": "b69beda7",
   "metadata": {},
   "outputs": [],
   "source": [
    "top10_airlines = flights.groupby(['airline'])['price'].count().sort_values(ascending=False)[:10].index\n",
    "top10_flights = flights[flights['airline'].isin(top10_airlines)]\n",
    "grouped = top10_flights.groupby(['airline','days_until_dep'])['log_price'].quantile(.25).reset_index()\n",
    "\n",
    "plt.figure(figsize=(14,8));\n",
    "g = sns.FacetGrid(grouped, col=\"airline\", col_wrap=5);\n",
    "g.map(sns.lineplot, \"days_until_dep\", \"log_price\");\n",
    "g.fig.suptitle('Price trends by airline (TOP 10)', fontsize=18);\n",
    "plt.tight_layout()"
   ]
  },
  {
   "cell_type": "code",
   "execution_count": null,
   "id": "a5685866",
   "metadata": {},
   "outputs": [],
   "source": [
    "plt.figure(figsize=(14,5));\n",
    "sns.boxplot(x='airline', y='log_price', data=grouped, showfliers=False);\n",
    "sns.despine(offset=10);\n",
    "plt.ylabel('Price')\n",
    "plt.xlabel('Airline');\n",
    "plt.title('Prices grouped by days until departure on each top10 airline', fontsize=16);"
   ]
  },
  {
   "cell_type": "markdown",
   "id": "c332f672",
   "metadata": {},
   "source": [
    "* Similar to 'orig-dest', there are many differences on how vary prices as the days go by until the departure of the flight."
   ]
  },
  {
   "cell_type": "markdown",
   "id": "76eb7121",
   "metadata": {},
   "source": [
    "Now we combine both 'orig-dest' and 'airline'"
   ]
  },
  {
   "cell_type": "code",
   "execution_count": null,
   "id": "c362a125",
   "metadata": {},
   "outputs": [],
   "source": [
    "top3_airlines = flights.groupby(['airline'])['price'].count().sort_values(ascending=False)[:3].index\n",
    "top3_flights = flights[flights['airline'].isin(top3_airlines)]\n",
    "grouped = top3_flights.groupby(['orig-dest', 'airline','days_until_dep'])['log_price'].quantile(.25).reset_index()\n",
    "\n",
    "plt.figure(figsize=(14,8));\n",
    "g = sns.FacetGrid(grouped, col=\"orig-dest\", col_wrap=5, hue='airline');\n",
    "g.map(sns.lineplot, \"days_until_dep\", \"log_price\");\n",
    "g.fig.suptitle('Price trends by airline (TOP 3) on each route', fontsize=18);\n",
    "plt.tight_layout()"
   ]
  },
  {
   "cell_type": "code",
   "execution_count": null,
   "id": "e1235c18",
   "metadata": {},
   "outputs": [],
   "source": [
    "plt.figure(figsize=(20,5));\n",
    "sns.boxplot(x='orig-dest', y='log_price', data=grouped, showfliers=False, hue='airline');\n",
    "sns.despine(offset=10);\n",
    "plt.ylabel('Price')\n",
    "plt.xlabel('Route');\n",
    "plt.title('Prices variance according to the days until departure on top3 airlines on each route', fontsize=16);\n",
    "[plt.axvline(x, color = 'grey', linestyle='--') for x in [0.5,1.5,2.5,3.5, 4.5,5.5, 6.5, 7.5,8.5]];\n"
   ]
  },
  {
   "cell_type": "markdown",
   "id": "fd662596",
   "metadata": {},
   "source": [
    "Even within each route the prices of each airline act differently. So it is a factor that we should take into account to predict whether the price will go down in the future. Since we have so many airlines we have to take into account that this will add many variables to the model."
   ]
  },
  {
   "cell_type": "markdown",
   "id": "ea14a961",
   "metadata": {},
   "source": [
    "### Adding new features"
   ]
  },
  {
   "cell_type": "markdown",
   "id": "8cecf63c",
   "metadata": {},
   "source": [
    "### Day of week"
   ]
  },
  {
   "cell_type": "markdown",
   "id": "26466d9d",
   "metadata": {},
   "source": [
    "Day of the week of flight departure"
   ]
  },
  {
   "cell_type": "code",
   "execution_count": null,
   "id": "fd860647",
   "metadata": {},
   "outputs": [],
   "source": [
    "## Create 'day_of_week' feature\n",
    "days_of_week = {5:'Monday', 6:'Tuesday', 0:'Wednesday', 1:'Thursday', 2:'Friday', 3:'Saturday', 4:'Sunday'}\n",
    "flights['day_of_week'] = pd.to_datetime(flights['dDate']).dt.weekday.map(days_of_week)"
   ]
  },
  {
   "cell_type": "code",
   "execution_count": null,
   "id": "f146f39a",
   "metadata": {},
   "outputs": [],
   "source": [
    "mad_ny = flights[flights['orig-dest'] == 'MAD-JFK']\n",
    "grouped = mad_ny.groupby(['orig-dest', 'day_of_week', 'days_until_dep'])['price'].quantile(.25).reset_index()\n",
    "\n",
    "plt.figure(figsize=(14,8));\n",
    "g = sns.FacetGrid(grouped, col=\"day_of_week\", col_wrap=4);\n",
    "g.map(sns.lineplot, \"days_until_dep\", \"price\");\n",
    "g.fig.suptitle('Price trends by weekday on MAD-JFK', fontsize=18);\n",
    "plt.tight_layout()\n"
   ]
  },
  {
   "cell_type": "code",
   "execution_count": null,
   "id": "65b88475",
   "metadata": {},
   "outputs": [],
   "source": [
    "plt.figure(figsize=(20,5));\n",
    "grouped = flights.groupby(['orig-dest', 'day_of_week', 'days_until_dep'])['log_price'].quantile(.25).reset_index()\n",
    "sns.boxplot(x='orig-dest', y='log_price', data=grouped, showfliers=False, hue='day_of_week',\n",
    "            hue_order=['Monday', 'Tuesday', 'Wednesday', 'Thursday', 'Friday', 'Saturday', 'Sunday']);\n",
    "sns.despine(offset=10);\n",
    "plt.ylabel('Price')\n",
    "plt.xlabel('Route');\n",
    "plt.title('Prices by Session on each route', fontsize=16);\n",
    "[plt.axvline(x, color = 'grey', linestyle='--') for x in [0.5,1.5,2.5,3.5, 4.5,5.5, 6.5, 7.5,8.5]];\n",
    "plt.legend(bbox_to_anchor=(1.05, 1), loc=2, borderaxespad=0.)"
   ]
  },
  {
   "cell_type": "markdown",
   "id": "fc1be11b",
   "metadata": {},
   "source": [
    "* It seems that day_of_week has less impact in price trend than airline and orig-dest"
   ]
  },
  {
   "cell_type": "markdown",
   "id": "566d0ad8",
   "metadata": {},
   "source": [
    "### Session"
   ]
  },
  {
   "cell_type": "markdown",
   "id": "c0b60c31",
   "metadata": {},
   "source": [
    "Time of the flight departure day categorized as 'morning', 'evening', 'night'"
   ]
  },
  {
   "cell_type": "code",
   "execution_count": null,
   "id": "067ae199",
   "metadata": {},
   "outputs": [],
   "source": [
    "# create 'session' feature from dTime\n",
    "flights['session'] = pd.cut(pd.to_datetime(flights['dTime']), bins=3, labels=['night', 'morning', 'evening'])"
   ]
  },
  {
   "cell_type": "code",
   "execution_count": null,
   "id": "1fe25d0f",
   "metadata": {},
   "outputs": [],
   "source": [
    "grouped = flights.groupby(['orig-dest', 'session', 'days_until_dep'])['log_price'].quantile(.25).reset_index()\n",
    "\n",
    "plt.figure(figsize=(14,8));\n",
    "g = sns.FacetGrid(grouped, col=\"orig-dest\", col_wrap=5, hue='session');\n",
    "g.map(sns.lineplot, \"days_until_dep\", \"log_price\");\n",
    "g.fig.suptitle('Price trends by session', fontsize=18);\n",
    "plt.tight_layout()\n",
    "plt.legend();"
   ]
  },
  {
   "cell_type": "markdown",
   "id": "6761e6a0",
   "metadata": {},
   "source": [
    "* On some routes the session seems irrelevant to the price trend but on others differences are noticeable."
   ]
  },
  {
   "cell_type": "code",
   "execution_count": null,
   "id": "9a0e7a81",
   "metadata": {},
   "outputs": [],
   "source": [
    "plt.figure(figsize=(20,5));\n",
    "sns.boxplot(x='orig-dest', y='log_price', data=grouped, showfliers=False, hue='session');\n",
    "sns.despine(offset=10);\n",
    "plt.ylabel('Price')\n",
    "plt.xlabel('Route');\n",
    "plt.title('Prices by Session on each route', fontsize=16);\n",
    "[plt.axvline(x, color = 'grey', linestyle='--') for x in [0.5,1.5,2.5,3.5, 4.5,5.5, 6.5, 7.5,8.5]];"
   ]
  },
  {
   "cell_type": "markdown",
   "id": "88788465",
   "metadata": {},
   "source": [
    "* Prices are higher at evenings flights, less expensive at night, mornings flights are the cheapest\n",
    "* Session seems a good candidate for aggregate data, also it has only three categories so we don't add much complexity to the model."
   ]
  },
  {
   "cell_type": "markdown",
   "id": "0ab4e41a",
   "metadata": {},
   "source": [
    "### Day of month"
   ]
  },
  {
   "cell_type": "code",
   "execution_count": null,
   "id": "bc4c5430",
   "metadata": {},
   "outputs": [],
   "source": [
    "flights['day_of_month'] = pd.to_datetime(flights['dDate']).apply(lambda departure_date: departure_date.day)\n",
    "flights['daymonth_bins'] = pd.cut(flights['day_of_month'], bins=4)"
   ]
  },
  {
   "cell_type": "code",
   "execution_count": null,
   "id": "1a508d94",
   "metadata": {},
   "outputs": [],
   "source": [
    "grouped = flights.groupby(['daymonth_bins', 'days_until_dep'])['price'].quantile(.25).reset_index()\n",
    "sns.scatterplot(x='days_until_dep', y='price', data=grouped, hue='daymonth_bins');"
   ]
  },
  {
   "cell_type": "code",
   "execution_count": null,
   "id": "c912eb19",
   "metadata": {},
   "outputs": [],
   "source": [
    "grouped = flights.groupby(['orig-dest', 'daymonth_bins', 'days_until_dep'])['log_price'].quantile(.25).reset_index()\n",
    "\n",
    "plt.figure(figsize=(14,8));\n",
    "g = sns.FacetGrid(grouped, col=\"orig-dest\", col_wrap=5, hue='daymonth_bins');\n",
    "g.map(sns.lineplot, \"days_until_dep\", \"log_price\");\n",
    "g.fig.suptitle('Price trends by day_of_month', fontsize=18);\n",
    "plt.tight_layout();\n",
    "plt.legend();"
   ]
  },
  {
   "cell_type": "markdown",
   "id": "fb21a904",
   "metadata": {},
   "source": [
    "* Day of month does not have impact on price trends. So we'll drop it."
   ]
  },
  {
   "cell_type": "markdown",
   "id": "4ac72a3b",
   "metadata": {},
   "source": [
    "## Preliminary features selected for agg. flights: 'orig-dest', 'airline', 'session', 'days_until_dep'"
   ]
  },
  {
   "cell_type": "code",
   "execution_count": null,
   "id": "c5e483ca",
   "metadata": {},
   "outputs": [],
   "source": [
    "grouped = flights.groupby(['orig-dest', 'airline', 'session', 'days_until_dep'])['log_price'].quantile(.25).reset_index()\n",
    "\n",
    "plt.figure(figsize=(14,8));\n",
    "g = sns.FacetGrid(grouped, col=\"orig-dest\", col_wrap=5);\n",
    "g.map(sns.lineplot, \"days_until_dep\", \"log_price\");\n",
    "g.fig.suptitle('Price trends by route', fontsize=18);\n",
    "plt.tight_layout()"
   ]
  },
  {
   "cell_type": "markdown",
   "id": "860bec6a",
   "metadata": {},
   "source": [
    "### Correlation Matrix"
   ]
  },
  {
   "cell_type": "code",
   "execution_count": null,
   "id": "de32d3d3",
   "metadata": {},
   "outputs": [],
   "source": [
    "corr_mat = flights.corr()"
   ]
  },
  {
   "cell_type": "code",
   "execution_count": null,
   "id": "1af9cd87",
   "metadata": {},
   "outputs": [],
   "source": [
    "plt.figure(figsize=(8,8))\n",
    "sns.heatmap(corr_mat, vmin=-1, vmax=1, cmap='RdBu', annot=False);"
   ]
  },
  {
   "cell_type": "markdown",
   "id": "05c9c92e",
   "metadata": {},
   "source": [
    "## Conclusions"
   ]
  },
  {
   "cell_type": "markdown",
   "id": "8d64847d",
   "metadata": {},
   "source": [
    "1. The main factor in the drop in prices is remaining days until departure.\n",
    "2. Airfare varies according to the time of departure. It is higher at evenings and cheaper at mornings/nights"
   ]
  }
 ],
 "metadata": {
  "kernelspec": {
   "display_name": "Python 3",
   "language": "python",
   "name": "python3"
  },
  "language_info": {
   "codemirror_mode": {
    "name": "ipython",
    "version": 3
   },
   "file_extension": ".py",
   "mimetype": "text/x-python",
   "name": "python",
   "nbconvert_exporter": "python",
   "pygments_lexer": "ipython3",
   "version": "3.9.1"
  }
 },
 "nbformat": 4,
 "nbformat_minor": 5
}
