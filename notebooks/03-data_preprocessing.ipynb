{
 "cells": [
  {
   "cell_type": "markdown",
   "id": "75aaea82",
   "metadata": {},
   "source": [
    "# 04 - Feature Engineering and Data Preprocessing\n",
    "In this notebook we will prepare the data for the training of the model. To do so, we will build new features that have already been explored in the previous notebook and group the data. We will also separate the data set between train and test."
   ]
  },
  {
   "cell_type": "markdown",
   "id": "1623c3d3",
   "metadata": {},
   "source": [
    "Steps:\n",
    "1. Load data\n",
    "2. Missing Values and Outliers\n",
    "3. Build features\n",
    "4. Aggregate flights\n",
    "5. Store data for training"
   ]
  },
  {
   "cell_type": "markdown",
   "id": "b66d3002",
   "metadata": {},
   "source": [
    "## Imports"
   ]
  },
  {
   "cell_type": "code",
   "execution_count": 36,
   "id": "666a4b80",
   "metadata": {},
   "outputs": [],
   "source": [
    "import pandas as pd\n",
    "import numpy as np\n",
    "from tqdm import tqdm\n",
    "from datetime import datetime, timedelta\n",
    "tqdm.pandas()\n",
    "\n",
    "import matplotlib.pyplot as plt\n",
    "import seaborn as sns"
   ]
  },
  {
   "cell_type": "code",
   "execution_count": 37,
   "id": "bff3e00a",
   "metadata": {},
   "outputs": [],
   "source": [
    "import warnings\n",
    "warnings.filterwarnings('ignore')"
   ]
  },
  {
   "cell_type": "markdown",
   "id": "47a79b80",
   "metadata": {},
   "source": [
    "## Functions"
   ]
  },
  {
   "cell_type": "code",
   "execution_count": 38,
   "id": "f9d6a811",
   "metadata": {},
   "outputs": [],
   "source": [
    "def add_days_until_dep_feature(df):\n",
    "    \"\"\" Remaining days until flight departure \"\"\"\n",
    "    collected = pd.to_datetime(df['collectionDate'])\n",
    "    departure =  pd.to_datetime(df['dDate'])\n",
    "    daysUntilDep = departure - collected\n",
    "    df['days_until_dep'] = daysUntilDep.dt.days\n",
    "    return df"
   ]
  },
  {
   "cell_type": "code",
   "execution_count": 39,
   "id": "909578e9",
   "metadata": {},
   "outputs": [],
   "source": [
    "def split_data(df, test_days=30):\n",
    "    \"\"\" Split data in train/test set \"\"\"\n",
    "    collection_dates = pd.to_datetime(df['collectionDate'])\n",
    "    departure_dates = pd.to_datetime(df['dDate'])\n",
    "    \n",
    "    split_date = collection_dates.max() - timedelta(days=test_days)\n",
    "    test_idx = (collection_dates >= split_date) & (departure_dates <= collection_dates.max())\n",
    "    test = df[test_idx]\n",
    "    train = df[~test_idx]\n",
    "    return train, test"
   ]
  },
  {
   "cell_type": "code",
   "execution_count": 40,
   "id": "109e9d3e",
   "metadata": {},
   "outputs": [],
   "source": [
    "def q25(x):\n",
    "    \"\"\" Return first quantile of x \"\"\"\n",
    "    return x.quantile(0.25)"
   ]
  },
  {
   "cell_type": "code",
   "execution_count": 41,
   "id": "e23215a1",
   "metadata": {},
   "outputs": [],
   "source": [
    "def get_last_days_q25(row):\n",
    "    \"\"\" Compute first quantile of last x days for each group \"\"\"\n",
    "    list_prices = row['list_prices']\n",
    "    start_idx = row['days_until_dep']\n",
    "    end_idx = start_idx+last_days\n",
    "\n",
    "    last_days_prices = list_prices[start_idx:end_idx]\n",
    "    if last_days_prices == []:\n",
    "        last_days_prices = list_prices[-1]\n",
    "    return np.quantile(last_days_prices, 0.25)"
   ]
  },
  {
   "cell_type": "code",
   "execution_count": 42,
   "id": "df66b0b1",
   "metadata": {},
   "outputs": [],
   "source": [
    "def get_labels(row):\n",
    "    \"\"\" Assign wait or buy label \"\"\"\n",
    "    current_d = row['days_until_dep']\n",
    "    current_price = row[combine_price_feature]\n",
    "    list_prices = np.array(row['list_prices'])\n",
    "    next_days = list_prices[:current_d-1]\n",
    "    if len(next_days) == 0:\n",
    "        return 0\n",
    "    else:\n",
    "        min_price = np.min(next_days)\n",
    "\n",
    "        if min_price < current_price and 1-(min_price/current_price) > min_drop_per:\n",
    "            return 1\n",
    "        else:\n",
    "            return 0"
   ]
  },
  {
   "cell_type": "markdown",
   "id": "abc76a4b",
   "metadata": {},
   "source": [
    "### Config var.\n",
    "\n"
   ]
  },
  {
   "cell_type": "code",
   "execution_count": 43,
   "id": "da3fbe17",
   "metadata": {},
   "outputs": [],
   "source": [
    "# feature to use to combine fare\n",
    "combine_price_feature = 'customPrice'\n",
    "# last days trend to compute customPrice and weight of this trend\n",
    "last_days = 20\n",
    "w = 0.8\n",
    "# percentage of the minimum price drop to take into account to consider it worthwhile to wait\n",
    "min_drop_per = 0.05 \n",
    "# feature used for agg. flights\n",
    "agg_cols = ['orig-dest', 'airline', 'session', 'days_until_dep']"
   ]
  },
  {
   "cell_type": "markdown",
   "id": "dc9efa2d",
   "metadata": {},
   "source": [
    "## 1. Load data"
   ]
  },
  {
   "cell_type": "code",
   "execution_count": 44,
   "id": "f3645da0",
   "metadata": {},
   "outputs": [
    {
     "data": {
      "text/plain": [
       "(1405006, 22)"
      ]
     },
     "execution_count": 44,
     "metadata": {},
     "output_type": "execute_result"
    }
   ],
   "source": [
    "df = pd.read_csv('../data/interim/flights_interim.csv')\n",
    "df.shape"
   ]
  },
  {
   "cell_type": "markdown",
   "id": "3eb50e74",
   "metadata": {},
   "source": [
    "## 2. Missing Values and Outliers"
   ]
  },
  {
   "cell_type": "markdown",
   "id": "fb257163",
   "metadata": {},
   "source": [
    "### Missing values"
   ]
  },
  {
   "cell_type": "code",
   "execution_count": 45,
   "id": "17f8aa11",
   "metadata": {},
   "outputs": [],
   "source": [
    "# remove seats because have many nan values and columns that we do not going to use\n",
    "drop_cols = ['seats', 'dTimeUTC', 'aTimeUTC', 'flight_no',\n",
    "            'cityFrom', 'cityCodeFrom', 'cityTo', 'cityCodeTo', 'countryFrom',\n",
    "             'countryTo']\n",
    "df.drop(drop_cols, axis=1, inplace=True);"
   ]
  },
  {
   "cell_type": "markdown",
   "id": "cc0ecfd7",
   "metadata": {},
   "source": [
    "### Outliers"
   ]
  },
  {
   "cell_type": "code",
   "execution_count": 46,
   "id": "f616a487",
   "metadata": {},
   "outputs": [],
   "source": [
    "Q1 = df['price'].quantile(.25)\n",
    "Q3 = df['price'].quantile(.75)\n",
    "IQR = Q3-Q1\n",
    "# removing prices above IQR * 1.5\n",
    "df = df[df['price'] < IQR*1.5 ]"
   ]
  },
  {
   "cell_type": "markdown",
   "id": "38dad3ce",
   "metadata": {},
   "source": [
    "## 3. Build features"
   ]
  },
  {
   "cell_type": "markdown",
   "id": "60a005e2",
   "metadata": {},
   "source": [
    "Adding the features we have already explored in the previous notebook"
   ]
  },
  {
   "cell_type": "code",
   "execution_count": 47,
   "id": "9d5cc83c",
   "metadata": {},
   "outputs": [],
   "source": [
    "# Adding new features\n",
    "\n",
    "# orig and dest in same column\n",
    "df['orig-dest'] = df['flyFrom']+'-'+df['flyTo']\n",
    "# departure time in three categories: 'morning', 'evening', 'night'\n",
    "df['session'] = pd.cut(pd.to_datetime(df['dTime']), bins=3, labels=['night', 'morning', 'evening'])\n",
    "# Departure day of week\n",
    "days_of_week = {5:'Monday', 6:'Tuesday', 0:'Wednesday', 1:'Thursday', 2:'Friday', 3:'Saturday', 4:'Sunday'}\n",
    "df['day_of_week'] = pd.to_datetime(df['dTime']).dt.weekday.map(days_of_week)\n",
    "# airline\n",
    "df['airline'] = df['airlines'].str.split(',').apply(lambda x: x[0])\n",
    "# days until departure\n",
    "df = add_days_until_dep_feature(df)\n",
    "\n",
    "#df['groupID'] = df[agg_cols].agg('_'.join, axis=1)"
   ]
  },
  {
   "cell_type": "markdown",
   "id": "d86678e1",
   "metadata": {},
   "source": [
    "## 3. Split data into train, valid and test"
   ]
  },
  {
   "cell_type": "code",
   "execution_count": 48,
   "id": "022502e8",
   "metadata": {},
   "outputs": [],
   "source": [
    "## Getting the last 30 days for test and validation\n",
    "train, test = split_data(df)"
   ]
  },
  {
   "cell_type": "code",
   "execution_count": 49,
   "id": "0e5ec28f",
   "metadata": {},
   "outputs": [
    {
     "data": {
      "text/plain": [
       "((934059, 17), (146209, 17))"
      ]
     },
     "execution_count": 49,
     "metadata": {},
     "output_type": "execute_result"
    }
   ],
   "source": [
    "train.shape, test.shape"
   ]
  },
  {
   "cell_type": "code",
   "execution_count": 50,
   "id": "b5b91d0d",
   "metadata": {},
   "outputs": [],
   "source": [
    "valid_idx = test.sample(frac=.5, random_state=42).index"
   ]
  },
  {
   "cell_type": "code",
   "execution_count": 51,
   "id": "75da11ba",
   "metadata": {},
   "outputs": [],
   "source": [
    "valid = test.loc[valid_idx].copy()\n",
    "test = test.drop(valid_idx)"
   ]
  },
  {
   "cell_type": "markdown",
   "id": "24259d3a",
   "metadata": {},
   "source": [
    "## 4. Aggregate flights"
   ]
  },
  {
   "cell_type": "markdown",
   "id": "fd8322c4",
   "metadata": {},
   "source": [
    "First, we will aggregate flights by some features."
   ]
  },
  {
   "cell_type": "code",
   "execution_count": 52,
   "id": "3a489369",
   "metadata": {},
   "outputs": [
    {
     "name": "stdout",
     "output_type": "stream",
     "text": [
      "CPU times: user 20.7 s, sys: 20.8 ms, total: 20.7 s\n",
      "Wall time: 20.7 s\n"
     ]
    }
   ],
   "source": [
    "%%time\n",
    "# Grouping fligths by previously defined agg. cols. (orig-dest, airline, session, days_until_dep)\n",
    "grouped = train \\\n",
    "            .groupby(agg_cols)[['price', 'fly_duration']] \\\n",
    "            .agg({'price':['min', 'median', q25, 'count'],\n",
    "                  'fly_duration':'mean'}).dropna().reset_index()\n",
    "\n",
    "# remove multilevel columns\n",
    "grouped.columns = agg_cols + ['min', 'median', 'q25', 'count', 'fly_duration']\n",
    "\n",
    "# count will act like some kind of competition factor\n",
    "grouped.rename(columns={'count':'competition'}, inplace=True)"
   ]
  },
  {
   "cell_type": "markdown",
   "id": "ade7d200",
   "metadata": {},
   "source": [
    "Now we are going to add a new feature called 'customPrice' that will serve as a representation of the fare of each group taking into account the trend of the last few days. Finally we use this value to estimate to buy or wait for a price drop (labels)"
   ]
  },
  {
   "cell_type": "markdown",
   "id": "48a1eb63",
   "metadata": {},
   "source": [
    "customPrice = w * Total_q25 + (1-w)*(Last_days_q25)"
   ]
  },
  {
   "cell_type": "code",
   "execution_count": 53,
   "id": "b88a9cc4",
   "metadata": {},
   "outputs": [],
   "source": [
    "# Feature 'total_q25': First quantile of each group during all time period\n",
    "total_q25 = train.groupby(agg_cols)['price'].quantile(0.25) ######################### Revisar\n",
    "total_q25 = total_q25.rename('total_q25').reset_index()\n",
    "grouped['total_q25'] = pd.merge(grouped, total_q25, on=agg_cols, how='left')['total_q25']"
   ]
  },
  {
   "cell_type": "code",
   "execution_count": 54,
   "id": "2c62880a",
   "metadata": {},
   "outputs": [],
   "source": [
    "# lastdays_q25: First quantile of last n days \n",
    "list_prices = grouped.groupby(['orig-dest','airline', 'session'])['q25'].agg(list)\n",
    "list_prices = list_prices.reset_index()\n",
    "list_prices.rename(columns={'q25':'list_prices'}, inplace=True)\n",
    "grouped['list_prices'] = pd.merge(grouped, list_prices, on=['orig-dest','airline','session'], how='left')['list_prices']"
   ]
  },
  {
   "cell_type": "code",
   "execution_count": 55,
   "id": "316c6277",
   "metadata": {},
   "outputs": [
    {
     "name": "stderr",
     "output_type": "stream",
     "text": [
      "100%|██████████| 36975/36975 [00:04<00:00, 7924.36it/s]\n"
     ]
    }
   ],
   "source": [
    "grouped['lastdays_q25'] = grouped.progress_apply(get_last_days_q25, axis=1) "
   ]
  },
  {
   "cell_type": "code",
   "execution_count": 56,
   "id": "aa55166f",
   "metadata": {},
   "outputs": [],
   "source": [
    "# CustomPrice = ticket price weightened considering last days trend\n",
    "# We use this feature for estimate labels\n",
    "grouped['customPrice'] =  w * grouped['total_q25'] + (1-w) * grouped['lastdays_q25']"
   ]
  },
  {
   "cell_type": "code",
   "execution_count": 57,
   "id": "aba7b86e",
   "metadata": {},
   "outputs": [
    {
     "name": "stderr",
     "output_type": "stream",
     "text": [
      "100%|██████████| 36975/36975 [00:01<00:00, 28539.08it/s]\n"
     ]
    }
   ],
   "source": [
    "# Wait/no wait labels\n",
    "grouped['wait'] = grouped.progress_apply(get_labels, axis=1)"
   ]
  },
  {
   "cell_type": "code",
   "execution_count": 58,
   "id": "52b8897f",
   "metadata": {},
   "outputs": [
    {
     "data": {
      "text/plain": [
       "1    21521\n",
       "0    15454\n",
       "Name: wait, dtype: int64"
      ]
     },
     "execution_count": 58,
     "metadata": {},
     "output_type": "execute_result"
    }
   ],
   "source": [
    "grouped['wait'].value_counts()"
   ]
  },
  {
   "cell_type": "code",
   "execution_count": 59,
   "id": "de960cd3",
   "metadata": {},
   "outputs": [],
   "source": [
    "grouped.drop(['total_q25', 'list_prices', 'lastdays_q25'], axis=1, inplace=True, errors='ignore')"
   ]
  },
  {
   "cell_type": "markdown",
   "id": "8b70b6cd",
   "metadata": {},
   "source": [
    "We will now use the new labels to estimate a new feature: the percentage of 'wait' labeled in each group."
   ]
  },
  {
   "cell_type": "code",
   "execution_count": 60,
   "id": "20bfc2c6",
   "metadata": {},
   "outputs": [],
   "source": [
    "probs = grouped.groupby(['orig-dest','session' ,'days_until_dep'])['wait'].mean().reset_index()\n",
    "probs.rename(columns={'wait':'prob'}, inplace=True)\n",
    "grouped = pd.merge(grouped, probs, on=['orig-dest', 'session' ,'days_until_dep'], how='left')"
   ]
  },
  {
   "cell_type": "code",
   "execution_count": 61,
   "id": "e20aa0a6",
   "metadata": {},
   "outputs": [
    {
     "data": {
      "image/png": "[encoded data removed]",
      "text/plain": [
       "<Figure size 576x360 with 1 Axes>"
      ]
     },
     "metadata": {
      "needs_background": "light"
     },
     "output_type": "display_data"
    }
   ],
   "source": [
    "wait_grouped = grouped.groupby(['orig-dest','days_until_dep'])['wait'].mean().reset_index()\n",
    "plt.figure(figsize=(8,5))\n",
    "sns.scatterplot(x='days_until_dep', y='wait', hue='wait', data=wait_grouped);"
   ]
  },
  {
   "cell_type": "code",
   "execution_count": 62,
   "id": "c2e3ed79",
   "metadata": {},
   "outputs": [
    {
     "data": {
      "text/html": [
       "<div>\n",
       "<style scoped>\n",
       "    .dataframe tbody tr th:only-of-type {\n",
       "        vertical-align: middle;\n",
       "    }\n",
       "\n",
       "    .dataframe tbody tr th {\n",
       "        vertical-align: top;\n",
       "    }\n",
       "\n",
       "    .dataframe thead th {\n",
       "        text-align: right;\n",
       "    }\n",
       "</style>\n",
       "<table border=\"1\" class=\"dataframe\">\n",
       "  <thead>\n",
       "    <tr style=\"text-align: right;\">\n",
       "      <th></th>\n",
       "      <th>orig-dest</th>\n",
       "      <th>airline</th>\n",
       "      <th>session</th>\n",
       "      <th>days_until_dep</th>\n",
       "      <th>min</th>\n",
       "      <th>median</th>\n",
       "      <th>q25</th>\n",
       "      <th>competition</th>\n",
       "      <th>fly_duration</th>\n",
       "      <th>customPrice</th>\n",
       "      <th>wait</th>\n",
       "      <th>prob</th>\n",
       "    </tr>\n",
       "  </thead>\n",
       "  <tbody>\n",
       "    <tr>\n",
       "      <th>9115</th>\n",
       "      <td>BCN-LGW</td>\n",
       "      <td>AF</td>\n",
       "      <td>night</td>\n",
       "      <td>34</td>\n",
       "      <td>151.0</td>\n",
       "      <td>151.0</td>\n",
       "      <td>151.0</td>\n",
       "      <td>2</td>\n",
       "      <td>9.166667</td>\n",
       "      <td>152.0000</td>\n",
       "      <td>0</td>\n",
       "      <td>0.733333</td>\n",
       "    </tr>\n",
       "    <tr>\n",
       "      <th>14231</th>\n",
       "      <td>BCN-PMI</td>\n",
       "      <td>IB</td>\n",
       "      <td>evening</td>\n",
       "      <td>77</td>\n",
       "      <td>95.0</td>\n",
       "      <td>102.0</td>\n",
       "      <td>95.0</td>\n",
       "      <td>4</td>\n",
       "      <td>17.041667</td>\n",
       "      <td>101.1125</td>\n",
       "      <td>1</td>\n",
       "      <td>0.866667</td>\n",
       "    </tr>\n",
       "    <tr>\n",
       "      <th>3481</th>\n",
       "      <td>BCN-AMS</td>\n",
       "      <td>TO</td>\n",
       "      <td>evening</td>\n",
       "      <td>6</td>\n",
       "      <td>230.0</td>\n",
       "      <td>230.0</td>\n",
       "      <td>230.0</td>\n",
       "      <td>1</td>\n",
       "      <td>18.666667</td>\n",
       "      <td>210.3500</td>\n",
       "      <td>1</td>\n",
       "      <td>0.241379</td>\n",
       "    </tr>\n",
       "    <tr>\n",
       "      <th>32471</th>\n",
       "      <td>MAD-MEX</td>\n",
       "      <td>LH</td>\n",
       "      <td>night</td>\n",
       "      <td>56</td>\n",
       "      <td>272.0</td>\n",
       "      <td>345.0</td>\n",
       "      <td>318.0</td>\n",
       "      <td>31</td>\n",
       "      <td>20.430108</td>\n",
       "      <td>320.4125</td>\n",
       "      <td>1</td>\n",
       "      <td>0.937500</td>\n",
       "    </tr>\n",
       "    <tr>\n",
       "      <th>1028</th>\n",
       "      <td>BCN-AMS</td>\n",
       "      <td>DL</td>\n",
       "      <td>night</td>\n",
       "      <td>6</td>\n",
       "      <td>197.0</td>\n",
       "      <td>197.0</td>\n",
       "      <td>197.0</td>\n",
       "      <td>1</td>\n",
       "      <td>2.500000</td>\n",
       "      <td>190.0000</td>\n",
       "      <td>0</td>\n",
       "      <td>0.333333</td>\n",
       "    </tr>\n",
       "  </tbody>\n",
       "</table>\n",
       "</div>"
      ],
      "text/plain": [
       "      orig-dest airline  session  days_until_dep    min  median    q25  \\\n",
       "9115    BCN-LGW      AF    night              34  151.0   151.0  151.0   \n",
       "14231   BCN-PMI      IB  evening              77   95.0   102.0   95.0   \n",
       "3481    BCN-AMS      TO  evening               6  230.0   230.0  230.0   \n",
       "32471   MAD-MEX      LH    night              56  272.0   345.0  318.0   \n",
       "1028    BCN-AMS      DL    night               6  197.0   197.0  197.0   \n",
       "\n",
       "       competition  fly_duration  customPrice  wait      prob  \n",
       "9115             2      9.166667     152.0000     0  0.733333  \n",
       "14231            4     17.041667     101.1125     1  0.866667  \n",
       "3481             1     18.666667     210.3500     1  0.241379  \n",
       "32471           31     20.430108     320.4125     1  0.937500  \n",
       "1028             1      2.500000     190.0000     0  0.333333  "
      ]
     },
     "execution_count": 62,
     "metadata": {},
     "output_type": "execute_result"
    }
   ],
   "source": [
    "# final dataframe \n",
    "grouped.sample(5)"
   ]
  },
  {
   "cell_type": "markdown",
   "id": "2e8c2627",
   "metadata": {},
   "source": [
    "#### Estimating days to wait and price drop percentage\n",
    "In addition to predicting whether or not a flight will drop in price. We want to provide the user with an estimate of the **number of days to wait** and what the **percentage price drop** will be after that wait.\n",
    "\\\n",
    "To do this we will create bins of 5 days for the values of 'days_until_dep', to each bin we will assign an estimated value. We will use these bins to look for the minimum price in the following days. The difference between the \"current\" bin and the next bin with the minimum price will be the expected price drop. \n",
    "\\\n",
    "For storing all this information we will create a new dataframe called 'price_bins'."
   ]
  },
  {
   "cell_type": "code",
   "execution_count": 63,
   "id": "4951e17c",
   "metadata": {},
   "outputs": [],
   "source": [
    "# Days to wait\n",
    "\n",
    "# Creation of bins\n",
    "lower = train['days_until_dep'].min()\n",
    "higher = train['days_until_dep'].max()\n",
    "\n",
    "n_bins = int(higher/5)\n",
    "edges = range(lower, higher+5, 5)\n",
    "\n",
    "lbs = ['(%d, %d]'%(edges[i], edges[i+1]) for i in range(len(edges)-1)]\n",
    "train['days_bins'] = pd.cut(train['days_until_dep'],bins=n_bins, labels=lbs)"
   ]
  },
  {
   "cell_type": "code",
   "execution_count": 64,
   "id": "3760a35f",
   "metadata": {},
   "outputs": [],
   "source": [
    "# create dataframe with bins and an estimate for the price \n",
    "price_bins = train.groupby(['orig-dest', 'airline', 'days_bins'])['price'].quantile(.25).rename('price_est').reset_index().dropna()"
   ]
  },
  {
   "cell_type": "code",
   "execution_count": 65,
   "id": "79582360",
   "metadata": {},
   "outputs": [
    {
     "data": {
      "image/png": "[encoded data removed]",
      "text/plain": [
       "<Figure size 576x288 with 1 Axes>"
      ]
     },
     "metadata": {
      "needs_background": "light"
     },
     "output_type": "display_data"
    }
   ],
   "source": [
    "# plotting bins prices\n",
    "plt.figure(figsize=(8,4))\n",
    "sns.boxplot(x='days_bins', y='price_est', data=price_bins, palette=\"Blues_r\");\n",
    "plt.xticks(rotation=45);"
   ]
  },
  {
   "cell_type": "code",
   "execution_count": 66,
   "id": "574fddf1",
   "metadata": {},
   "outputs": [],
   "source": [
    "# adding bins edges. We will use this for compute days to wait\n",
    "price_bins['bin_min'] = price_bins['days_bins'].astype('str').apply(lambda x: int(x.strip('(]').split(', ')[0])+1)\n",
    "price_bins['bin_max'] = price_bins['days_bins'].astype('str').apply(lambda x: int(x.strip('(]').split(', ')[1]))"
   ]
  },
  {
   "cell_type": "code",
   "execution_count": 67,
   "id": "6789d948",
   "metadata": {},
   "outputs": [
    {
     "data": {
      "text/html": [
       "<div>\n",
       "<style scoped>\n",
       "    .dataframe tbody tr th:only-of-type {\n",
       "        vertical-align: middle;\n",
       "    }\n",
       "\n",
       "    .dataframe tbody tr th {\n",
       "        vertical-align: top;\n",
       "    }\n",
       "\n",
       "    .dataframe thead th {\n",
       "        text-align: right;\n",
       "    }\n",
       "</style>\n",
       "<table border=\"1\" class=\"dataframe\">\n",
       "  <thead>\n",
       "    <tr style=\"text-align: right;\">\n",
       "      <th></th>\n",
       "      <th>orig-dest</th>\n",
       "      <th>airline</th>\n",
       "      <th>days_bins</th>\n",
       "      <th>price_est</th>\n",
       "      <th>bin_min</th>\n",
       "      <th>bin_max</th>\n",
       "    </tr>\n",
       "  </thead>\n",
       "  <tbody>\n",
       "    <tr>\n",
       "      <th>8665</th>\n",
       "      <td>MAD-EZE</td>\n",
       "      <td>FR</td>\n",
       "      <td>(46, 51]</td>\n",
       "      <td>330.50</td>\n",
       "      <td>47</td>\n",
       "      <td>51</td>\n",
       "    </tr>\n",
       "    <tr>\n",
       "      <th>7736</th>\n",
       "      <td>MAD-BCN</td>\n",
       "      <td>TO</td>\n",
       "      <td>(41, 46]</td>\n",
       "      <td>104.25</td>\n",
       "      <td>42</td>\n",
       "      <td>46</td>\n",
       "    </tr>\n",
       "    <tr>\n",
       "      <th>2957</th>\n",
       "      <td>BCN-FCO</td>\n",
       "      <td>U2</td>\n",
       "      <td>(66, 71]</td>\n",
       "      <td>95.00</td>\n",
       "      <td>67</td>\n",
       "      <td>71</td>\n",
       "    </tr>\n",
       "    <tr>\n",
       "      <th>12498</th>\n",
       "      <td>MAD-LHR</td>\n",
       "      <td>SK</td>\n",
       "      <td>(11, 16]</td>\n",
       "      <td>254.00</td>\n",
       "      <td>12</td>\n",
       "      <td>16</td>\n",
       "    </tr>\n",
       "    <tr>\n",
       "      <th>5733</th>\n",
       "      <td>BCN-PMI</td>\n",
       "      <td>LY</td>\n",
       "      <td>(26, 31]</td>\n",
       "      <td>319.75</td>\n",
       "      <td>27</td>\n",
       "      <td>31</td>\n",
       "    </tr>\n",
       "  </tbody>\n",
       "</table>\n",
       "</div>"
      ],
      "text/plain": [
       "      orig-dest airline days_bins  price_est  bin_min  bin_max\n",
       "8665    MAD-EZE      FR  (46, 51]     330.50       47       51\n",
       "7736    MAD-BCN      TO  (41, 46]     104.25       42       46\n",
       "2957    BCN-FCO      U2  (66, 71]      95.00       67       71\n",
       "12498   MAD-LHR      SK  (11, 16]     254.00       12       16\n",
       "5733    BCN-PMI      LY  (26, 31]     319.75       27       31"
      ]
     },
     "execution_count": 67,
     "metadata": {},
     "output_type": "execute_result"
    }
   ],
   "source": [
    "# final dataframe\n",
    "price_bins.sample(5)"
   ]
  },
  {
   "cell_type": "code",
   "execution_count": 68,
   "id": "b5025fc3",
   "metadata": {},
   "outputs": [],
   "source": [
    "bins_days = train[['days_until_dep', 'days_bins']].drop_duplicates()\n",
    "bins_days['days_bins'] = bins_days['days_bins'].cat.codes"
   ]
  },
  {
   "cell_type": "code",
   "execution_count": 69,
   "id": "46ba8d49",
   "metadata": {},
   "outputs": [],
   "source": [
    "price_bins.to_csv('../data/processed/price_bins.csv', index=False)\n",
    "bins_days.to_csv('../data/processed/bins_days.csv', index=False)"
   ]
  },
  {
   "cell_type": "markdown",
   "id": "c5a7c684",
   "metadata": {},
   "source": [
    "## 5. Save processed data"
   ]
  },
  {
   "cell_type": "code",
   "execution_count": 70,
   "id": "291a1559",
   "metadata": {},
   "outputs": [],
   "source": [
    "grouped.to_csv('../data/processed/train.csv', index=False)\n",
    "valid.to_csv('../data/processed/valid.csv', index=False)\n",
    "test.to_csv('../data/processed/test.csv', index=False)"
   ]
  }
 ],
 "metadata": {
  "kernelspec": {
   "display_name": "Python 3",
   "language": "python",
   "name": "python3"
  },
  "language_info": {
   "codemirror_mode": {
    "name": "ipython",
    "version": 3
   },
   "file_extension": ".py",
   "mimetype": "text/x-python",
   "name": "python",
   "nbconvert_exporter": "python",
   "pygments_lexer": "ipython3",
   "version": "3.9.1"
  }
 },
 "nbformat": 4,
 "nbformat_minor": 5
}
