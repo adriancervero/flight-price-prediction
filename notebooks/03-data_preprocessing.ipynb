{
 "cells": [
  {
   "cell_type": "markdown",
   "id": "empty-status",
   "metadata": {},
   "source": [
    "# 04 - Feature Engineering and Data preparation for model building"
   ]
  },
  {
   "cell_type": "code",
   "execution_count": 3,
   "id": "intelligent-sodium",
   "metadata": {},
   "outputs": [],
   "source": [
    "import pandas as pd\n",
    "import numpy as np\n",
    "from datetime import datetime"
   ]
  },
  {
   "cell_type": "code",
   "execution_count": 11,
   "id": "congressional-guyana",
   "metadata": {},
   "outputs": [],
   "source": [
    "import warnings\n",
    "warnings.filterwarnings('ignore')"
   ]
  },
  {
   "cell_type": "markdown",
   "id": "hindu-sampling",
   "metadata": {},
   "source": [
    "### Load data"
   ]
  },
  {
   "cell_type": "code",
   "execution_count": 49,
   "id": "formed-whole",
   "metadata": {},
   "outputs": [
    {
     "data": {
      "text/plain": [
       "(1266210, 22)"
      ]
     },
     "execution_count": 49,
     "metadata": {},
     "output_type": "execute_result"
    }
   ],
   "source": [
    "flights = pd.read_csv('../data/interim/flights_interim.csv')\n",
    "flights.shape"
   ]
  },
  {
   "cell_type": "code",
   "execution_count": 50,
   "id": "czech-prototype",
   "metadata": {},
   "outputs": [],
   "source": [
    "def get_perfomed_flights(flights):\n",
    "    departure_dates = pd.to_datetime(flights['dDate'])\n",
    "    max_collection_day = pd.to_datetime(flights['collectionDate']).max()                    \n",
    "    pf = flights[departure_dates <= max_collection_day]\n",
    "    return pf"
   ]
  },
  {
   "cell_type": "code",
   "execution_count": 51,
   "id": "about-algeria",
   "metadata": {},
   "outputs": [
    {
     "data": {
      "text/plain": [
       "(152465, 22)"
      ]
     },
     "execution_count": 51,
     "metadata": {},
     "output_type": "execute_result"
    }
   ],
   "source": [
    "pf = get_perfomed_flights(flights)\n",
    "pf.shape"
   ]
  },
  {
   "cell_type": "code",
   "execution_count": 61,
   "id": "asian-grounds",
   "metadata": {},
   "outputs": [
    {
     "data": {
      "text/plain": [
       "Index(['collectionDate', 'dDate', 'dTime', 'aDate', 'aTime', 'dTimeUTC',\n",
       "       'aTimeUTC', 'flyFrom', 'flyTo', 'airlines', 'flight_no', 'fly_duration',\n",
       "       'distance', 'route', 'price', 'seats', 'cityFrom', 'cityCodeFrom',\n",
       "       'cityTo', 'cityCodeTo', 'countryFrom', 'countryTo', 'log_price',\n",
       "       'day_of_month', 'day_of_week', 'session', 'orig-dest', 'airline',\n",
       "       'days_until_dep', 'hops', 'direct', 'competition'],\n",
       "      dtype='object')"
      ]
     },
     "execution_count": 61,
     "metadata": {},
     "output_type": "execute_result"
    }
   ],
   "source": [
    "pf_features.columns"
   ]
  },
  {
   "cell_type": "code",
   "execution_count": 62,
   "id": "practical-possession",
   "metadata": {},
   "outputs": [
    {
     "data": {
      "text/plain": [
       "['flyFrom',\n",
       " 'flyTo',\n",
       " 'orig-dest',\n",
       " 'day_of_month',\n",
       " 'day_of_week',\n",
       " 'days_until_dep',\n",
       " 'session',\n",
       " 'airline',\n",
       " 'hops',\n",
       " 'direct',\n",
       " 'competition']"
      ]
     },
     "execution_count": 62,
     "metadata": {},
     "output_type": "execute_result"
    }
   ],
   "source": [
    "columns"
   ]
  },
  {
   "cell_type": "code",
   "execution_count": 63,
   "id": "checked-absolute",
   "metadata": {},
   "outputs": [],
   "source": [
    "def get_agg_flights(flights):\n",
    "    aggs = {\n",
    "        'fly_duration': 'mean',\n",
    "        'price': 'mean',\n",
    "        'airline':'nunique',\n",
    "    }\n",
    "    grouped = flights.groupby(['collectionDate','flyFrom','flyTo','dDate', 'dTime', 'aTime'])\n",
    "    flights_agg = grouped[['fly_duration','price', 'airline']].agg(aggs).reset_index()\n",
    "    return flights_agg"
   ]
  },
  {
   "cell_type": "markdown",
   "id": "noble-athletics",
   "metadata": {},
   "source": [
    "### Missing values"
   ]
  },
  {
   "cell_type": "code",
   "execution_count": 5,
   "id": "electrical-proposal",
   "metadata": {},
   "outputs": [],
   "source": [
    "#flights['seats'].fillna(0, inplace=True)"
   ]
  },
  {
   "cell_type": "markdown",
   "id": "aware-navigator",
   "metadata": {},
   "source": [
    "### Outliers?"
   ]
  },
  {
   "cell_type": "code",
   "execution_count": null,
   "id": "controversial-therapy",
   "metadata": {},
   "outputs": [],
   "source": []
  },
  {
   "cell_type": "markdown",
   "id": "residential-philippines",
   "metadata": {},
   "source": [
    "### Adding new features"
   ]
  },
  {
   "cell_type": "code",
   "execution_count": 29,
   "id": "available-metadata",
   "metadata": {},
   "outputs": [],
   "source": [
    "def build_features(df):\n",
    "    # log transformation on target\n",
    "    df['log_price'] = np.log(df['price'])\n",
    "    # Day of month\n",
    "    df['day_of_month'] = df['dDate'].apply(lambda x: int(x.split('-')[2]))\n",
    "\n",
    "    # Day of the week\n",
    "    df['day_of_week'] = pd.to_datetime(df['dDate']).apply(lambda x: x.day_of_week)\n",
    "    days_of_week = {0:'Monday', 1:'Tuesday', 2:'Wednesday', 3:'Thursday', 4:'Friday', 5:'Saturday', 6:'Sunday'}\n",
    "    df['day_of_week'] = df['day_of_week'].map(days_of_week)\n",
    "\n",
    "    # Session (morning, afternoon, night)\n",
    "    df['session'] = pd.cut(pd.to_datetime(df['dTime']), bins=4, labels=['night', 'morning', 'afternoon', 'evening'])\n",
    "\n",
    "    # Route\n",
    "    df['orig-dest'] = df['flyFrom']+'-'+df['flyTo']\n",
    "    \n",
    "    # Airline\n",
    "    df['airline'] = df['airlines'].apply(lambda x: x.split(',')[0])\n",
    "    \n",
    "    # Days until Departure\n",
    "    collected = pd.to_datetime(df['collectionDate'])\n",
    "    departure =  pd.to_datetime(df['dDate'])\n",
    "    daysUntilDep = departure - collected\n",
    "    df['days_until_dep'] = daysUntilDep.apply(lambda x: str(x).split()[0])\n",
    "    \n",
    "    # Hopping\n",
    "    df['hops'] = df['route'].apply(lambda x: len(x.split('->')) - 2)\n",
    "    df['direct'] = df['hops'] == 0\n",
    "    \n",
    "    # Competition Factor\n",
    "    competition = df.groupby(['flyFrom','flyTo','dDate'])['airline'].nunique().reset_index()\n",
    "    competition.columns = ['flyFrom','flyTo','dDate', 'competition']\n",
    "    df = pd.merge(df, competition, on=['dDate', 'flyFrom', 'flyTo'])\n",
    "    \n",
    "    return df"
   ]
  },
  {
   "cell_type": "code",
   "execution_count": 60,
   "id": "centered-spending",
   "metadata": {},
   "outputs": [],
   "source": [
    "pf_features = build_features(pf)"
   ]
  },
  {
   "cell_type": "code",
   "execution_count": 23,
   "id": "romantic-things",
   "metadata": {},
   "outputs": [],
   "source": [
    "flights_features = build_features(flights)"
   ]
  },
  {
   "cell_type": "markdown",
   "id": "vanilla-detector",
   "metadata": {},
   "source": [
    "## Save processed data"
   ]
  },
  {
   "cell_type": "code",
   "execution_count": 26,
   "id": "funny-affect",
   "metadata": {},
   "outputs": [],
   "source": [
    "columns = ['flyFrom', 'flyTo', 'orig-dest','day_of_month', 'day_of_week', \n",
    "           'days_until_dep', 'session', 'airline', 'hops', 'direct', 'competition']\n",
    "\n",
    "flights_processed = flights_features[columns]"
   ]
  },
  {
   "cell_type": "code",
   "execution_count": 27,
   "id": "textile-graduate",
   "metadata": {},
   "outputs": [],
   "source": [
    "flights_processed.to_csv('../data/processed/flights_processed.csv', index=False)"
   ]
  },
  {
   "cell_type": "code",
   "execution_count": 47,
   "id": "secondary-stroke",
   "metadata": {},
   "outputs": [],
   "source": [
    "pf_processed = pf_features[columns]\n",
    "pf_processed.to_csv('../data/processed/pf_processed.csv', index=False)"
   ]
  }
 ],
 "metadata": {
  "kernelspec": {
   "display_name": "Python 3",
   "language": "python",
   "name": "python3"
  },
  "language_info": {
   "codemirror_mode": {
    "name": "ipython",
    "version": 3
   },
   "file_extension": ".py",
   "mimetype": "text/x-python",
   "name": "python",
   "nbconvert_exporter": "python",
   "pygments_lexer": "ipython3",
   "version": "3.9.1"
  }
 },
 "nbformat": 4,
 "nbformat_minor": 5
}
