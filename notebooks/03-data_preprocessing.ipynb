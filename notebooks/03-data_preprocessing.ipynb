{
 "cells": [
  {
   "cell_type": "markdown",
   "id": "indirect-repair",
   "metadata": {},
   "source": [
    "# 04 - Feature Engineering and Data Preprocessing"
   ]
  },
  {
   "cell_type": "code",
   "execution_count": 43,
   "id": "artificial-italy",
   "metadata": {},
   "outputs": [],
   "source": [
    "import pandas as pd\n",
    "import numpy as np\n",
    "from datetime import datetime, timedelta\n",
    "from sklearn.preprocessing import StandardScaler, OneHotEncoder"
   ]
  },
  {
   "cell_type": "code",
   "execution_count": 44,
   "id": "steady-granny",
   "metadata": {},
   "outputs": [],
   "source": [
    "import warnings\n",
    "warnings.filterwarnings('ignore')"
   ]
  },
  {
   "cell_type": "markdown",
   "id": "natural-coverage",
   "metadata": {},
   "source": [
    "### Load data"
   ]
  },
  {
   "cell_type": "code",
   "execution_count": 45,
   "id": "representative-commerce",
   "metadata": {},
   "outputs": [],
   "source": [
    "train = pd.read_csv('../data/interim/train.csv')\n",
    "test = pd.read_csv('../data/interim/test.csv')"
   ]
  },
  {
   "cell_type": "markdown",
   "id": "sustainable-destiny",
   "metadata": {},
   "source": [
    "### Missing values"
   ]
  },
  {
   "cell_type": "code",
   "execution_count": 46,
   "id": "selected-finding",
   "metadata": {},
   "outputs": [
    {
     "data": {
      "text/plain": [
       "collectionDate        0\n",
       "dDate                 0\n",
       "dTime                 0\n",
       "aDate                 0\n",
       "aTime                 0\n",
       "dTimeUTC              0\n",
       "aTimeUTC              0\n",
       "flyFrom               0\n",
       "flyTo                 0\n",
       "airlines              0\n",
       "flight_no             0\n",
       "fly_duration          0\n",
       "distance              0\n",
       "route                 0\n",
       "price                 0\n",
       "seats             32620\n",
       "cityFrom              0\n",
       "cityCodeFrom          0\n",
       "cityTo                0\n",
       "cityCodeTo            0\n",
       "countryFrom           0\n",
       "countryTo             0\n",
       "dtype: int64"
      ]
     },
     "execution_count": 46,
     "metadata": {},
     "output_type": "execute_result"
    }
   ],
   "source": [
    "train.isna().sum()"
   ]
  },
  {
   "cell_type": "code",
   "execution_count": 47,
   "id": "suspended-preserve",
   "metadata": {},
   "outputs": [],
   "source": [
    "# Removing 'seats' column because it has many missing values.\n",
    "for df in [train, test]:\n",
    "    df.drop('seats', axis=1, inplace=True)"
   ]
  },
  {
   "cell_type": "markdown",
   "id": "authentic-dryer",
   "metadata": {},
   "source": [
    "### Outliers?"
   ]
  },
  {
   "cell_type": "code",
   "execution_count": null,
   "id": "personal-disaster",
   "metadata": {},
   "outputs": [],
   "source": []
  },
  {
   "cell_type": "markdown",
   "id": "younger-sport",
   "metadata": {},
   "source": [
    "### Adding new features"
   ]
  },
  {
   "cell_type": "code",
   "execution_count": 48,
   "id": "affecting-express",
   "metadata": {},
   "outputs": [],
   "source": [
    "def build_features(df):\n",
    "    df = df.copy()\n",
    "    # log transformation\n",
    "    df['log_price'] = np.log(df['price'])\n",
    "    # Day of month\n",
    "    df['day_of_month'] = pd.to_datetime(df['dDate']).dt.day\n",
    "\n",
    "    # Day of the week\n",
    "    df['day_of_week'] = pd.to_datetime(df['dDate']).apply(lambda x: x.day_of_week)\n",
    "    days_of_week = {0:'Monday', 1:'Tuesday', 2:'Wednesday', 3:'Thursday', 4:'Friday', 5:'Saturday', 6:'Sunday'}\n",
    "    df['day_of_week'] = df['day_of_week'].map(days_of_week)\n",
    "\n",
    "    # Session (morning, afternoon, night)\n",
    "    df['session'] = pd.cut(pd.to_datetime(df['dTime']), bins=3, labels=['night', 'morning', 'evening'])\n",
    "\n",
    "    # Route\n",
    "    df['orig-dest'] = df['flyFrom']+'-'+df['flyTo']\n",
    "    \n",
    "    # Airline\n",
    "    df['airline'] = df['airlines'].apply(lambda x: x.split(',')[0])\n",
    "    \n",
    "    # Days until Departure\n",
    "    collected = pd.to_datetime(df['collectionDate'])\n",
    "    departure =  pd.to_datetime(df['dDate'])\n",
    "    daysUntilDep = departure - collected\n",
    "    df['days_until_dep'] = daysUntilDep.apply(lambda x: str(x).split()[0])\n",
    "    \n",
    "    # Hopping\n",
    "    df['hops'] = df['route'].apply(lambda x: len(x.split('->')) - 2)\n",
    "    df['direct'] = df['hops'] == 0\n",
    "    \n",
    "    # Competition Factor\n",
    "    competition = df.groupby(['flyFrom','flyTo','dDate'])['airline'].nunique().reset_index()\n",
    "    competition.columns = ['flyFrom','flyTo','dDate', 'competition']\n",
    "    df = pd.merge(df, competition, on=['dDate', 'flyFrom', 'flyTo'])\n",
    "    \n",
    "    # id flight\n",
    "    df['id'] = df.groupby(['dDate', 'flyFrom', 'flyTo', 'dTime', 'aTime', 'airline', 'fly_duration']).ngroup()\n",
    "\n",
    "    \n",
    "    return df"
   ]
  },
  {
   "cell_type": "code",
   "execution_count": 49,
   "id": "tracked-lyric",
   "metadata": {},
   "outputs": [],
   "source": [
    "train_features = build_features(train)\n",
    "test_features = build_features(test)"
   ]
  },
  {
   "cell_type": "code",
   "execution_count": 50,
   "id": "ancient-avenue",
   "metadata": {},
   "outputs": [
    {
     "data": {
      "text/plain": [
       "((115484, 32), (36981, 32))"
      ]
     },
     "execution_count": 50,
     "metadata": {},
     "output_type": "execute_result"
    }
   ],
   "source": [
    "train_features.shape, test_features.shape"
   ]
  },
  {
   "cell_type": "code",
   "execution_count": 37,
   "id": "precise-relaxation",
   "metadata": {},
   "outputs": [],
   "source": [
    "import multiprocessing\n",
    "import numpy as np\n",
    "\n",
    "\n",
    "def parallelize_dataframe(df, func):\n",
    "    num_cores = multiprocessing.cpu_count()-1  #leave one free to not freeze machine\n",
    "    num_partitions = num_cores #number of partitions to split dataframe\n",
    "    df_split = np.array_split(df, num_partitions)\n",
    "    pool = multiprocessing.Pool(num_cores)\n",
    "    df = pd.concat(pool.map(func, df_split))\n",
    "    pool.close()\n",
    "    pool.join()\n",
    "    return df"
   ]
  },
  {
   "cell_type": "code",
   "execution_count": 23,
   "id": "neither-desert",
   "metadata": {},
   "outputs": [],
   "source": [
    "def get_daystowait(df):\n",
    "    df = df.copy()\n",
    "    days_to_wait = []\n",
    "    \n",
    "    for row in df.itertuples():\n",
    "        row_id = row.id\n",
    "        row_price = row.price\n",
    "        days = int(row.days_until_dep)\n",
    "        \n",
    "        # prices of the current flight\n",
    "        prices_by_day = df[df['id'] == row_id][['days_until_dep','price']]\n",
    "        prices_by_day['days_until_dep'] = prices_by_day['days_until_dep'].astype(int)\n",
    "        \n",
    "        # subset prices of following days\n",
    "        next_days = prices_by_day['days_until_dep'] < days\n",
    "        \n",
    "        # check which ones price decreases\n",
    "        price_decreases = prices_by_day['price'] < row_price\n",
    "        \n",
    "        # get the closest day\n",
    "        day_price_decrease = prices_by_day[next_days & price_decreases]['days_until_dep'].max()\n",
    "        \n",
    "        # compute how many days remain until price drop\n",
    "        if not np.isnan(day_price_decrease):    \n",
    "            days_count = (days - day_price_decrease)\n",
    "        else: \n",
    "            days_count = 0\n",
    "        days_to_wait.append(days_count)\n",
    "    df['days_to_wait'] = pd.Series(days_to_wait)\n",
    "    return df"
   ]
  },
  {
   "cell_type": "code",
   "execution_count": 184,
   "id": "previous-facing",
   "metadata": {},
   "outputs": [],
   "source": [
    "grouped = train_features.groupby(['id', 'days_until_dep'])['price'].mean().reset_index()\n",
    "pivot = grouped.pivot(index='id', columns='days_until_dep', values='price').reset_index()"
   ]
  },
  {
   "cell_type": "code",
   "execution_count": 188,
   "id": "offshore-corruption",
   "metadata": {},
   "outputs": [],
   "source": [
    "columns = list(map(int, list(pivot.columns)[1:]))\n",
    "cols_sorted = sorted(columns)\n",
    "cols_str = list(map(str, cols_sorted))\n",
    "new_cols_names = ['id'] + cols_str\n",
    "pivot = pivot[new_cols_names]"
   ]
  },
  {
   "cell_type": "code",
   "execution_count": 190,
   "id": "fleet-county",
   "metadata": {},
   "outputs": [],
   "source": [
    "pivot['hist_prices'] = pivot.values.tolist()\n",
    "pivot['hist_prices'] = pivot['hist_prices'].apply(lambda x: x[1:])"
   ]
  },
  {
   "cell_type": "code",
   "execution_count": 192,
   "id": "noted-beast",
   "metadata": {},
   "outputs": [],
   "source": [
    "pivot = pivot[['id', 'hist_prices']]\n",
    "df = pd.merge(train_features, pivot, on='id')"
   ]
  },
  {
   "cell_type": "code",
   "execution_count": 193,
   "id": "reduced-terrain",
   "metadata": {},
   "outputs": [
    {
     "data": {
      "text/plain": [
       "0    [78.0, nan, nan, nan, nan, nan, nan, nan, nan,...\n",
       "1    [91.0, nan, nan, nan, nan, nan, nan, nan, nan,...\n",
       "2    [91.0, nan, nan, nan, nan, nan, nan, nan, nan,...\n",
       "3    [108.0, nan, nan, nan, nan, nan, nan, nan, nan...\n",
       "4    [112.0, nan, nan, nan, nan, nan, nan, nan, nan...\n",
       "Name: hist_prices, dtype: object"
      ]
     },
     "execution_count": 193,
     "metadata": {},
     "output_type": "execute_result"
    }
   ],
   "source": [
    "df['hist_prices'].head()"
   ]
  },
  {
   "cell_type": "code",
   "execution_count": 219,
   "id": "about-light",
   "metadata": {},
   "outputs": [],
   "source": [
    "lista = np.array([nan,22,125,2])"
   ]
  },
  {
   "cell_type": "code",
   "execution_count": 226,
   "id": "broad-imaging",
   "metadata": {},
   "outputs": [
    {
     "data": {
      "text/plain": [
       "array([False,  True])"
      ]
     },
     "execution_count": 226,
     "metadata": {},
     "output_type": "execute_result"
    }
   ],
   "source": [
    "~np.isnan([np.nan, 22]).sum()"
   ]
  },
  {
   "cell_type": "code",
   "execution_count": 207,
   "id": "sealed-lloyd",
   "metadata": {},
   "outputs": [
    {
     "data": {
      "text/plain": [
       "(3, 2)"
      ]
     },
     "execution_count": 207,
     "metadata": {},
     "output_type": "execute_result"
    }
   ],
   "source": [
    "idx, val"
   ]
  },
  {
   "cell_type": "code",
   "execution_count": 242,
   "id": "welsh-former",
   "metadata": {},
   "outputs": [
    {
     "name": "stdout",
     "output_type": "stream",
     "text": [
      "5 399 [347. 399. 479. 258.] 4 141.0\n",
      "4 347 [399. 479. 258.] 3 89.0\n",
      "3 399 [479. 258.] 2 141.0\n",
      "2 479 [258.] 1 221.0\n",
      "6 235 [ inf  inf  inf 344.  inf] 0 0\n",
      "5 243 [237. 243.  inf  inf] 1 6.0\n",
      "4 237 [243.  inf  inf] 0 0\n",
      "4 244 [284. 284.  inf] 0 0\n",
      "3 284 [284.  inf] 0 0\n",
      "4 249 [ inf 315. 315.] 0 0\n",
      "2 315 [315.] 0 0\n",
      "2 309 [311.] 0 0\n"
     ]
    }
   ],
   "source": [
    "for row in df.tail(20).itertuples():\n",
    "    hist = row.hist_prices\n",
    "    row_days = int(row.days_until_dep)\n",
    "    next_days_prices = hist[:row_days-1][::-1]\n",
    "    if (~np.isnan(next_days_prices)).sum() > 0:\n",
    "        next_days_prices = np.nan_to_num(next_days_prices, nan=np.inf)\n",
    "        idx = np.argmin(next_days_prices)\n",
    "        min_price = next_days_prices[idx]\n",
    "        \n",
    "        if min_price < row.price:\n",
    "            days_to_wait = idx+1\n",
    "            price_diff = row.price - min_price\n",
    "        else:\n",
    "            days_to_wait = 0\n",
    "            price_diff = 0\n",
    "            \n",
    "        print(row_days, row.price, next_days_prices, days_to_wait, price_diff)\n",
    "    #print(min_price)\n",
    "    # ahora pensar como lo tiene que trabajar el evaluador\n",
    "    # min_price o price_diff"
   ]
  },
  {
   "cell_type": "code",
   "execution_count": 216,
   "id": "pretty-bookmark",
   "metadata": {},
   "outputs": [
    {
     "ename": "KeyboardInterrupt",
     "evalue": "",
     "output_type": "error",
     "traceback": [
      "\u001b[0;31m---------------------------------------------------------------------------\u001b[0m",
      "\u001b[0;31mKeyboardInterrupt\u001b[0m                         Traceback (most recent call last)",
      "\u001b[0;32m<timed exec>\u001b[0m in \u001b[0;36m<module>\u001b[0;34m\u001b[0m\n",
      "\u001b[0;32m<ipython-input-23-d6a57fc6137f>\u001b[0m in \u001b[0;36mget_daystowait\u001b[0;34m(df)\u001b[0m\n\u001b[1;32m      9\u001b[0m \u001b[0;34m\u001b[0m\u001b[0m\n\u001b[1;32m     10\u001b[0m         \u001b[0;31m# prices of the current flight\u001b[0m\u001b[0;34m\u001b[0m\u001b[0;34m\u001b[0m\u001b[0;34m\u001b[0m\u001b[0m\n\u001b[0;32m---> 11\u001b[0;31m         \u001b[0mprices_by_day\u001b[0m \u001b[0;34m=\u001b[0m \u001b[0mdf\u001b[0m\u001b[0;34m[\u001b[0m\u001b[0mdf\u001b[0m\u001b[0;34m[\u001b[0m\u001b[0;34m'id'\u001b[0m\u001b[0;34m]\u001b[0m \u001b[0;34m==\u001b[0m \u001b[0mrow_id\u001b[0m\u001b[0;34m]\u001b[0m\u001b[0;34m[\u001b[0m\u001b[0;34m[\u001b[0m\u001b[0;34m'days_until_dep'\u001b[0m\u001b[0;34m,\u001b[0m\u001b[0;34m'price'\u001b[0m\u001b[0;34m]\u001b[0m\u001b[0;34m]\u001b[0m\u001b[0;34m\u001b[0m\u001b[0;34m\u001b[0m\u001b[0m\n\u001b[0m\u001b[1;32m     12\u001b[0m         \u001b[0mprices_by_day\u001b[0m\u001b[0;34m[\u001b[0m\u001b[0;34m'days_until_dep'\u001b[0m\u001b[0;34m]\u001b[0m \u001b[0;34m=\u001b[0m \u001b[0mprices_by_day\u001b[0m\u001b[0;34m[\u001b[0m\u001b[0;34m'days_until_dep'\u001b[0m\u001b[0;34m]\u001b[0m\u001b[0;34m.\u001b[0m\u001b[0mastype\u001b[0m\u001b[0;34m(\u001b[0m\u001b[0mint\u001b[0m\u001b[0;34m)\u001b[0m\u001b[0;34m\u001b[0m\u001b[0;34m\u001b[0m\u001b[0m\n\u001b[1;32m     13\u001b[0m \u001b[0;34m\u001b[0m\u001b[0m\n",
      "\u001b[0;32m~/miniconda3/envs/tfm/lib/python3.9/site-packages/pandas/core/frame.py\u001b[0m in \u001b[0;36m__getitem__\u001b[0;34m(self, key)\u001b[0m\n\u001b[1;32m   3028\u001b[0m             \u001b[0;32mif\u001b[0m \u001b[0mis_iterator\u001b[0m\u001b[0;34m(\u001b[0m\u001b[0mkey\u001b[0m\u001b[0;34m)\u001b[0m\u001b[0;34m:\u001b[0m\u001b[0;34m\u001b[0m\u001b[0;34m\u001b[0m\u001b[0m\n\u001b[1;32m   3029\u001b[0m                 \u001b[0mkey\u001b[0m \u001b[0;34m=\u001b[0m \u001b[0mlist\u001b[0m\u001b[0;34m(\u001b[0m\u001b[0mkey\u001b[0m\u001b[0;34m)\u001b[0m\u001b[0;34m\u001b[0m\u001b[0;34m\u001b[0m\u001b[0m\n\u001b[0;32m-> 3030\u001b[0;31m             \u001b[0mindexer\u001b[0m \u001b[0;34m=\u001b[0m \u001b[0mself\u001b[0m\u001b[0;34m.\u001b[0m\u001b[0mloc\u001b[0m\u001b[0;34m.\u001b[0m\u001b[0m_get_listlike_indexer\u001b[0m\u001b[0;34m(\u001b[0m\u001b[0mkey\u001b[0m\u001b[0;34m,\u001b[0m \u001b[0maxis\u001b[0m\u001b[0;34m=\u001b[0m\u001b[0;36m1\u001b[0m\u001b[0;34m,\u001b[0m \u001b[0mraise_missing\u001b[0m\u001b[0;34m=\u001b[0m\u001b[0;32mTrue\u001b[0m\u001b[0;34m)\u001b[0m\u001b[0;34m[\u001b[0m\u001b[0;36m1\u001b[0m\u001b[0;34m]\u001b[0m\u001b[0;34m\u001b[0m\u001b[0;34m\u001b[0m\u001b[0m\n\u001b[0m\u001b[1;32m   3031\u001b[0m \u001b[0;34m\u001b[0m\u001b[0m\n\u001b[1;32m   3032\u001b[0m         \u001b[0;31m# take() does not accept boolean indexers\u001b[0m\u001b[0;34m\u001b[0m\u001b[0;34m\u001b[0m\u001b[0;34m\u001b[0m\u001b[0m\n",
      "\u001b[0;32m~/miniconda3/envs/tfm/lib/python3.9/site-packages/pandas/core/indexing.py\u001b[0m in \u001b[0;36m_get_listlike_indexer\u001b[0;34m(self, key, axis, raise_missing)\u001b[0m\n\u001b[1;32m   1258\u001b[0m             \u001b[0;32mreturn\u001b[0m \u001b[0max\u001b[0m\u001b[0;34m[\u001b[0m\u001b[0mindexer\u001b[0m\u001b[0;34m]\u001b[0m\u001b[0;34m,\u001b[0m \u001b[0mindexer\u001b[0m\u001b[0;34m\u001b[0m\u001b[0;34m\u001b[0m\u001b[0m\n\u001b[1;32m   1259\u001b[0m \u001b[0;34m\u001b[0m\u001b[0m\n\u001b[0;32m-> 1260\u001b[0;31m         \u001b[0;32mif\u001b[0m \u001b[0max\u001b[0m\u001b[0;34m.\u001b[0m\u001b[0m_index_as_unique\u001b[0m\u001b[0;34m:\u001b[0m\u001b[0;34m\u001b[0m\u001b[0;34m\u001b[0m\u001b[0m\n\u001b[0m\u001b[1;32m   1261\u001b[0m             \u001b[0mindexer\u001b[0m \u001b[0;34m=\u001b[0m \u001b[0max\u001b[0m\u001b[0;34m.\u001b[0m\u001b[0mget_indexer_for\u001b[0m\u001b[0;34m(\u001b[0m\u001b[0mkeyarr\u001b[0m\u001b[0;34m)\u001b[0m\u001b[0;34m\u001b[0m\u001b[0;34m\u001b[0m\u001b[0m\n\u001b[1;32m   1262\u001b[0m             \u001b[0mkeyarr\u001b[0m \u001b[0;34m=\u001b[0m \u001b[0max\u001b[0m\u001b[0;34m.\u001b[0m\u001b[0mreindex\u001b[0m\u001b[0;34m(\u001b[0m\u001b[0mkeyarr\u001b[0m\u001b[0;34m)\u001b[0m\u001b[0;34m[\u001b[0m\u001b[0;36m0\u001b[0m\u001b[0;34m]\u001b[0m\u001b[0;34m\u001b[0m\u001b[0;34m\u001b[0m\u001b[0m\n",
      "\u001b[0;32m~/miniconda3/envs/tfm/lib/python3.9/site-packages/pandas/core/indexes/base.py\u001b[0m in \u001b[0;36m_index_as_unique\u001b[0;34m(self)\u001b[0m\n\u001b[1;32m   4999\u001b[0m             \u001b[0;32mreturn\u001b[0m \u001b[0mno_matches\u001b[0m\u001b[0;34m,\u001b[0m \u001b[0mmissing\u001b[0m\u001b[0;34m\u001b[0m\u001b[0;34m\u001b[0m\u001b[0m\n\u001b[1;32m   5000\u001b[0m \u001b[0;34m\u001b[0m\u001b[0m\n\u001b[0;32m-> 5001\u001b[0;31m     \u001b[0;34m@\u001b[0m\u001b[0mproperty\u001b[0m\u001b[0;34m\u001b[0m\u001b[0;34m\u001b[0m\u001b[0m\n\u001b[0m\u001b[1;32m   5002\u001b[0m     \u001b[0;32mdef\u001b[0m \u001b[0m_index_as_unique\u001b[0m\u001b[0;34m(\u001b[0m\u001b[0mself\u001b[0m\u001b[0;34m)\u001b[0m\u001b[0;34m:\u001b[0m\u001b[0;34m\u001b[0m\u001b[0;34m\u001b[0m\u001b[0m\n\u001b[1;32m   5003\u001b[0m         \"\"\"\n",
      "\u001b[0;31mKeyboardInterrupt\u001b[0m: "
     ]
    }
   ],
   "source": [
    "%%time\n",
    "train_target = get_daystowait(train_features)\n",
    "test_target = get_daystowait(test_features)"
   ]
  },
  {
   "cell_type": "code",
   "execution_count": 25,
   "id": "polyphonic-trademark",
   "metadata": {},
   "outputs": [],
   "source": [
    "def get_labels(df, factor=0.2):\n",
    "    df = df.copy()\n",
    "    df['buy'] = df['days_to_wait'].apply(lambda days: 0 if days == 0 else 1)\n",
    "    return df"
   ]
  },
  {
   "cell_type": "code",
   "execution_count": 26,
   "id": "endangered-geology",
   "metadata": {},
   "outputs": [],
   "source": [
    "train_prepared = get_labels(train_target)\n",
    "test_prepared = get_labels(test_target)"
   ]
  },
  {
   "cell_type": "code",
   "execution_count": 27,
   "id": "immediate-hunger",
   "metadata": {},
   "outputs": [
    {
     "data": {
      "text/plain": [
       "0    86801\n",
       "1    28683\n",
       "Name: buy, dtype: int64"
      ]
     },
     "execution_count": 27,
     "metadata": {},
     "output_type": "execute_result"
    }
   ],
   "source": [
    "train_prepared['buy'].value_counts()"
   ]
  },
  {
   "cell_type": "code",
   "execution_count": null,
   "id": "foster-revolution",
   "metadata": {},
   "outputs": [],
   "source": []
  },
  {
   "cell_type": "markdown",
   "id": "unexpected-stereo",
   "metadata": {},
   "source": [
    "## Save processed data"
   ]
  },
  {
   "cell_type": "code",
   "execution_count": 28,
   "id": "sharing-provider",
   "metadata": {},
   "outputs": [],
   "source": [
    "columns = ['flyFrom', 'flyTo', 'orig-dest','dDate','day_of_month', 'day_of_week', 'fly_duration', 'distance',\n",
    "           'days_until_dep', 'session', 'airline', 'hops', 'direct', 'competition','price','log_price' ,'days_to_wait', 'buy']"
   ]
  },
  {
   "cell_type": "code",
   "execution_count": 29,
   "id": "operating-apache",
   "metadata": {},
   "outputs": [],
   "source": [
    "train_prepared[columns].to_csv('../data/processed/train.csv', index=False)\n",
    "test_prepared[columns].to_csv('../data/processed/test.csv', index=False)"
   ]
  },
  {
   "cell_type": "code",
   "execution_count": 32,
   "id": "massive-blind",
   "metadata": {},
   "outputs": [],
   "source": [
    "df = train_prepared.copy()"
   ]
  },
  {
   "cell_type": "code",
   "execution_count": 33,
   "id": "pharmaceutical-international",
   "metadata": {},
   "outputs": [],
   "source": [
    "df['id'] = df.groupby(['dDate', 'flyFrom', 'flyTo', 'dTime', 'aTime', 'airline']).ngroup()"
   ]
  },
  {
   "cell_type": "code",
   "execution_count": 34,
   "id": "sound-rebecca",
   "metadata": {},
   "outputs": [
    {
     "data": {
      "text/plain": [
       "28486"
      ]
     },
     "execution_count": 34,
     "metadata": {},
     "output_type": "execute_result"
    }
   ],
   "source": [
    "df['id'].nunique()"
   ]
  },
  {
   "cell_type": "code",
   "execution_count": 35,
   "id": "german-firmware",
   "metadata": {},
   "outputs": [],
   "source": [
    "df2 = df.groupby(['id', 'days_until_dep'])['price'].mean().reset_index()"
   ]
  },
  {
   "cell_type": "code",
   "execution_count": 36,
   "id": "social-proof",
   "metadata": {},
   "outputs": [
    {
     "data": {
      "text/html": [
       "<div>\n",
       "<style scoped>\n",
       "    .dataframe tbody tr th:only-of-type {\n",
       "        vertical-align: middle;\n",
       "    }\n",
       "\n",
       "    .dataframe tbody tr th {\n",
       "        vertical-align: top;\n",
       "    }\n",
       "\n",
       "    .dataframe thead th {\n",
       "        text-align: right;\n",
       "    }\n",
       "</style>\n",
       "<table border=\"1\" class=\"dataframe\">\n",
       "  <thead>\n",
       "    <tr style=\"text-align: right;\">\n",
       "      <th>days_until_dep</th>\n",
       "      <th>1</th>\n",
       "      <th>10</th>\n",
       "      <th>11</th>\n",
       "      <th>12</th>\n",
       "      <th>13</th>\n",
       "      <th>14</th>\n",
       "      <th>15</th>\n",
       "      <th>16</th>\n",
       "      <th>17</th>\n",
       "      <th>18</th>\n",
       "      <th>...</th>\n",
       "      <th>24</th>\n",
       "      <th>25</th>\n",
       "      <th>26</th>\n",
       "      <th>3</th>\n",
       "      <th>4</th>\n",
       "      <th>5</th>\n",
       "      <th>6</th>\n",
       "      <th>7</th>\n",
       "      <th>8</th>\n",
       "      <th>9</th>\n",
       "    </tr>\n",
       "    <tr>\n",
       "      <th>id</th>\n",
       "      <th></th>\n",
       "      <th></th>\n",
       "      <th></th>\n",
       "      <th></th>\n",
       "      <th></th>\n",
       "      <th></th>\n",
       "      <th></th>\n",
       "      <th></th>\n",
       "      <th></th>\n",
       "      <th></th>\n",
       "      <th></th>\n",
       "      <th></th>\n",
       "      <th></th>\n",
       "      <th></th>\n",
       "      <th></th>\n",
       "      <th></th>\n",
       "      <th></th>\n",
       "      <th></th>\n",
       "      <th></th>\n",
       "      <th></th>\n",
       "      <th></th>\n",
       "    </tr>\n",
       "  </thead>\n",
       "  <tbody>\n",
       "    <tr>\n",
       "      <th>0</th>\n",
       "      <td>163.0</td>\n",
       "      <td>NaN</td>\n",
       "      <td>NaN</td>\n",
       "      <td>NaN</td>\n",
       "      <td>NaN</td>\n",
       "      <td>NaN</td>\n",
       "      <td>NaN</td>\n",
       "      <td>NaN</td>\n",
       "      <td>NaN</td>\n",
       "      <td>NaN</td>\n",
       "      <td>...</td>\n",
       "      <td>NaN</td>\n",
       "      <td>NaN</td>\n",
       "      <td>NaN</td>\n",
       "      <td>NaN</td>\n",
       "      <td>NaN</td>\n",
       "      <td>NaN</td>\n",
       "      <td>NaN</td>\n",
       "      <td>NaN</td>\n",
       "      <td>NaN</td>\n",
       "      <td>NaN</td>\n",
       "    </tr>\n",
       "    <tr>\n",
       "      <th>1</th>\n",
       "      <td>773.0</td>\n",
       "      <td>NaN</td>\n",
       "      <td>NaN</td>\n",
       "      <td>NaN</td>\n",
       "      <td>NaN</td>\n",
       "      <td>NaN</td>\n",
       "      <td>NaN</td>\n",
       "      <td>NaN</td>\n",
       "      <td>NaN</td>\n",
       "      <td>NaN</td>\n",
       "      <td>...</td>\n",
       "      <td>NaN</td>\n",
       "      <td>NaN</td>\n",
       "      <td>NaN</td>\n",
       "      <td>NaN</td>\n",
       "      <td>NaN</td>\n",
       "      <td>NaN</td>\n",
       "      <td>NaN</td>\n",
       "      <td>NaN</td>\n",
       "      <td>NaN</td>\n",
       "      <td>NaN</td>\n",
       "    </tr>\n",
       "    <tr>\n",
       "      <th>2</th>\n",
       "      <td>426.0</td>\n",
       "      <td>NaN</td>\n",
       "      <td>NaN</td>\n",
       "      <td>NaN</td>\n",
       "      <td>NaN</td>\n",
       "      <td>NaN</td>\n",
       "      <td>NaN</td>\n",
       "      <td>NaN</td>\n",
       "      <td>NaN</td>\n",
       "      <td>NaN</td>\n",
       "      <td>...</td>\n",
       "      <td>NaN</td>\n",
       "      <td>NaN</td>\n",
       "      <td>NaN</td>\n",
       "      <td>NaN</td>\n",
       "      <td>NaN</td>\n",
       "      <td>NaN</td>\n",
       "      <td>NaN</td>\n",
       "      <td>NaN</td>\n",
       "      <td>NaN</td>\n",
       "      <td>NaN</td>\n",
       "    </tr>\n",
       "    <tr>\n",
       "      <th>3</th>\n",
       "      <td>532.0</td>\n",
       "      <td>NaN</td>\n",
       "      <td>NaN</td>\n",
       "      <td>NaN</td>\n",
       "      <td>NaN</td>\n",
       "      <td>NaN</td>\n",
       "      <td>NaN</td>\n",
       "      <td>NaN</td>\n",
       "      <td>NaN</td>\n",
       "      <td>NaN</td>\n",
       "      <td>...</td>\n",
       "      <td>NaN</td>\n",
       "      <td>NaN</td>\n",
       "      <td>NaN</td>\n",
       "      <td>NaN</td>\n",
       "      <td>NaN</td>\n",
       "      <td>NaN</td>\n",
       "      <td>NaN</td>\n",
       "      <td>NaN</td>\n",
       "      <td>NaN</td>\n",
       "      <td>NaN</td>\n",
       "    </tr>\n",
       "    <tr>\n",
       "      <th>4</th>\n",
       "      <td>454.0</td>\n",
       "      <td>NaN</td>\n",
       "      <td>NaN</td>\n",
       "      <td>NaN</td>\n",
       "      <td>NaN</td>\n",
       "      <td>NaN</td>\n",
       "      <td>NaN</td>\n",
       "      <td>NaN</td>\n",
       "      <td>NaN</td>\n",
       "      <td>NaN</td>\n",
       "      <td>...</td>\n",
       "      <td>NaN</td>\n",
       "      <td>NaN</td>\n",
       "      <td>NaN</td>\n",
       "      <td>NaN</td>\n",
       "      <td>NaN</td>\n",
       "      <td>NaN</td>\n",
       "      <td>NaN</td>\n",
       "      <td>NaN</td>\n",
       "      <td>NaN</td>\n",
       "      <td>NaN</td>\n",
       "    </tr>\n",
       "    <tr>\n",
       "      <th>...</th>\n",
       "      <td>...</td>\n",
       "      <td>...</td>\n",
       "      <td>...</td>\n",
       "      <td>...</td>\n",
       "      <td>...</td>\n",
       "      <td>...</td>\n",
       "      <td>...</td>\n",
       "      <td>...</td>\n",
       "      <td>...</td>\n",
       "      <td>...</td>\n",
       "      <td>...</td>\n",
       "      <td>...</td>\n",
       "      <td>...</td>\n",
       "      <td>...</td>\n",
       "      <td>...</td>\n",
       "      <td>...</td>\n",
       "      <td>...</td>\n",
       "      <td>...</td>\n",
       "      <td>...</td>\n",
       "      <td>...</td>\n",
       "      <td>...</td>\n",
       "    </tr>\n",
       "    <tr>\n",
       "      <th>28481</th>\n",
       "      <td>NaN</td>\n",
       "      <td>NaN</td>\n",
       "      <td>NaN</td>\n",
       "      <td>NaN</td>\n",
       "      <td>NaN</td>\n",
       "      <td>NaN</td>\n",
       "      <td>NaN</td>\n",
       "      <td>NaN</td>\n",
       "      <td>NaN</td>\n",
       "      <td>NaN</td>\n",
       "      <td>...</td>\n",
       "      <td>NaN</td>\n",
       "      <td>1070.0</td>\n",
       "      <td>NaN</td>\n",
       "      <td>NaN</td>\n",
       "      <td>NaN</td>\n",
       "      <td>NaN</td>\n",
       "      <td>NaN</td>\n",
       "      <td>NaN</td>\n",
       "      <td>NaN</td>\n",
       "      <td>NaN</td>\n",
       "    </tr>\n",
       "    <tr>\n",
       "      <th>28482</th>\n",
       "      <td>NaN</td>\n",
       "      <td>NaN</td>\n",
       "      <td>NaN</td>\n",
       "      <td>NaN</td>\n",
       "      <td>NaN</td>\n",
       "      <td>NaN</td>\n",
       "      <td>NaN</td>\n",
       "      <td>NaN</td>\n",
       "      <td>NaN</td>\n",
       "      <td>NaN</td>\n",
       "      <td>...</td>\n",
       "      <td>NaN</td>\n",
       "      <td>1070.0</td>\n",
       "      <td>NaN</td>\n",
       "      <td>NaN</td>\n",
       "      <td>NaN</td>\n",
       "      <td>NaN</td>\n",
       "      <td>NaN</td>\n",
       "      <td>NaN</td>\n",
       "      <td>NaN</td>\n",
       "      <td>NaN</td>\n",
       "    </tr>\n",
       "    <tr>\n",
       "      <th>28483</th>\n",
       "      <td>NaN</td>\n",
       "      <td>NaN</td>\n",
       "      <td>NaN</td>\n",
       "      <td>NaN</td>\n",
       "      <td>NaN</td>\n",
       "      <td>NaN</td>\n",
       "      <td>NaN</td>\n",
       "      <td>NaN</td>\n",
       "      <td>1390.0</td>\n",
       "      <td>NaN</td>\n",
       "      <td>...</td>\n",
       "      <td>NaN</td>\n",
       "      <td>1145.0</td>\n",
       "      <td>NaN</td>\n",
       "      <td>NaN</td>\n",
       "      <td>NaN</td>\n",
       "      <td>NaN</td>\n",
       "      <td>NaN</td>\n",
       "      <td>NaN</td>\n",
       "      <td>NaN</td>\n",
       "      <td>NaN</td>\n",
       "    </tr>\n",
       "    <tr>\n",
       "      <th>28484</th>\n",
       "      <td>NaN</td>\n",
       "      <td>NaN</td>\n",
       "      <td>NaN</td>\n",
       "      <td>NaN</td>\n",
       "      <td>NaN</td>\n",
       "      <td>NaN</td>\n",
       "      <td>NaN</td>\n",
       "      <td>NaN</td>\n",
       "      <td>NaN</td>\n",
       "      <td>NaN</td>\n",
       "      <td>...</td>\n",
       "      <td>NaN</td>\n",
       "      <td>1145.0</td>\n",
       "      <td>1109.0</td>\n",
       "      <td>NaN</td>\n",
       "      <td>NaN</td>\n",
       "      <td>NaN</td>\n",
       "      <td>NaN</td>\n",
       "      <td>NaN</td>\n",
       "      <td>NaN</td>\n",
       "      <td>NaN</td>\n",
       "    </tr>\n",
       "    <tr>\n",
       "      <th>28485</th>\n",
       "      <td>NaN</td>\n",
       "      <td>NaN</td>\n",
       "      <td>NaN</td>\n",
       "      <td>NaN</td>\n",
       "      <td>NaN</td>\n",
       "      <td>NaN</td>\n",
       "      <td>NaN</td>\n",
       "      <td>1404.0</td>\n",
       "      <td>NaN</td>\n",
       "      <td>1376.0</td>\n",
       "      <td>...</td>\n",
       "      <td>1170.0</td>\n",
       "      <td>NaN</td>\n",
       "      <td>NaN</td>\n",
       "      <td>NaN</td>\n",
       "      <td>NaN</td>\n",
       "      <td>NaN</td>\n",
       "      <td>NaN</td>\n",
       "      <td>NaN</td>\n",
       "      <td>NaN</td>\n",
       "      <td>NaN</td>\n",
       "    </tr>\n",
       "  </tbody>\n",
       "</table>\n",
       "<p>28486 rows × 26 columns</p>\n",
       "</div>"
      ],
      "text/plain": [
       "days_until_dep      1  10  11  12  13  14  15      16      17      18  ...  \\\n",
       "id                                                                     ...   \n",
       "0               163.0 NaN NaN NaN NaN NaN NaN     NaN     NaN     NaN  ...   \n",
       "1               773.0 NaN NaN NaN NaN NaN NaN     NaN     NaN     NaN  ...   \n",
       "2               426.0 NaN NaN NaN NaN NaN NaN     NaN     NaN     NaN  ...   \n",
       "3               532.0 NaN NaN NaN NaN NaN NaN     NaN     NaN     NaN  ...   \n",
       "4               454.0 NaN NaN NaN NaN NaN NaN     NaN     NaN     NaN  ...   \n",
       "...               ...  ..  ..  ..  ..  ..  ..     ...     ...     ...  ...   \n",
       "28481             NaN NaN NaN NaN NaN NaN NaN     NaN     NaN     NaN  ...   \n",
       "28482             NaN NaN NaN NaN NaN NaN NaN     NaN     NaN     NaN  ...   \n",
       "28483             NaN NaN NaN NaN NaN NaN NaN     NaN  1390.0     NaN  ...   \n",
       "28484             NaN NaN NaN NaN NaN NaN NaN     NaN     NaN     NaN  ...   \n",
       "28485             NaN NaN NaN NaN NaN NaN NaN  1404.0     NaN  1376.0  ...   \n",
       "\n",
       "days_until_dep      24      25      26   3   4   5   6   7   8   9  \n",
       "id                                                                  \n",
       "0                  NaN     NaN     NaN NaN NaN NaN NaN NaN NaN NaN  \n",
       "1                  NaN     NaN     NaN NaN NaN NaN NaN NaN NaN NaN  \n",
       "2                  NaN     NaN     NaN NaN NaN NaN NaN NaN NaN NaN  \n",
       "3                  NaN     NaN     NaN NaN NaN NaN NaN NaN NaN NaN  \n",
       "4                  NaN     NaN     NaN NaN NaN NaN NaN NaN NaN NaN  \n",
       "...                ...     ...     ...  ..  ..  ..  ..  ..  ..  ..  \n",
       "28481              NaN  1070.0     NaN NaN NaN NaN NaN NaN NaN NaN  \n",
       "28482              NaN  1070.0     NaN NaN NaN NaN NaN NaN NaN NaN  \n",
       "28483              NaN  1145.0     NaN NaN NaN NaN NaN NaN NaN NaN  \n",
       "28484              NaN  1145.0  1109.0 NaN NaN NaN NaN NaN NaN NaN  \n",
       "28485           1170.0     NaN     NaN NaN NaN NaN NaN NaN NaN NaN  \n",
       "\n",
       "[28486 rows x 26 columns]"
      ]
     },
     "execution_count": 36,
     "metadata": {},
     "output_type": "execute_result"
    }
   ],
   "source": [
    "pivot = df2.pivot(index='id', columns='days_until_dep', values='price')\n",
    "pivot"
   ]
  },
  {
   "cell_type": "code",
   "execution_count": 42,
   "id": "visible-mountain",
   "metadata": {},
   "outputs": [
    {
     "name": "stdout",
     "output_type": "stream",
     "text": [
      "115484\n"
     ]
    }
   ],
   "source": [
    "x= 0 \n",
    "for row in df.itertuples():\n",
    "    x += 1\n",
    "print(x)"
   ]
  },
  {
   "cell_type": "code",
   "execution_count": null,
   "id": "commercial-creativity",
   "metadata": {},
   "outputs": [],
   "source": [
    "aa = list(map(str,np.arange(1, 8)))"
   ]
  },
  {
   "cell_type": "code",
   "execution_count": null,
   "id": "orange-assignment",
   "metadata": {},
   "outputs": [],
   "source": [
    "aa"
   ]
  },
  {
   "cell_type": "code",
   "execution_count": null,
   "id": "double-material",
   "metadata": {},
   "outputs": [],
   "source": []
  },
  {
   "cell_type": "code",
   "execution_count": null,
   "id": "governmental-tension",
   "metadata": {},
   "outputs": [],
   "source": []
  },
  {
   "cell_type": "code",
   "execution_count": null,
   "id": "governing-insurance",
   "metadata": {},
   "outputs": [],
   "source": [
    "full = pd.merge(df, pivot.reset_index(), on='id')"
   ]
  },
  {
   "cell_type": "code",
   "execution_count": null,
   "id": "narrow-mirror",
   "metadata": {},
   "outputs": [],
   "source": [
    "full['range'] = full['days_until_dep'].apply(lambda x: list(map(str, np.arange(1, 8))))"
   ]
  },
  {
   "cell_type": "code",
   "execution_count": null,
   "id": "precious-struggle",
   "metadata": {},
   "outputs": [],
   "source": [
    "full[]"
   ]
  },
  {
   "cell_type": "code",
   "execution_count": null,
   "id": "neutral-grounds",
   "metadata": {},
   "outputs": [],
   "source": []
  }
 ],
 "metadata": {
  "kernelspec": {
   "display_name": "Python 3",
   "language": "python",
   "name": "python3"
  },
  "language_info": {
   "codemirror_mode": {
    "name": "ipython",
    "version": 3
   },
   "file_extension": ".py",
   "mimetype": "text/x-python",
   "name": "python",
   "nbconvert_exporter": "python",
   "pygments_lexer": "ipython3",
   "version": "3.9.1"
  }
 },
 "nbformat": 4,
 "nbformat_minor": 5
}
