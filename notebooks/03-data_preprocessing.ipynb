{
 "cells": [
  {
   "cell_type": "markdown",
   "id": "emotional-contamination",
   "metadata": {},
   "source": [
    "# 04 - Feature Engineering and Data Preprocessing"
   ]
  },
  {
   "cell_type": "code",
   "execution_count": 1,
   "id": "norwegian-helena",
   "metadata": {},
   "outputs": [],
   "source": [
    "import pandas as pd\n",
    "import numpy as np\n",
    "from datetime import datetime, timedelta\n",
    "from sklearn.preprocessing import StandardScaler, OneHotEncoder"
   ]
  },
  {
   "cell_type": "code",
   "execution_count": 2,
   "id": "patent-decline",
   "metadata": {},
   "outputs": [],
   "source": [
    "import warnings\n",
    "warnings.filterwarnings('ignore')"
   ]
  },
  {
   "cell_type": "markdown",
   "id": "clear-discipline",
   "metadata": {},
   "source": [
    "### Load data"
   ]
  },
  {
   "cell_type": "code",
   "execution_count": 129,
   "id": "local-runner",
   "metadata": {},
   "outputs": [],
   "source": [
    "train = pd.read_csv('../data/interim/train.csv')\n",
    "test = pd.read_csv('../data/interim/test.csv')"
   ]
  },
  {
   "cell_type": "markdown",
   "id": "worldwide-laptop",
   "metadata": {},
   "source": [
    "### Missing values"
   ]
  },
  {
   "cell_type": "code",
   "execution_count": 4,
   "id": "smoking-finding",
   "metadata": {},
   "outputs": [
    {
     "data": {
      "text/plain": [
       "collectionDate        0\n",
       "dDate                 0\n",
       "dTime                 0\n",
       "aDate                 0\n",
       "aTime                 0\n",
       "dTimeUTC              0\n",
       "aTimeUTC              0\n",
       "flyFrom               0\n",
       "flyTo                 0\n",
       "airlines              0\n",
       "flight_no             0\n",
       "fly_duration          0\n",
       "distance              0\n",
       "route                 0\n",
       "price                 0\n",
       "seats             32620\n",
       "cityFrom              0\n",
       "cityCodeFrom          0\n",
       "cityTo                0\n",
       "cityCodeTo            0\n",
       "countryFrom           0\n",
       "countryTo             0\n",
       "dtype: int64"
      ]
     },
     "execution_count": 4,
     "metadata": {},
     "output_type": "execute_result"
    }
   ],
   "source": [
    "train.isna().sum()"
   ]
  },
  {
   "cell_type": "code",
   "execution_count": 116,
   "id": "iraqi-registration",
   "metadata": {},
   "outputs": [],
   "source": [
    "# Removing 'seats' column because it has many missing values.\n",
    "for df in [train, test]:\n",
    "    df.drop('seats', axis=1, inplace=True)"
   ]
  },
  {
   "cell_type": "markdown",
   "id": "continuing-tissue",
   "metadata": {},
   "source": [
    "### Outliers?"
   ]
  },
  {
   "cell_type": "code",
   "execution_count": null,
   "id": "golden-classics",
   "metadata": {},
   "outputs": [],
   "source": []
  },
  {
   "cell_type": "markdown",
   "id": "timely-secondary",
   "metadata": {},
   "source": [
    "### Adding new features"
   ]
  },
  {
   "cell_type": "code",
   "execution_count": 130,
   "id": "balanced-saskatchewan",
   "metadata": {},
   "outputs": [],
   "source": [
    "def build_features(df):\n",
    "    df = df.copy()\n",
    "    # log transformation\n",
    "    df['log_price'] = np.log(df['price'])\n",
    "    # Day of month\n",
    "    df['day_of_month'] = pd.to_datetime(df['dDate']).dt.day\n",
    "\n",
    "    # Day of the week\n",
    "    df['day_of_week'] = pd.to_datetime(df['dDate']).apply(lambda x: x.day_of_week)\n",
    "    days_of_week = {0:'Monday', 1:'Tuesday', 2:'Wednesday', 3:'Thursday', 4:'Friday', 5:'Saturday', 6:'Sunday'}\n",
    "    df['day_of_week'] = df['day_of_week'].map(days_of_week)\n",
    "\n",
    "    # Session (morning, afternoon, night)\n",
    "    df['session'] = pd.cut(pd.to_datetime(df['dTime']), bins=3, labels=['night', 'morning', 'evening'])\n",
    "\n",
    "    # Route\n",
    "    df['orig-dest'] = df['flyFrom']+'-'+df['flyTo']\n",
    "    \n",
    "    # Airline\n",
    "    df['airline'] = df['airlines'].apply(lambda x: x.split(',')[0])\n",
    "    \n",
    "    # Days until Departure\n",
    "    collected = pd.to_datetime(df['collectionDate'])\n",
    "    departure =  pd.to_datetime(df['dDate'])\n",
    "    daysUntilDep = departure - collected\n",
    "    df['days_until_dep'] = daysUntilDep.apply(lambda x: str(x).split()[0])\n",
    "    \n",
    "    # Hopping\n",
    "    df['hops'] = df['route'].apply(lambda x: len(x.split('->')) - 2)\n",
    "    df['direct'] = df['hops'] == 0\n",
    "    \n",
    "    # Competition Factor\n",
    "    competition = df.groupby(['flyFrom','flyTo','dDate'])['airline'].nunique().reset_index()\n",
    "    competition.columns = ['flyFrom','flyTo','dDate', 'competition']\n",
    "    df = pd.merge(df, competition, on=['dDate', 'flyFrom', 'flyTo'])\n",
    "    \n",
    "    # id flight\n",
    "    df['id'] = df.groupby(['dDate', 'flyFrom', 'flyTo', 'dTime', 'aTime', 'airline', 'fly_duration']).ngroup()\n",
    "    \n",
    "    return df"
   ]
  },
  {
   "cell_type": "code",
   "execution_count": 131,
   "id": "right-actor",
   "metadata": {},
   "outputs": [],
   "source": [
    "train_features = build_features(train)\n",
    "test_features = build_features(test)"
   ]
  },
  {
   "cell_type": "code",
   "execution_count": 143,
   "id": "current-bottom",
   "metadata": {},
   "outputs": [
    {
     "data": {
      "text/plain": [
       "((115484, 33), (36981, 33))"
      ]
     },
     "execution_count": 143,
     "metadata": {},
     "output_type": "execute_result"
    }
   ],
   "source": [
    "train_features.shape, test_features.shape"
   ]
  },
  {
   "cell_type": "code",
   "execution_count": 127,
   "id": "universal-ribbon",
   "metadata": {},
   "outputs": [
    {
     "data": {
      "text/plain": [
       "Index(['collectionDate', 'dDate', 'dTime', 'aDate', 'aTime', 'dTimeUTC',\n",
       "       'aTimeUTC', 'flyFrom', 'flyTo', 'airlines', 'flight_no', 'fly_duration',\n",
       "       'distance', 'route', 'price', 'cityFrom', 'cityCodeFrom', 'cityTo',\n",
       "       'cityCodeTo', 'countryFrom', 'countryTo', 'log_price', 'day_of_month',\n",
       "       'day_of_week', 'session', 'orig-dest', 'airline', 'days_until_dep',\n",
       "       'hops', 'direct', 'competition', 'id', 'hist_prices_x', 'hist_prices_y',\n",
       "       'hist_prices'],\n",
       "      dtype='object')"
      ]
     },
     "execution_count": 127,
     "metadata": {},
     "output_type": "execute_result"
    }
   ],
   "source": [
    "train_features.columns"
   ]
  },
  {
   "cell_type": "code",
   "execution_count": 128,
   "id": "reliable-annual",
   "metadata": {},
   "outputs": [
    {
     "data": {
      "text/plain": [
       "Index(['collectionDate', 'dDate', 'dTime', 'aDate', 'aTime', 'dTimeUTC',\n",
       "       'aTimeUTC', 'flyFrom', 'flyTo', 'airlines', 'flight_no', 'fly_duration',\n",
       "       'distance', 'route', 'price', 'cityFrom', 'cityCodeFrom', 'cityTo',\n",
       "       'cityCodeTo', 'countryFrom', 'countryTo', 'log_price', 'day_of_month',\n",
       "       'day_of_week', 'session', 'orig-dest', 'airline', 'days_until_dep',\n",
       "       'hops', 'direct', 'competition', 'id', 'hist_prices_x', 'hist_prices_y',\n",
       "       'hist_prices_x', 'hist_prices_y'],\n",
       "      dtype='object')"
      ]
     },
     "execution_count": 128,
     "metadata": {},
     "output_type": "execute_result"
    }
   ],
   "source": [
    "test_features.columns"
   ]
  },
  {
   "cell_type": "code",
   "execution_count": 9,
   "id": "serious-madison",
   "metadata": {},
   "outputs": [],
   "source": [
    "import multiprocessing\n",
    "import numpy as np\n",
    "\n",
    "\n",
    "def parallelize_dataframe(df, func):\n",
    "    num_cores = multiprocessing.cpu_count()-1  #leave one free to not freeze machine\n",
    "    num_partitions = num_cores #number of partitions to split dataframe\n",
    "    df_split = np.array_split(df, num_partitions)\n",
    "    pool = multiprocessing.Pool(num_cores)\n",
    "    df = pd.concat(pool.map(func, df_split))\n",
    "    pool.close()\n",
    "    pool.join()\n",
    "    return df"
   ]
  },
  {
   "cell_type": "code",
   "execution_count": 10,
   "id": "dramatic-panama",
   "metadata": {},
   "outputs": [],
   "source": [
    "def get_daystowait(df):\n",
    "    df = df.copy()\n",
    "    days_to_wait = []\n",
    "    \n",
    "    for row in df.itertuples():\n",
    "        row_id = row.id\n",
    "        row_price = row.price\n",
    "        days = int(row.days_until_dep)\n",
    "        \n",
    "        # prices of the current flight\n",
    "        prices_by_day = df[df['id'] == row_id][['days_until_dep','price']]\n",
    "        prices_by_day['days_until_dep'] = prices_by_day['days_until_dep'].astype(int)\n",
    "        \n",
    "        # subset prices of following days\n",
    "        next_days = prices_by_day['days_until_dep'] < days\n",
    "        \n",
    "        # check which ones price decreases\n",
    "        price_decreases = prices_by_day['price'] < row_price\n",
    "        \n",
    "        # get the closest day\n",
    "        day_price_decrease = prices_by_day[next_days & price_decreases]['days_until_dep'].max()\n",
    "        \n",
    "        # compute how many days remain until price drop\n",
    "        if not np.isnan(day_price_decrease):    \n",
    "            days_count = (days - day_price_decrease)\n",
    "        else: \n",
    "            days_count = 0\n",
    "        days_to_wait.append(days_count)\n",
    "    df['days_to_wait'] = pd.Series(days_to_wait)\n",
    "    return df"
   ]
  },
  {
   "cell_type": "code",
   "execution_count": 148,
   "id": "bibliographic-rendering",
   "metadata": {},
   "outputs": [],
   "source": [
    "def get_hist_prices(df):\n",
    "    df = df.copy()\n",
    "    grouped = df.groupby(['id', 'days_until_dep'])['price'].mean().reset_index() # tweak: min or mean?\n",
    "    pivot = grouped.pivot(index='id', columns='days_until_dep', values='price').reset_index()\n",
    "    columns = list(map(int, list(pivot.columns)[1:]))\n",
    "    cols_sorted = sorted(columns)\n",
    "    cols_str = list(map(str, cols_sorted))\n",
    "    new_cols_names = ['id'] + cols_str\n",
    "    pivot = pivot[new_cols_names]\n",
    "    pivot['hist_prices'] = pivot.values.tolist()\n",
    "    pivot['hist_prices'] = pivot['hist_prices'].apply(lambda x: x[1:])\n",
    "    pivot = pivot[['id', 'hist_prices']]\n",
    "    df = pd.merge(df, pivot, on='id')\n",
    "    return df"
   ]
  },
  {
   "cell_type": "code",
   "execution_count": 149,
   "id": "possible-courage",
   "metadata": {},
   "outputs": [],
   "source": [
    "train_hist = get_hist_prices(train_features)\n",
    "test_hist = get_hist_prices(test_features)"
   ]
  },
  {
   "cell_type": "code",
   "execution_count": 150,
   "id": "enhanced-tradition",
   "metadata": {},
   "outputs": [
    {
     "data": {
      "text/plain": [
       "((115484, 34), (36981, 34))"
      ]
     },
     "execution_count": 150,
     "metadata": {},
     "output_type": "execute_result"
    }
   ],
   "source": [
    "train_hist.shape, test_hist.shape"
   ]
  },
  {
   "cell_type": "code",
   "execution_count": 86,
   "id": "blocked-spanish",
   "metadata": {},
   "outputs": [],
   "source": [
    "from tqdm import tqdm\n",
    "\n",
    "def get_waiting_days(df):\n",
    "    df['waiting_days'] = np.nan\n",
    "    for row in tqdm(df.itertuples(), total=df.shape[0]):\n",
    "        hist = row.hist_prices\n",
    "        row_days = int(row.days_until_dep)\n",
    "        next_days_prices = hist[:row_days-1][::-1]\n",
    "        \n",
    "        # init at 0\n",
    "        days_to_wait = 0\n",
    "        \n",
    "        if (~np.isnan(next_days_prices)).sum() > 0:\n",
    "            next_days_prices = np.nan_to_num(next_days_prices, nan=np.inf)\n",
    "            idx = np.argmin(next_days_prices)\n",
    "            min_price = next_days_prices[idx]\n",
    "            #price_diff = row.price - min_price\n",
    "            if min_price < row.price:\n",
    "                days_to_wait = idx+1\n",
    "        df['waiting_days'].iloc[row.Index] = days_to_wait\n",
    "    df['waiting_days'] = df['waiting_days'].astype(int)\n",
    "    return df"
   ]
  },
  {
   "cell_type": "code",
   "execution_count": 151,
   "id": "funded-handbook",
   "metadata": {},
   "outputs": [
    {
     "name": "stderr",
     "output_type": "stream",
     "text": [
      "100%|██████████| 115484/115484 [00:23<00:00, 4890.58it/s]\n",
      "100%|██████████| 36981/36981 [00:07<00:00, 4724.48it/s]"
     ]
    },
    {
     "name": "stdout",
     "output_type": "stream",
     "text": [
      "CPU times: user 31.4 s, sys: 1.32 s, total: 32.7 s\n",
      "Wall time: 31.5 s\n"
     ]
    },
    {
     "name": "stderr",
     "output_type": "stream",
     "text": [
      "\n"
     ]
    }
   ],
   "source": [
    "%%time\n",
    "train_target = get_waiting_days(train_hist)\n",
    "test_target = get_waiting_days(test_hist)"
   ]
  },
  {
   "cell_type": "code",
   "execution_count": 152,
   "id": "lined-proof",
   "metadata": {},
   "outputs": [],
   "source": [
    "def get_labels(df, factor=0.2):\n",
    "    df = df.copy()\n",
    "    df['buy'] = df['waiting_days'].apply(lambda days: 0 if days == 0 else 1)\n",
    "    return df"
   ]
  },
  {
   "cell_type": "code",
   "execution_count": 153,
   "id": "laden-edward",
   "metadata": {},
   "outputs": [],
   "source": [
    "train_prepared = get_labels(train_target)\n",
    "test_prepared = get_labels(test_target)"
   ]
  },
  {
   "cell_type": "code",
   "execution_count": 154,
   "id": "checked-globe",
   "metadata": {},
   "outputs": [
    {
     "data": {
      "text/plain": [
       "0    87287\n",
       "1    28197\n",
       "Name: buy, dtype: int64"
      ]
     },
     "execution_count": 154,
     "metadata": {},
     "output_type": "execute_result"
    }
   ],
   "source": [
    "train_prepared['buy'].value_counts()"
   ]
  },
  {
   "cell_type": "code",
   "execution_count": null,
   "id": "parental-female",
   "metadata": {},
   "outputs": [],
   "source": []
  },
  {
   "cell_type": "markdown",
   "id": "located-catholic",
   "metadata": {},
   "source": [
    "## Save processed data"
   ]
  },
  {
   "cell_type": "code",
   "execution_count": 157,
   "id": "boring-depth",
   "metadata": {},
   "outputs": [],
   "source": [
    "columns = ['flyFrom', 'flyTo', 'orig-dest','dDate','day_of_month', 'day_of_week', 'fly_duration', 'distance',\n",
    "           'days_until_dep', 'session', 'airline', 'hops', 'direct', 'competition','price','log_price' ,'waiting_days', 'buy']"
   ]
  },
  {
   "cell_type": "code",
   "execution_count": 159,
   "id": "federal-garage",
   "metadata": {},
   "outputs": [],
   "source": [
    "train_prepared[columns].to_csv('../data/processed/train_processed.csv', index=False)\n",
    "test_prepared[columns].to_csv('../data/processed/test_processed.csv', index=False)"
   ]
  },
  {
   "cell_type": "code",
   "execution_count": null,
   "id": "first-absorption",
   "metadata": {},
   "outputs": [],
   "source": []
  }
 ],
 "metadata": {
  "kernelspec": {
   "display_name": "Python 3",
   "language": "python",
   "name": "python3"
  },
  "language_info": {
   "codemirror_mode": {
    "name": "ipython",
    "version": 3
   },
   "file_extension": ".py",
   "mimetype": "text/x-python",
   "name": "python",
   "nbconvert_exporter": "python",
   "pygments_lexer": "ipython3",
   "version": "3.9.1"
  }
 },
 "nbformat": 4,
 "nbformat_minor": 5
}
