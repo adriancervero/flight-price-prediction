{
 "cells": [
  {
   "cell_type": "markdown",
   "id": "thorough-mailman",
   "metadata": {},
   "source": [
    "# 04 - Feature Engineering and Data Preprocessing\n",
    "In this notebook we will prepare the data for the training of the model. To do so, we will build new features that have already been explored in the previous notebook and group the data. We will also separate the data set between train and test."
   ]
  },
  {
   "cell_type": "markdown",
   "id": "preceding-offering",
   "metadata": {},
   "source": [
    "Steps:\n",
    "1. Load data\n",
    "2. Missing Values and Outliers\n",
    "3. Build features\n",
    "4. Aggregate flights\n",
    "5. Store data for training"
   ]
  },
  {
   "cell_type": "markdown",
   "id": "military-little",
   "metadata": {},
   "source": [
    "## Imports"
   ]
  },
  {
   "cell_type": "code",
   "execution_count": 1,
   "id": "ordinary-blues",
   "metadata": {},
   "outputs": [],
   "source": [
    "import pandas as pd\n",
    "import numpy as np\n",
    "from tqdm import tqdm\n",
    "from datetime import datetime, timedelta\n",
    "tqdm.pandas()\n",
    "\n",
    "import matplotlib.pyplot as plt\n",
    "import seaborn as sns"
   ]
  },
  {
   "cell_type": "code",
   "execution_count": 2,
   "id": "paperback-director",
   "metadata": {},
   "outputs": [],
   "source": [
    "import warnings\n",
    "warnings.filterwarnings('ignore')"
   ]
  },
  {
   "cell_type": "markdown",
   "id": "animal-program",
   "metadata": {},
   "source": [
    "## Functions"
   ]
  },
  {
   "cell_type": "code",
   "execution_count": 3,
   "id": "developing-office",
   "metadata": {},
   "outputs": [],
   "source": [
    "def add_days_until_dep_feature(df):\n",
    "    \"\"\" Remaining days until flight departure \"\"\"\n",
    "    collected = pd.to_datetime(df['collectionDate'])\n",
    "    departure =  pd.to_datetime(df['dDate'])\n",
    "    daysUntilDep = departure - collected\n",
    "    df['days_until_dep'] = daysUntilDep.dt.days\n",
    "    return df"
   ]
  },
  {
   "cell_type": "code",
   "execution_count": 4,
   "id": "immune-newfoundland",
   "metadata": {},
   "outputs": [],
   "source": [
    "def split_data(df, test_days=30):\n",
    "    \"\"\" Split data in train/test set \"\"\"\n",
    "    collection_dates = pd.to_datetime(df['collectionDate'])\n",
    "    departure_dates = pd.to_datetime(df['dDate'])\n",
    "    \n",
    "    split_date = collection_dates.max() - timedelta(days=test_days)\n",
    "    test_idx = (collection_dates >= split_date) & (departure_dates <= collection_dates.max())\n",
    "    test = df[test_idx]\n",
    "    train = df[~test_idx]\n",
    "    return train, test"
   ]
  },
  {
   "cell_type": "code",
   "execution_count": 5,
   "id": "executed-simon",
   "metadata": {},
   "outputs": [],
   "source": [
    "def q25(x):\n",
    "    \"\"\" Return first quantile of x \"\"\"\n",
    "    return x.quantile(0.25)"
   ]
  },
  {
   "cell_type": "code",
   "execution_count": 6,
   "id": "charitable-medication",
   "metadata": {},
   "outputs": [],
   "source": [
    "def get_last_days_q25(row):\n",
    "    \"\"\" Compute first quantile of last x days for each group \"\"\"\n",
    "    list_prices = row['list_prices']\n",
    "    start_idx = row['days_until_dep']\n",
    "    end_idx = start_idx+last_days\n",
    "\n",
    "    last_days_prices = list_prices[start_idx:end_idx]\n",
    "    if last_days_prices == []:\n",
    "        last_days_prices = list_prices[-1]\n",
    "    return np.quantile(last_days_prices, 0.25)"
   ]
  },
  {
   "cell_type": "code",
   "execution_count": 7,
   "id": "northern-columbus",
   "metadata": {},
   "outputs": [],
   "source": [
    "def get_labels(row):\n",
    "    \"\"\" Assign wait or buy label \"\"\"\n",
    "    current_d = row['days_until_dep']\n",
    "    current_price = row[combine_price_feature]\n",
    "    list_prices = np.array(row['list_prices'])\n",
    "    next_days = list_prices[:current_d-1]\n",
    "    if len(next_days) == 0:\n",
    "        return 0\n",
    "    else:\n",
    "        min_price = np.min(next_days)\n",
    "\n",
    "        if min_price < current_price and 1-(min_price/current_price) > min_drop_per:\n",
    "            return 1\n",
    "        else:\n",
    "            return 0"
   ]
  },
  {
   "cell_type": "markdown",
   "id": "controversial-person",
   "metadata": {},
   "source": [
    "### Config var.\n",
    "\n"
   ]
  },
  {
   "cell_type": "code",
   "execution_count": 12,
   "id": "worse-arbitration",
   "metadata": {},
   "outputs": [],
   "source": [
    "# feature to use to combine fare\n",
    "combine_price_feature = 'customPrice'\n",
    "# last days trend to compute customPrice and weight of this trend\n",
    "last_days = 20\n",
    "w = 0.7\n",
    "# percentage of the minimum price drop to take into account to consider it worthwhile to wait\n",
    "min_drop_per = 0.05 \n",
    "# feature used for agg. flights\n",
    "agg_cols = ['orig-dest', 'airline', 'session', 'days_until_dep']"
   ]
  },
  {
   "cell_type": "markdown",
   "id": "known-interpretation",
   "metadata": {},
   "source": [
    "## 1. Load data"
   ]
  },
  {
   "cell_type": "code",
   "execution_count": 8,
   "id": "afraid-eight",
   "metadata": {},
   "outputs": [
    {
     "data": {
      "text/plain": [
       "(1365075, 22)"
      ]
     },
     "execution_count": 8,
     "metadata": {},
     "output_type": "execute_result"
    }
   ],
   "source": [
    "df = pd.read_csv('../data/interim/flights_interim_small.csv')\n",
    "df.shape"
   ]
  },
  {
   "cell_type": "markdown",
   "id": "sharp-vampire",
   "metadata": {},
   "source": [
    "## 2. Missing Values and Outliers"
   ]
  },
  {
   "cell_type": "markdown",
   "id": "native-arthur",
   "metadata": {},
   "source": [
    "### Missing values"
   ]
  },
  {
   "cell_type": "code",
   "execution_count": 9,
   "id": "functional-appliance",
   "metadata": {},
   "outputs": [],
   "source": [
    "# remove seats because have many nan values and columns that we do not going to use\n",
    "drop_cols = ['seats', 'dTimeUTC', 'aTimeUTC', 'flight_no',\n",
    "            'cityFrom', 'cityCodeFrom', 'cityTo', 'cityCodeTo', 'countryFrom',\n",
    "             'countryTo']\n",
    "df.drop(drop_cols, axis=1, inplace=True);"
   ]
  },
  {
   "cell_type": "markdown",
   "id": "composed-savage",
   "metadata": {},
   "source": [
    "### Outliers"
   ]
  },
  {
   "cell_type": "code",
   "execution_count": 10,
   "id": "labeled-machinery",
   "metadata": {},
   "outputs": [],
   "source": [
    "Q1 = df['price'].quantile(.25)\n",
    "Q3 = df['price'].quantile(.75)\n",
    "IQR = Q3-Q1\n",
    "# removing prices above IQR * 1.5\n",
    "df = df[df['price'] < IQR*1.5 ]"
   ]
  },
  {
   "cell_type": "markdown",
   "id": "colored-oliver",
   "metadata": {},
   "source": [
    "## 3. Build features"
   ]
  },
  {
   "cell_type": "markdown",
   "id": "worthy-arthur",
   "metadata": {},
   "source": [
    "Adding the features we have already explored in the previous notebook"
   ]
  },
  {
   "cell_type": "code",
   "execution_count": 11,
   "id": "copyrighted-treasury",
   "metadata": {},
   "outputs": [],
   "source": [
    "# Adding new features\n",
    "\n",
    "# orig and dest in same column\n",
    "df['orig-dest'] = df['flyFrom']+'-'+df['flyTo']\n",
    "# departure time in three categories: 'morning', 'evening', 'night'\n",
    "df['session'] = pd.cut(pd.to_datetime(df['dTime']), bins=3, labels=['night', 'morning', 'evening'])\n",
    "# Departure day of week\n",
    "days_of_week = {5:'Monday', 6:'Tuesday', 0:'Wednesday', 1:'Thursday', 2:'Friday', 3:'Saturday', 4:'Sunday'}\n",
    "df['day_of_week'] = pd.to_datetime(df['dTime']).dt.weekday.map(days_of_week)\n",
    "# airline\n",
    "df['airline'] = df['airlines'].apply(lambda x: x.split(',')[0])\n",
    "# days until departure\n",
    "df = add_days_until_dep_feature(df)\n",
    "\n",
    "#df['groupID'] = df[agg_cols].agg('_'.join, axis=1)"
   ]
  },
  {
   "cell_type": "markdown",
   "id": "strange-newsletter",
   "metadata": {},
   "source": [
    "## 3. Split data into train, valid and test"
   ]
  },
  {
   "cell_type": "code",
   "execution_count": 13,
   "id": "unknown-venice",
   "metadata": {},
   "outputs": [],
   "source": [
    "## Getting the last 30 days\n",
    "train, test = split_data(df)"
   ]
  },
  {
   "cell_type": "code",
   "execution_count": 14,
   "id": "strategic-advocacy",
   "metadata": {},
   "outputs": [
    {
     "data": {
      "text/plain": [
       "((903626, 17), (145502, 17))"
      ]
     },
     "execution_count": 14,
     "metadata": {},
     "output_type": "execute_result"
    }
   ],
   "source": [
    "train.shape, test.shape"
   ]
  },
  {
   "cell_type": "code",
   "execution_count": 15,
   "id": "paperback-median",
   "metadata": {},
   "outputs": [],
   "source": [
    "valid_idx = test.sample(frac=.5, random_state=42).index"
   ]
  },
  {
   "cell_type": "code",
   "execution_count": 16,
   "id": "latin-japanese",
   "metadata": {},
   "outputs": [],
   "source": [
    "valid = test.loc[valid_idx].copy()\n",
    "test = test.drop(valid_idx)"
   ]
  },
  {
   "cell_type": "markdown",
   "id": "auburn-credits",
   "metadata": {},
   "source": [
    "## 4. Aggregate flights"
   ]
  },
  {
   "cell_type": "markdown",
   "id": "favorite-crown",
   "metadata": {},
   "source": [
    "First, we will aggregate flights by some features."
   ]
  },
  {
   "cell_type": "code",
   "execution_count": 35,
   "id": "architectural-department",
   "metadata": {},
   "outputs": [
    {
     "name": "stdout",
     "output_type": "stream",
     "text": [
      "CPU times: user 23 s, sys: 99.4 ms, total: 23.1 s\n",
      "Wall time: 23.2 s\n"
     ]
    }
   ],
   "source": [
    "%%time\n",
    "# Grouping fligths by previously defined agg. cols. (orig-dest, airline, session, days_until_dep)\n",
    "grouped = train \\\n",
    "            .groupby(agg_cols)[['price', 'fly_duration']] \\\n",
    "            .agg({'price':['min', 'median', q25, 'count'],\n",
    "                  'fly_duration':'mean'}).dropna().reset_index()\n",
    "\n",
    "# remove multilevel columns\n",
    "grouped.columns = agg_cols + ['min', 'median', 'q25', 'count', 'fly_duration']\n",
    "\n",
    "# count will act like some kind of competition factor\n",
    "grouped.rename(columns={'count':'competition'}, inplace=True)"
   ]
  },
  {
   "cell_type": "markdown",
   "id": "blond-horizon",
   "metadata": {},
   "source": [
    "Now we are going to add a new feature called 'customPrice' that will serve as a representation of the fare of each group taking into account the trend of the last few days. Finally we use this value to estimate to buy or wait for a price drop (labels)"
   ]
  },
  {
   "cell_type": "markdown",
   "id": "unique-douglas",
   "metadata": {},
   "source": [
    "customPrice = w * Total_q25 + (1-w)*(Last_days_q25)"
   ]
  },
  {
   "cell_type": "code",
   "execution_count": 37,
   "id": "wired-singles",
   "metadata": {},
   "outputs": [],
   "source": [
    "# Feature 'total_q25': First quantile of each group during all time period\n",
    "total_q25 = train.groupby(agg_cols)['price'].quantile(0.25) ######################### Revisar\n",
    "total_q25 = total_q25.rename('total_q25').reset_index()\n",
    "grouped['total_q25'] = pd.merge(grouped, total_q25, on=agg_cols, how='left')['total_q25']"
   ]
  },
  {
   "cell_type": "code",
   "execution_count": 38,
   "id": "serial-priority",
   "metadata": {},
   "outputs": [],
   "source": [
    "# lastdays_q25: First quantile of last n days \n",
    "list_prices = grouped.groupby(['orig-dest','airline', 'session'])['q25'].agg(list)\n",
    "list_prices = list_prices.reset_index()\n",
    "list_prices.rename(columns={'q25':'list_prices'}, inplace=True)\n",
    "grouped['list_prices'] = pd.merge(grouped, list_prices, on=['orig-dest','airline','session'], how='left')['list_prices']"
   ]
  },
  {
   "cell_type": "code",
   "execution_count": 39,
   "id": "accessory-increase",
   "metadata": {},
   "outputs": [
    {
     "name": "stderr",
     "output_type": "stream",
     "text": [
      "100%|██████████| 36425/36425 [00:05<00:00, 6818.92it/s]\n"
     ]
    }
   ],
   "source": [
    "grouped['lastdays_q25'] = grouped.progress_apply(get_last_days_q25, axis=1) "
   ]
  },
  {
   "cell_type": "code",
   "execution_count": 40,
   "id": "fitting-juice",
   "metadata": {},
   "outputs": [],
   "source": [
    "# CustomPrice = ticket price weightened considering last days trend\n",
    "# We use this feature for estimate labels\n",
    "grouped['customPrice'] =  w * grouped['total_q25'] + (1-w) * grouped['lastdays_q25']"
   ]
  },
  {
   "cell_type": "code",
   "execution_count": 41,
   "id": "activated-halifax",
   "metadata": {},
   "outputs": [
    {
     "name": "stderr",
     "output_type": "stream",
     "text": [
      "100%|██████████| 36425/36425 [00:02<00:00, 17112.77it/s]\n"
     ]
    }
   ],
   "source": [
    "# Wait/no wait labels\n",
    "grouped['wait'] = grouped.progress_apply(get_labels, axis=1)"
   ]
  },
  {
   "cell_type": "code",
   "execution_count": 42,
   "id": "cultural-seller",
   "metadata": {},
   "outputs": [
    {
     "data": {
      "text/plain": [
       "1    20860\n",
       "0    15565\n",
       "Name: wait, dtype: int64"
      ]
     },
     "execution_count": 42,
     "metadata": {},
     "output_type": "execute_result"
    }
   ],
   "source": [
    "grouped['wait'].value_counts()"
   ]
  },
  {
   "cell_type": "code",
   "execution_count": 43,
   "id": "daily-economy",
   "metadata": {},
   "outputs": [],
   "source": [
    "grouped.drop(['total_q25', 'list_prices', 'lastdays_q25'], axis=1, inplace=True, errors='ignore')"
   ]
  },
  {
   "cell_type": "markdown",
   "id": "nominated-innocent",
   "metadata": {},
   "source": [
    "We will now use the new labels to estimate a new feature: the percentage of 'wait' labeled in each group."
   ]
  },
  {
   "cell_type": "code",
   "execution_count": 44,
   "id": "victorian-discipline",
   "metadata": {},
   "outputs": [],
   "source": [
    "probs = grouped.groupby(['orig-dest','session' ,'days_until_dep'])['wait'].mean().reset_index()\n",
    "probs.rename(columns={'wait':'prob'}, inplace=True)\n",
    "grouped = pd.merge(grouped, probs, on=['orig-dest', 'session' ,'days_until_dep'], how='left')"
   ]
  },
  {
   "cell_type": "code",
   "execution_count": 45,
   "id": "composite-japanese",
   "metadata": {},
   "outputs": [
    {
     "data": {
      "image/png": "[encoded data removed]",
      "text/plain": [
       "<Figure size 576x360 with 1 Axes>"
      ]
     },
     "metadata": {
      "needs_background": "light"
     },
     "output_type": "display_data"
    }
   ],
   "source": [
    "wait_grouped = grouped.groupby(['orig-dest','days_until_dep'])['wait'].mean().reset_index()\n",
    "plt.figure(figsize=(8,5))\n",
    "sns.scatterplot(x='days_until_dep', y='wait', hue='wait', data=wait_grouped);"
   ]
  },
  {
   "cell_type": "code",
   "execution_count": 46,
   "id": "subsequent-balloon",
   "metadata": {},
   "outputs": [
    {
     "data": {
      "text/html": [
       "<div>\n",
       "<style scoped>\n",
       "    .dataframe tbody tr th:only-of-type {\n",
       "        vertical-align: middle;\n",
       "    }\n",
       "\n",
       "    .dataframe tbody tr th {\n",
       "        vertical-align: top;\n",
       "    }\n",
       "\n",
       "    .dataframe thead th {\n",
       "        text-align: right;\n",
       "    }\n",
       "</style>\n",
       "<table border=\"1\" class=\"dataframe\">\n",
       "  <thead>\n",
       "    <tr style=\"text-align: right;\">\n",
       "      <th></th>\n",
       "      <th>orig-dest</th>\n",
       "      <th>airline</th>\n",
       "      <th>session</th>\n",
       "      <th>days_until_dep</th>\n",
       "      <th>min</th>\n",
       "      <th>median</th>\n",
       "      <th>q25</th>\n",
       "      <th>competition</th>\n",
       "      <th>fly_duration</th>\n",
       "      <th>customPrice</th>\n",
       "      <th>wait</th>\n",
       "      <th>prob</th>\n",
       "    </tr>\n",
       "  </thead>\n",
       "  <tbody>\n",
       "    <tr>\n",
       "      <th>21276</th>\n",
       "      <td>MAD-JFK</td>\n",
       "      <td>AF</td>\n",
       "      <td>night</td>\n",
       "      <td>1</td>\n",
       "      <td>354.0</td>\n",
       "      <td>394.0</td>\n",
       "      <td>386.0</td>\n",
       "      <td>23</td>\n",
       "      <td>15.259420</td>\n",
       "      <td>336.78125</td>\n",
       "      <td>0</td>\n",
       "      <td>0.000000</td>\n",
       "    </tr>\n",
       "    <tr>\n",
       "      <th>3921</th>\n",
       "      <td>BCN-AMS</td>\n",
       "      <td>U2</td>\n",
       "      <td>evening</td>\n",
       "      <td>30</td>\n",
       "      <td>67.0</td>\n",
       "      <td>138.0</td>\n",
       "      <td>113.0</td>\n",
       "      <td>27</td>\n",
       "      <td>16.293210</td>\n",
       "      <td>102.42500</td>\n",
       "      <td>0</td>\n",
       "      <td>0.545455</td>\n",
       "    </tr>\n",
       "    <tr>\n",
       "      <th>28966</th>\n",
       "      <td>MAD-LHR</td>\n",
       "      <td>UX</td>\n",
       "      <td>morning</td>\n",
       "      <td>59</td>\n",
       "      <td>64.0</td>\n",
       "      <td>97.5</td>\n",
       "      <td>85.0</td>\n",
       "      <td>4</td>\n",
       "      <td>6.479167</td>\n",
       "      <td>76.90000</td>\n",
       "      <td>1</td>\n",
       "      <td>0.636364</td>\n",
       "    </tr>\n",
       "    <tr>\n",
       "      <th>10188</th>\n",
       "      <td>BCN-LGW</td>\n",
       "      <td>EW</td>\n",
       "      <td>evening</td>\n",
       "      <td>55</td>\n",
       "      <td>142.0</td>\n",
       "      <td>142.0</td>\n",
       "      <td>142.0</td>\n",
       "      <td>1</td>\n",
       "      <td>14.666667</td>\n",
       "      <td>186.02500</td>\n",
       "      <td>1</td>\n",
       "      <td>0.807692</td>\n",
       "    </tr>\n",
       "    <tr>\n",
       "      <th>34001</th>\n",
       "      <td>MAD-MEX</td>\n",
       "      <td>Y4</td>\n",
       "      <td>night</td>\n",
       "      <td>41</td>\n",
       "      <td>312.0</td>\n",
       "      <td>337.0</td>\n",
       "      <td>315.5</td>\n",
       "      <td>7</td>\n",
       "      <td>25.678571</td>\n",
       "      <td>309.70625</td>\n",
       "      <td>0</td>\n",
       "      <td>0.750000</td>\n",
       "    </tr>\n",
       "  </tbody>\n",
       "</table>\n",
       "</div>"
      ],
      "text/plain": [
       "      orig-dest airline  session  days_until_dep    min  median    q25  \\\n",
       "21276   MAD-JFK      AF    night               1  354.0   394.0  386.0   \n",
       "3921    BCN-AMS      U2  evening              30   67.0   138.0  113.0   \n",
       "28966   MAD-LHR      UX  morning              59   64.0    97.5   85.0   \n",
       "10188   BCN-LGW      EW  evening              55  142.0   142.0  142.0   \n",
       "34001   MAD-MEX      Y4    night              41  312.0   337.0  315.5   \n",
       "\n",
       "       competition  fly_duration  customPrice  wait      prob  \n",
       "21276           23     15.259420    336.78125     0  0.000000  \n",
       "3921            27     16.293210    102.42500     0  0.545455  \n",
       "28966            4      6.479167     76.90000     1  0.636364  \n",
       "10188            1     14.666667    186.02500     1  0.807692  \n",
       "34001            7     25.678571    309.70625     0  0.750000  "
      ]
     },
     "execution_count": 46,
     "metadata": {},
     "output_type": "execute_result"
    }
   ],
   "source": [
    "# final dataframe \n",
    "grouped.sample(5)"
   ]
  },
  {
   "cell_type": "markdown",
   "id": "surprised-extraction",
   "metadata": {},
   "source": [
    "#### Estimating days to wait and price drop percentage\n",
    "In addition to predicting whether or not a flight will drop in price. We want to provide the user with an estimate of the **number of days to wait** and what the **percentage price drop** will be after that wait.\n",
    "\\\n",
    "To do this we will create bins of 5 days for the values of 'days_until_dep', to each bin we will assign an estimated value. We will use these bins to look for the minimum price in the following days. The difference between the \"current\" bin and the next bin with the minimum price will be the expected price drop. \n",
    "\\\n",
    "For storing all this information we will create a new dataframe called 'price_bins'."
   ]
  },
  {
   "cell_type": "code",
   "execution_count": 47,
   "id": "positive-profile",
   "metadata": {},
   "outputs": [],
   "source": [
    "# Days to wait\n",
    "\n",
    "# Creation of bins\n",
    "lower = train['days_until_dep'].min()\n",
    "higher = train['days_until_dep'].max()\n",
    "\n",
    "n_bins = int(higher/5)\n",
    "edges = range(lower, higher+5, 5)\n",
    "\n",
    "lbs = ['(%d, %d]'%(edges[i], edges[i+1]) for i in range(len(edges)-1)]\n",
    "train['days_bins'] = pd.cut(train['days_until_dep'],bins=n_bins, labels=lbs)"
   ]
  },
  {
   "cell_type": "code",
   "execution_count": 48,
   "id": "written-trinidad",
   "metadata": {},
   "outputs": [],
   "source": [
    "# create dataframe with bins and an estimate for the price \n",
    "price_bins = train.groupby(['orig-dest', 'airline', 'days_bins'])['price'].quantile(.25).rename('price_est').reset_index().dropna()"
   ]
  },
  {
   "cell_type": "code",
   "execution_count": 49,
   "id": "capable-ivory",
   "metadata": {},
   "outputs": [
    {
     "data": {
      "image/png": "[encoded data removed]",
      "text/plain": [
       "<Figure size 576x288 with 1 Axes>"
      ]
     },
     "metadata": {
      "needs_background": "light"
     },
     "output_type": "display_data"
    }
   ],
   "source": [
    "# plotting bins prices\n",
    "plt.figure(figsize=(8,4))\n",
    "sns.boxplot(x='days_bins', y='price_est', data=price_bins);\n",
    "plt.xticks(rotation=45);"
   ]
  },
  {
   "cell_type": "code",
   "execution_count": 50,
   "id": "incorporated-librarian",
   "metadata": {},
   "outputs": [],
   "source": [
    "# adding bins edges. We will use this for compute days to wait\n",
    "price_bins['bin_min'] = price_bins['days_bins'].astype('str').apply(lambda x: int(x.strip('(]').split(', ')[0])+1)\n",
    "price_bins['bin_max'] = price_bins['days_bins'].astype('str').apply(lambda x: int(x.strip('(]').split(', ')[1]))"
   ]
  },
  {
   "cell_type": "code",
   "execution_count": 53,
   "id": "maritime-tradition",
   "metadata": {},
   "outputs": [
    {
     "data": {
      "text/html": [
       "<div>\n",
       "<style scoped>\n",
       "    .dataframe tbody tr th:only-of-type {\n",
       "        vertical-align: middle;\n",
       "    }\n",
       "\n",
       "    .dataframe tbody tr th {\n",
       "        vertical-align: top;\n",
       "    }\n",
       "\n",
       "    .dataframe thead th {\n",
       "        text-align: right;\n",
       "    }\n",
       "</style>\n",
       "<table border=\"1\" class=\"dataframe\">\n",
       "  <thead>\n",
       "    <tr style=\"text-align: right;\">\n",
       "      <th></th>\n",
       "      <th>orig-dest</th>\n",
       "      <th>airline</th>\n",
       "      <th>days_bins</th>\n",
       "      <th>price_est</th>\n",
       "      <th>bin_min</th>\n",
       "      <th>bin_max</th>\n",
       "    </tr>\n",
       "  </thead>\n",
       "  <tbody>\n",
       "    <tr>\n",
       "      <th>12100</th>\n",
       "      <td>MAD-LHR</td>\n",
       "      <td>LG</td>\n",
       "      <td>(21, 26]</td>\n",
       "      <td>284.0</td>\n",
       "      <td>22</td>\n",
       "      <td>26</td>\n",
       "    </tr>\n",
       "    <tr>\n",
       "      <th>11593</th>\n",
       "      <td>MAD-LHR</td>\n",
       "      <td>BA</td>\n",
       "      <td>(46, 51]</td>\n",
       "      <td>84.0</td>\n",
       "      <td>47</td>\n",
       "      <td>51</td>\n",
       "    </tr>\n",
       "    <tr>\n",
       "      <th>7756</th>\n",
       "      <td>MAD-BCN</td>\n",
       "      <td>TP</td>\n",
       "      <td>(61, 66]</td>\n",
       "      <td>70.0</td>\n",
       "      <td>62</td>\n",
       "      <td>66</td>\n",
       "    </tr>\n",
       "    <tr>\n",
       "      <th>2404</th>\n",
       "      <td>BCN-FCO</td>\n",
       "      <td>LG</td>\n",
       "      <td>(21, 26]</td>\n",
       "      <td>170.5</td>\n",
       "      <td>22</td>\n",
       "      <td>26</td>\n",
       "    </tr>\n",
       "    <tr>\n",
       "      <th>4499</th>\n",
       "      <td>BCN-LGW</td>\n",
       "      <td>TO</td>\n",
       "      <td>(16, 21]</td>\n",
       "      <td>179.0</td>\n",
       "      <td>17</td>\n",
       "      <td>21</td>\n",
       "    </tr>\n",
       "  </tbody>\n",
       "</table>\n",
       "</div>"
      ],
      "text/plain": [
       "      orig-dest airline days_bins  price_est  bin_min  bin_max\n",
       "12100   MAD-LHR      LG  (21, 26]      284.0       22       26\n",
       "11593   MAD-LHR      BA  (46, 51]       84.0       47       51\n",
       "7756    MAD-BCN      TP  (61, 66]       70.0       62       66\n",
       "2404    BCN-FCO      LG  (21, 26]      170.5       22       26\n",
       "4499    BCN-LGW      TO  (16, 21]      179.0       17       21"
      ]
     },
     "execution_count": 53,
     "metadata": {},
     "output_type": "execute_result"
    }
   ],
   "source": [
    "# final dataframe\n",
    "price_bins.sample(5)"
   ]
  },
  {
   "cell_type": "code",
   "execution_count": 54,
   "id": "passive-singing",
   "metadata": {},
   "outputs": [],
   "source": [
    "bins_days = train[['days_until_dep', 'days_bins']].drop_duplicates()\n",
    "bins_days['days_bins'] = bins_days['days_bins'].cat.codes"
   ]
  },
  {
   "cell_type": "code",
   "execution_count": 55,
   "id": "appreciated-advice",
   "metadata": {},
   "outputs": [],
   "source": [
    "price_bins.to_csv('../data/processed/price_bins.csv', index=False)\n",
    "bins_days.to_csv('../data/processed/bins_days.csv', index=False)"
   ]
  },
  {
   "cell_type": "markdown",
   "id": "persistent-vessel",
   "metadata": {},
   "source": [
    "## 5. Save processed data"
   ]
  },
  {
   "cell_type": "code",
   "execution_count": 52,
   "id": "applied-amateur",
   "metadata": {},
   "outputs": [],
   "source": [
    "grouped.to_csv('../data/processed/train.csv', index=False)\n",
    "valid.to_csv('../data/processed/valid.csv', index=False)\n",
    "test.to_csv('../data/processed/test.csv', index=False)"
   ]
  },
  {
   "cell_type": "code",
   "execution_count": null,
   "id": "organized-enhancement",
   "metadata": {},
   "outputs": [],
   "source": []
  }
 ],
 "metadata": {
  "kernelspec": {
   "display_name": "Python 3",
   "language": "python",
   "name": "python3"
  },
  "language_info": {
   "codemirror_mode": {
    "name": "ipython",
    "version": 3
   },
   "file_extension": ".py",
   "mimetype": "text/x-python",
   "name": "python",
   "nbconvert_exporter": "python",
   "pygments_lexer": "ipython3",
   "version": "3.9.1"
  }
 },
 "nbformat": 4,
 "nbformat_minor": 5
}
