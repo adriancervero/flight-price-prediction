{
 "cells": [
  {
   "cell_type": "markdown",
   "id": "14f6b04a",
   "metadata": {},
   "source": [
    "# 04 - Feature Engineering and Data Preprocessing\n",
    "In this notebook we will prepare the data for the training of the model. To do so, we will build new features that have already been explored in the previous notebook and group the data. We will also separate the data set between train and test."
   ]
  },
  {
   "cell_type": "markdown",
   "id": "2cf5ae00",
   "metadata": {},
   "source": [
    "Steps:\n",
    "1. Load data\n",
    "2. Missing Values and Outliers\n",
    "3. Build features\n",
    "4. Aggregate flights\n",
    "5. Store data for training"
   ]
  },
  {
   "cell_type": "markdown",
   "id": "205bd8cc",
   "metadata": {},
   "source": [
    "## Imports"
   ]
  },
  {
   "cell_type": "code",
   "execution_count": 54,
   "id": "5555e026",
   "metadata": {},
   "outputs": [],
   "source": [
    "import pandas as pd\n",
    "import numpy as np\n",
    "from tqdm import tqdm\n",
    "from datetime import datetime, timedelta\n",
    "tqdm.pandas()\n",
    "\n",
    "import matplotlib.pyplot as plt\n",
    "import seaborn as sns"
   ]
  },
  {
   "cell_type": "code",
   "execution_count": 55,
   "id": "fc207b8f",
   "metadata": {},
   "outputs": [],
   "source": [
    "import warnings\n",
    "warnings.filterwarnings('ignore')"
   ]
  },
  {
   "cell_type": "markdown",
   "id": "ae3b91b9",
   "metadata": {},
   "source": [
    "## Functions"
   ]
  },
  {
   "cell_type": "code",
   "execution_count": 56,
   "id": "65cde947",
   "metadata": {},
   "outputs": [],
   "source": [
    "def add_days_until_dep_feature(df):\n",
    "    \"\"\" Remaining days until flight departure \"\"\"\n",
    "    collected = pd.to_datetime(df['collectionDate'])\n",
    "    departure =  pd.to_datetime(df['dDate'])\n",
    "    daysUntilDep = departure - collected\n",
    "    df['days_until_dep'] = daysUntilDep.dt.days\n",
    "    return df"
   ]
  },
  {
   "cell_type": "code",
   "execution_count": 57,
   "id": "7e8d6fd3",
   "metadata": {},
   "outputs": [],
   "source": [
    "def split_data(df, test_days=30):\n",
    "    \"\"\" Split data in train/test set \"\"\"\n",
    "    collection_dates = pd.to_datetime(df['collectionDate'])\n",
    "    departure_dates = pd.to_datetime(df['dDate'])\n",
    "    \n",
    "    split_date = collection_dates.max() - timedelta(days=test_days)\n",
    "    test_idx = (collection_dates >= split_date) & (departure_dates <= collection_dates.max())\n",
    "    test = df[test_idx]\n",
    "    train = df[~test_idx]\n",
    "    return train, test"
   ]
  },
  {
   "cell_type": "code",
   "execution_count": 58,
   "id": "0b308447",
   "metadata": {},
   "outputs": [],
   "source": [
    "def q25(x):\n",
    "    \"\"\" Return first quantile of x \"\"\"\n",
    "    return x.quantile(0.25)"
   ]
  },
  {
   "cell_type": "code",
   "execution_count": 59,
   "id": "f4534eb2",
   "metadata": {},
   "outputs": [],
   "source": [
    "def get_last_days_q25(row):\n",
    "    \"\"\" Compute first quantile of last x days for each group \"\"\"\n",
    "    list_prices = row['list_prices']\n",
    "    start_idx = row['days_until_dep']\n",
    "    end_idx = start_idx+last_days\n",
    "\n",
    "    last_days_prices = list_prices[start_idx:end_idx]\n",
    "    if last_days_prices == []:\n",
    "        last_days_prices = list_prices[-1]\n",
    "    return np.quantile(last_days_prices, 0.25)"
   ]
  },
  {
   "cell_type": "code",
   "execution_count": 60,
   "id": "a33189d1",
   "metadata": {},
   "outputs": [],
   "source": [
    "def get_labels(row):\n",
    "    \"\"\" Assign wait or buy label \"\"\"\n",
    "    current_d = row['days_until_dep']\n",
    "    current_price = row[combine_price_feature]\n",
    "    list_prices = np.array(row['list_prices'])\n",
    "    next_days = list_prices[:current_d-1]\n",
    "    if len(next_days) == 0:\n",
    "        return 0\n",
    "    else:\n",
    "        min_price = np.min(next_days)\n",
    "\n",
    "        if min_price < current_price and 1-(min_price/current_price) > min_drop_per:\n",
    "            return 1\n",
    "        else:\n",
    "            return 0"
   ]
  },
  {
   "cell_type": "markdown",
   "id": "ddf099dc",
   "metadata": {},
   "source": [
    "### Config var.\n",
    "\n"
   ]
  },
  {
   "cell_type": "code",
   "execution_count": 61,
   "id": "2aa13249",
   "metadata": {},
   "outputs": [],
   "source": [
    "# feature to use to combine fare\n",
    "combine_price_feature = 'customPrice'\n",
    "# last days trend to compute customPrice and weight of this trend\n",
    "last_days = 20\n",
    "w = 0.7\n",
    "# percentage of the minimum price drop to take into account to consider it worthwhile to wait\n",
    "min_drop_per = 0.05 \n",
    "# feature used for agg. flights\n",
    "agg_cols = ['orig-dest', 'airline', 'session', 'days_until_dep']"
   ]
  },
  {
   "cell_type": "markdown",
   "id": "c0eddac4",
   "metadata": {},
   "source": [
    "## 1. Load data"
   ]
  },
  {
   "cell_type": "code",
   "execution_count": 62,
   "id": "3d2d886f",
   "metadata": {},
   "outputs": [
    {
     "data": {
      "text/plain": [
       "(1365075, 22)"
      ]
     },
     "execution_count": 62,
     "metadata": {},
     "output_type": "execute_result"
    }
   ],
   "source": [
    "df = pd.read_csv('../data/interim/flights_interim_small.csv')\n",
    "df.shape"
   ]
  },
  {
   "cell_type": "markdown",
   "id": "6369008a",
   "metadata": {},
   "source": [
    "## 2. Missing Values and Outliers"
   ]
  },
  {
   "cell_type": "markdown",
   "id": "0d938ba7",
   "metadata": {},
   "source": [
    "### Missing values"
   ]
  },
  {
   "cell_type": "code",
   "execution_count": 63,
   "id": "d04dc34f",
   "metadata": {},
   "outputs": [],
   "source": [
    "# remove seats because have many nan values and columns that we do not going to use\n",
    "drop_cols = ['seats', 'dTimeUTC', 'aTimeUTC', 'flight_no',\n",
    "            'cityFrom', 'cityCodeFrom', 'cityTo', 'cityCodeTo', 'countryFrom',\n",
    "             'countryTo']\n",
    "df.drop(drop_cols, axis=1, inplace=True);"
   ]
  },
  {
   "cell_type": "markdown",
   "id": "afd824a3",
   "metadata": {},
   "source": [
    "### Outliers"
   ]
  },
  {
   "cell_type": "code",
   "execution_count": 64,
   "id": "cb856736",
   "metadata": {},
   "outputs": [],
   "source": [
    "Q1 = df['price'].quantile(.25)\n",
    "Q3 = df['price'].quantile(.75)\n",
    "IQR = Q3-Q1\n",
    "# removing prices above IQR * 1.5\n",
    "df = df[df['price'] < IQR*1.5 ]"
   ]
  },
  {
   "cell_type": "markdown",
   "id": "a7c49286",
   "metadata": {},
   "source": [
    "## 3. Build features"
   ]
  },
  {
   "cell_type": "markdown",
   "id": "c950d157",
   "metadata": {},
   "source": [
    "Adding the features we have already explored in the previous notebook"
   ]
  },
  {
   "cell_type": "code",
   "execution_count": 65,
   "id": "4761ae2e",
   "metadata": {},
   "outputs": [],
   "source": [
    "# Adding new features\n",
    "\n",
    "# orig and dest in same column\n",
    "df['orig-dest'] = df['flyFrom']+'-'+df['flyTo']\n",
    "# departure time in three categories: 'morning', 'evening', 'night'\n",
    "df['session'] = pd.cut(pd.to_datetime(df['dTime']), bins=3, labels=['night', 'morning', 'evening'])\n",
    "# Departure day of week\n",
    "days_of_week = {5:'Monday', 6:'Tuesday', 0:'Wednesday', 1:'Thursday', 2:'Friday', 3:'Saturday', 4:'Sunday'}\n",
    "df['day_of_week'] = pd.to_datetime(df['dTime']).dt.weekday.map(days_of_week)\n",
    "# airline\n",
    "df['airline'] = df['airlines'].str.split(',').apply(lambda x: x[0])\n",
    "# days until departure\n",
    "df = add_days_until_dep_feature(df)\n",
    "\n",
    "#df['groupID'] = df[agg_cols].agg('_'.join, axis=1)"
   ]
  },
  {
   "cell_type": "markdown",
   "id": "47aee352",
   "metadata": {},
   "source": [
    "## 3. Split data into train, valid and test"
   ]
  },
  {
   "cell_type": "code",
   "execution_count": 66,
   "id": "9686ab4a",
   "metadata": {},
   "outputs": [],
   "source": [
    "## Getting the last 30 days for test and validation\n",
    "train, test = split_data(df)"
   ]
  },
  {
   "cell_type": "code",
   "execution_count": 67,
   "id": "bcec28b3",
   "metadata": {},
   "outputs": [
    {
     "data": {
      "text/plain": [
       "((903626, 17), (145502, 17))"
      ]
     },
     "execution_count": 67,
     "metadata": {},
     "output_type": "execute_result"
    }
   ],
   "source": [
    "train.shape, test.shape"
   ]
  },
  {
   "cell_type": "code",
   "execution_count": 68,
   "id": "ea1d5ff9",
   "metadata": {},
   "outputs": [],
   "source": [
    "valid_idx = test.sample(frac=.5, random_state=42).index"
   ]
  },
  {
   "cell_type": "code",
   "execution_count": 69,
   "id": "ad9d9e25",
   "metadata": {},
   "outputs": [],
   "source": [
    "valid = test.loc[valid_idx].copy()\n",
    "test = test.drop(valid_idx)"
   ]
  },
  {
   "cell_type": "markdown",
   "id": "318aaa5c",
   "metadata": {},
   "source": [
    "## 4. Aggregate flights"
   ]
  },
  {
   "cell_type": "markdown",
   "id": "fbb0ff28",
   "metadata": {},
   "source": [
    "First, we will aggregate flights by some features."
   ]
  },
  {
   "cell_type": "code",
   "execution_count": 70,
   "id": "69ab81d3",
   "metadata": {},
   "outputs": [
    {
     "name": "stdout",
     "output_type": "stream",
     "text": [
      "CPU times: user 1.37 s, sys: 23.8 ms, total: 1.39 s\n",
      "Wall time: 1.39 s\n"
     ]
    }
   ],
   "source": [
    "%%time\n",
    "# Grouping fligths by previously defined agg. cols. (orig-dest, airline, session, days_until_dep)\n",
    "grouped = train \\\n",
    "            .groupby(agg_cols)[['price', 'fly_duration']] \\\n",
    "            .agg({'price':['min', 'median', q25, 'count'],\n",
    "                  'fly_duration':'mean'}).dropna().reset_index()\n",
    "\n",
    "# remove multilevel columns\n",
    "grouped.columns = agg_cols + ['min', 'median', 'q25', 'count', 'fly_duration']\n",
    "\n",
    "# count will act like some kind of competition factor\n",
    "grouped.rename(columns={'count':'competition'}, inplace=True)"
   ]
  },
  {
   "cell_type": "markdown",
   "id": "7f904bae",
   "metadata": {},
   "source": [
    "Now we are going to add a new feature called 'customPrice' that will serve as a representation of the fare of each group taking into account the trend of the last few days. Finally we use this value to estimate to buy or wait for a price drop (labels)"
   ]
  },
  {
   "cell_type": "markdown",
   "id": "8fa8f36c",
   "metadata": {},
   "source": [
    "customPrice = w * Total_q25 + (1-w)*(Last_days_q25)"
   ]
  },
  {
   "cell_type": "code",
   "execution_count": 71,
   "id": "d3c46ed7",
   "metadata": {},
   "outputs": [],
   "source": [
    "# Feature 'total_q25': First quantile of each group during all time period\n",
    "total_q25 = train.groupby(agg_cols)['price'].quantile(0.25) ######################### Revisar\n",
    "total_q25 = total_q25.rename('total_q25').reset_index()\n",
    "grouped['total_q25'] = pd.merge(grouped, total_q25, on=agg_cols, how='left')['total_q25']"
   ]
  },
  {
   "cell_type": "code",
   "execution_count": 72,
   "id": "f4fb539e",
   "metadata": {},
   "outputs": [],
   "source": [
    "# lastdays_q25: First quantile of last n days \n",
    "list_prices = grouped.groupby(['orig-dest','airline', 'session'])['q25'].agg(list)\n",
    "list_prices = list_prices.reset_index()\n",
    "list_prices.rename(columns={'q25':'list_prices'}, inplace=True)\n",
    "grouped['list_prices'] = pd.merge(grouped, list_prices, on=['orig-dest','airline','session'], how='left')['list_prices']"
   ]
  },
  {
   "cell_type": "code",
   "execution_count": 73,
   "id": "6f8d2f1a",
   "metadata": {},
   "outputs": [
    {
     "name": "stderr",
     "output_type": "stream",
     "text": [
      "100%|██████████| 2400/2400 [00:00<00:00, 8219.54it/s]\n"
     ]
    }
   ],
   "source": [
    "grouped['lastdays_q25'] = grouped.progress_apply(get_last_days_q25, axis=1) "
   ]
  },
  {
   "cell_type": "code",
   "execution_count": 74,
   "id": "6e65b4bb",
   "metadata": {},
   "outputs": [],
   "source": [
    "# CustomPrice = ticket price weightened considering last days trend\n",
    "# We use this feature for estimate labels\n",
    "grouped['customPrice'] =  w * grouped['total_q25'] + (1-w) * grouped['lastdays_q25']"
   ]
  },
  {
   "cell_type": "code",
   "execution_count": 75,
   "id": "0b5901af",
   "metadata": {},
   "outputs": [
    {
     "name": "stderr",
     "output_type": "stream",
     "text": [
      "100%|██████████| 2400/2400 [00:00<00:00, 24425.07it/s]\n"
     ]
    }
   ],
   "source": [
    "# Wait/no wait labels\n",
    "grouped['wait'] = grouped.progress_apply(get_labels, axis=1)"
   ]
  },
  {
   "cell_type": "code",
   "execution_count": 76,
   "id": "68291081",
   "metadata": {},
   "outputs": [
    {
     "data": {
      "text/plain": [
       "0    2020\n",
       "1     380\n",
       "Name: wait, dtype: int64"
      ]
     },
     "execution_count": 76,
     "metadata": {},
     "output_type": "execute_result"
    }
   ],
   "source": [
    "grouped['wait'].value_counts()"
   ]
  },
  {
   "cell_type": "code",
   "execution_count": 77,
   "id": "2c44f093",
   "metadata": {},
   "outputs": [],
   "source": [
    "grouped.drop(['total_q25', 'list_prices', 'lastdays_q25'], axis=1, inplace=True, errors='ignore')"
   ]
  },
  {
   "cell_type": "markdown",
   "id": "b2fd14ae",
   "metadata": {},
   "source": [
    "We will now use the new labels to estimate a new feature: the percentage of 'wait' labeled in each group."
   ]
  },
  {
   "cell_type": "code",
   "execution_count": 78,
   "id": "db8dc2f8",
   "metadata": {},
   "outputs": [],
   "source": [
    "probs = grouped.groupby(['orig-dest','session' ,'days_until_dep'])['wait'].mean().reset_index()\n",
    "probs.rename(columns={'wait':'prob'}, inplace=True)\n",
    "grouped = pd.merge(grouped, probs, on=['orig-dest', 'session' ,'days_until_dep'], how='left')"
   ]
  },
  {
   "cell_type": "code",
   "execution_count": 79,
   "id": "1abe53ab",
   "metadata": {},
   "outputs": [
    {
     "data": {
      "image/png": "[encoded data removed]",
      "text/plain": [
       "<Figure size 576x360 with 1 Axes>"
      ]
     },
     "metadata": {
      "needs_background": "light"
     },
     "output_type": "display_data"
    }
   ],
   "source": [
    "wait_grouped = grouped.groupby(['orig-dest','days_until_dep'])['wait'].mean().reset_index()\n",
    "plt.figure(figsize=(8,5))\n",
    "sns.scatterplot(x='days_until_dep', y='wait', hue='wait', data=wait_grouped);"
   ]
  },
  {
   "cell_type": "code",
   "execution_count": 80,
   "id": "f92e7863",
   "metadata": {},
   "outputs": [
    {
     "data": {
      "text/html": [
       "<div>\n",
       "<style scoped>\n",
       "    .dataframe tbody tr th:only-of-type {\n",
       "        vertical-align: middle;\n",
       "    }\n",
       "\n",
       "    .dataframe tbody tr th {\n",
       "        vertical-align: top;\n",
       "    }\n",
       "\n",
       "    .dataframe thead th {\n",
       "        text-align: right;\n",
       "    }\n",
       "</style>\n",
       "<table border=\"1\" class=\"dataframe\">\n",
       "  <thead>\n",
       "    <tr style=\"text-align: right;\">\n",
       "      <th></th>\n",
       "      <th>orig-dest</th>\n",
       "      <th>airline</th>\n",
       "      <th>session</th>\n",
       "      <th>days_until_dep</th>\n",
       "      <th>min</th>\n",
       "      <th>median</th>\n",
       "      <th>q25</th>\n",
       "      <th>competition</th>\n",
       "      <th>fly_duration</th>\n",
       "      <th>customPrice</th>\n",
       "      <th>wait</th>\n",
       "      <th>prob</th>\n",
       "    </tr>\n",
       "  </thead>\n",
       "  <tbody>\n",
       "    <tr>\n",
       "      <th>1524</th>\n",
       "      <td>MAD-JFK</td>\n",
       "      <td>UX</td>\n",
       "      <td>morning</td>\n",
       "      <td>5</td>\n",
       "      <td>198</td>\n",
       "      <td>358.0</td>\n",
       "      <td>315.0</td>\n",
       "      <td>463</td>\n",
       "      <td>36.896544</td>\n",
       "      <td>288.3000</td>\n",
       "      <td>0</td>\n",
       "      <td>0</td>\n",
       "    </tr>\n",
       "    <tr>\n",
       "      <th>1913</th>\n",
       "      <td>MAD-LHR</td>\n",
       "      <td>UX</td>\n",
       "      <td>evening</td>\n",
       "      <td>74</td>\n",
       "      <td>37</td>\n",
       "      <td>93.5</td>\n",
       "      <td>73.0</td>\n",
       "      <td>162</td>\n",
       "      <td>12.938272</td>\n",
       "      <td>72.8875</td>\n",
       "      <td>0</td>\n",
       "      <td>0</td>\n",
       "    </tr>\n",
       "    <tr>\n",
       "      <th>1336</th>\n",
       "      <td>MAD-EZE</td>\n",
       "      <td>UX</td>\n",
       "      <td>morning</td>\n",
       "      <td>57</td>\n",
       "      <td>281</td>\n",
       "      <td>344.0</td>\n",
       "      <td>326.0</td>\n",
       "      <td>219</td>\n",
       "      <td>28.989117</td>\n",
       "      <td>325.5125</td>\n",
       "      <td>0</td>\n",
       "      <td>0</td>\n",
       "    </tr>\n",
       "    <tr>\n",
       "      <th>2238</th>\n",
       "      <td>MAD-TFN</td>\n",
       "      <td>UX</td>\n",
       "      <td>night</td>\n",
       "      <td>79</td>\n",
       "      <td>34</td>\n",
       "      <td>45.0</td>\n",
       "      <td>34.0</td>\n",
       "      <td>5</td>\n",
       "      <td>2.916667</td>\n",
       "      <td>34.8250</td>\n",
       "      <td>0</td>\n",
       "      <td>0</td>\n",
       "    </tr>\n",
       "    <tr>\n",
       "      <th>1951</th>\n",
       "      <td>MAD-MEX</td>\n",
       "      <td>UX</td>\n",
       "      <td>night</td>\n",
       "      <td>32</td>\n",
       "      <td>215</td>\n",
       "      <td>332.5</td>\n",
       "      <td>296.0</td>\n",
       "      <td>614</td>\n",
       "      <td>25.017481</td>\n",
       "      <td>295.4000</td>\n",
       "      <td>0</td>\n",
       "      <td>0</td>\n",
       "    </tr>\n",
       "  </tbody>\n",
       "</table>\n",
       "</div>"
      ],
      "text/plain": [
       "     orig-dest airline  session  days_until_dep  min  median    q25  \\\n",
       "1524   MAD-JFK      UX  morning               5  198   358.0  315.0   \n",
       "1913   MAD-LHR      UX  evening              74   37    93.5   73.0   \n",
       "1336   MAD-EZE      UX  morning              57  281   344.0  326.0   \n",
       "2238   MAD-TFN      UX    night              79   34    45.0   34.0   \n",
       "1951   MAD-MEX      UX    night              32  215   332.5  296.0   \n",
       "\n",
       "      competition  fly_duration  customPrice  wait  prob  \n",
       "1524          463     36.896544     288.3000     0     0  \n",
       "1913          162     12.938272      72.8875     0     0  \n",
       "1336          219     28.989117     325.5125     0     0  \n",
       "2238            5      2.916667      34.8250     0     0  \n",
       "1951          614     25.017481     295.4000     0     0  "
      ]
     },
     "execution_count": 80,
     "metadata": {},
     "output_type": "execute_result"
    }
   ],
   "source": [
    "# final dataframe \n",
    "grouped.sample(5)"
   ]
  },
  {
   "cell_type": "markdown",
   "id": "536a3498",
   "metadata": {},
   "source": [
    "#### Estimating days to wait and price drop percentage\n",
    "In addition to predicting whether or not a flight will drop in price. We want to provide the user with an estimate of the **number of days to wait** and what the **percentage price drop** will be after that wait.\n",
    "\\\n",
    "To do this we will create bins of 5 days for the values of 'days_until_dep', to each bin we will assign an estimated value. We will use these bins to look for the minimum price in the following days. The difference between the \"current\" bin and the next bin with the minimum price will be the expected price drop. \n",
    "\\\n",
    "For storing all this information we will create a new dataframe called 'price_bins'."
   ]
  },
  {
   "cell_type": "code",
   "execution_count": 81,
   "id": "4d8f5a92",
   "metadata": {},
   "outputs": [],
   "source": [
    "# Days to wait\n",
    "\n",
    "# Creation of bins\n",
    "lower = train['days_until_dep'].min()\n",
    "higher = train['days_until_dep'].max()\n",
    "\n",
    "n_bins = int(higher/5)\n",
    "edges = range(lower, higher+5, 5)\n",
    "\n",
    "lbs = ['(%d, %d]'%(edges[i], edges[i+1]) for i in range(len(edges)-1)]\n",
    "train['days_bins'] = pd.cut(train['days_until_dep'],bins=n_bins, labels=lbs)"
   ]
  },
  {
   "cell_type": "code",
   "execution_count": 82,
   "id": "dc139dde",
   "metadata": {},
   "outputs": [],
   "source": [
    "# create dataframe with bins and an estimate for the price \n",
    "price_bins = train.groupby(['orig-dest', 'airline', 'days_bins'])['price'].quantile(.25).rename('price_est').reset_index().dropna()"
   ]
  },
  {
   "cell_type": "code",
   "execution_count": 83,
   "id": "9f519c1f",
   "metadata": {},
   "outputs": [
    {
     "data": {
      "image/png": "[encoded data removed]",
      "text/plain": [
       "<Figure size 576x288 with 1 Axes>"
      ]
     },
     "metadata": {
      "needs_background": "light"
     },
     "output_type": "display_data"
    }
   ],
   "source": [
    "# plotting bins prices\n",
    "plt.figure(figsize=(8,4))\n",
    "sns.boxplot(x='days_bins', y='price_est', data=price_bins, palette=\"Blues_r\");\n",
    "plt.xticks(rotation=45);"
   ]
  },
  {
   "cell_type": "code",
   "execution_count": 84,
   "id": "0a62a815",
   "metadata": {},
   "outputs": [],
   "source": [
    "# adding bins edges. We will use this for compute days to wait\n",
    "price_bins['bin_min'] = price_bins['days_bins'].astype('str').apply(lambda x: int(x.strip('(]').split(', ')[0])+1)\n",
    "price_bins['bin_max'] = price_bins['days_bins'].astype('str').apply(lambda x: int(x.strip('(]').split(', ')[1]))"
   ]
  },
  {
   "cell_type": "code",
   "execution_count": 85,
   "id": "15c18fa4",
   "metadata": {},
   "outputs": [
    {
     "data": {
      "text/html": [
       "<div>\n",
       "<style scoped>\n",
       "    .dataframe tbody tr th:only-of-type {\n",
       "        vertical-align: middle;\n",
       "    }\n",
       "\n",
       "    .dataframe tbody tr th {\n",
       "        vertical-align: top;\n",
       "    }\n",
       "\n",
       "    .dataframe thead th {\n",
       "        text-align: right;\n",
       "    }\n",
       "</style>\n",
       "<table border=\"1\" class=\"dataframe\">\n",
       "  <thead>\n",
       "    <tr style=\"text-align: right;\">\n",
       "      <th></th>\n",
       "      <th>orig-dest</th>\n",
       "      <th>airline</th>\n",
       "      <th>days_bins</th>\n",
       "      <th>price_est</th>\n",
       "      <th>bin_min</th>\n",
       "      <th>bin_max</th>\n",
       "    </tr>\n",
       "  </thead>\n",
       "  <tbody>\n",
       "    <tr>\n",
       "      <th>141</th>\n",
       "      <td>MAD-MEX</td>\n",
       "      <td>UX</td>\n",
       "      <td>(66, 71]</td>\n",
       "      <td>339.0</td>\n",
       "      <td>67</td>\n",
       "      <td>71</td>\n",
       "    </tr>\n",
       "    <tr>\n",
       "      <th>50</th>\n",
       "      <td>BCN-PMI</td>\n",
       "      <td>UX</td>\n",
       "      <td>(11, 16]</td>\n",
       "      <td>89.0</td>\n",
       "      <td>12</td>\n",
       "      <td>16</td>\n",
       "    </tr>\n",
       "    <tr>\n",
       "      <th>12</th>\n",
       "      <td>BCN-AMS</td>\n",
       "      <td>UX</td>\n",
       "      <td>(61, 66]</td>\n",
       "      <td>84.0</td>\n",
       "      <td>62</td>\n",
       "      <td>66</td>\n",
       "    </tr>\n",
       "    <tr>\n",
       "      <th>24</th>\n",
       "      <td>BCN-FCO</td>\n",
       "      <td>UX</td>\n",
       "      <td>(41, 46]</td>\n",
       "      <td>86.0</td>\n",
       "      <td>42</td>\n",
       "      <td>46</td>\n",
       "    </tr>\n",
       "    <tr>\n",
       "      <th>70</th>\n",
       "      <td>MAD-BCN</td>\n",
       "      <td>UX</td>\n",
       "      <td>(31, 36]</td>\n",
       "      <td>61.0</td>\n",
       "      <td>32</td>\n",
       "      <td>36</td>\n",
       "    </tr>\n",
       "  </tbody>\n",
       "</table>\n",
       "</div>"
      ],
      "text/plain": [
       "    orig-dest airline days_bins  price_est  bin_min  bin_max\n",
       "141   MAD-MEX      UX  (66, 71]      339.0       67       71\n",
       "50    BCN-PMI      UX  (11, 16]       89.0       12       16\n",
       "12    BCN-AMS      UX  (61, 66]       84.0       62       66\n",
       "24    BCN-FCO      UX  (41, 46]       86.0       42       46\n",
       "70    MAD-BCN      UX  (31, 36]       61.0       32       36"
      ]
     },
     "execution_count": 85,
     "metadata": {},
     "output_type": "execute_result"
    }
   ],
   "source": [
    "# final dataframe\n",
    "price_bins.sample(5)"
   ]
  },
  {
   "cell_type": "code",
   "execution_count": 86,
   "id": "c428be6f",
   "metadata": {},
   "outputs": [],
   "source": [
    "bins_days = train[['days_until_dep', 'days_bins']].drop_duplicates()\n",
    "bins_days['days_bins'] = bins_days['days_bins'].cat.codes"
   ]
  },
  {
   "cell_type": "code",
   "execution_count": 87,
   "id": "c3917574",
   "metadata": {},
   "outputs": [],
   "source": [
    "price_bins.to_csv('../data/processed/price_bins.csv', index=False)\n",
    "bins_days.to_csv('../data/processed/bins_days.csv', index=False)"
   ]
  },
  {
   "cell_type": "markdown",
   "id": "d95c7f79",
   "metadata": {},
   "source": [
    "## 5. Save processed data"
   ]
  },
  {
   "cell_type": "code",
   "execution_count": 88,
   "id": "60c966e0",
   "metadata": {},
   "outputs": [],
   "source": [
    "grouped.to_csv('../data/processed/train.csv', index=False)\n",
    "valid.to_csv('../data/processed/valid.csv', index=False)\n",
    "test.to_csv('../data/processed/test.csv', index=False)"
   ]
  },
  {
   "cell_type": "code",
   "execution_count": null,
   "id": "b5b2a43d",
   "metadata": {},
   "outputs": [],
   "source": []
  }
 ],
 "metadata": {
  "kernelspec": {
   "display_name": "Python 3",
   "language": "python",
   "name": "python3"
  },
  "language_info": {
   "codemirror_mode": {
    "name": "ipython",
    "version": 3
   },
   "file_extension": ".py",
   "mimetype": "text/x-python",
   "name": "python",
   "nbconvert_exporter": "python",
   "pygments_lexer": "ipython3",
   "version": "3.9.1"
  }
 },
 "nbformat": 4,
 "nbformat_minor": 5
}
