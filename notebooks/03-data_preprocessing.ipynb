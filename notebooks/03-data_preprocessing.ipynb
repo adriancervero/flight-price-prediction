{
 "cells": [
  {
   "cell_type": "markdown",
   "id": "soviet-billy",
   "metadata": {},
   "source": [
    "# 04 - Feature Engineering and Data Preprocessing"
   ]
  },
  {
   "cell_type": "code",
   "execution_count": 1,
   "id": "legal-custody",
   "metadata": {},
   "outputs": [],
   "source": [
    "import pandas as pd\n",
    "import numpy as np\n",
    "from datetime import datetime, timedelta\n",
    "from sklearn.preprocessing import StandardScaler, OneHotEncoder\n",
    "from tqdm import tqdm\n",
    "tqdm.pandas()"
   ]
  },
  {
   "cell_type": "code",
   "execution_count": 2,
   "id": "upper-skiing",
   "metadata": {},
   "outputs": [],
   "source": [
    "import warnings\n",
    "warnings.filterwarnings('ignore')"
   ]
  },
  {
   "cell_type": "markdown",
   "id": "weekly-barcelona",
   "metadata": {},
   "source": [
    "### Load data"
   ]
  },
  {
   "cell_type": "code",
   "execution_count": 3,
   "id": "institutional-spirituality",
   "metadata": {},
   "outputs": [],
   "source": [
    "flights = pd.read_csv('../data/interim/flights_interim.csv')"
   ]
  },
  {
   "cell_type": "markdown",
   "id": "convertible-interference",
   "metadata": {},
   "source": [
    "### Missing values"
   ]
  },
  {
   "cell_type": "code",
   "execution_count": 4,
   "id": "faced-silly",
   "metadata": {},
   "outputs": [
    {
     "data": {
      "text/plain": [
       "dTime                  0\n",
       "dTimeUTC               0\n",
       "aTime                  0\n",
       "aTimeUTC               0\n",
       "airlines               0\n",
       "fly_duration           0\n",
       "flyFrom                0\n",
       "cityFrom               0\n",
       "cityCodeFrom           0\n",
       "flyTo                  0\n",
       "cityTo                 0\n",
       "cityCodeTo             0\n",
       "distance               0\n",
       "price                  0\n",
       "route                  0\n",
       "countryFrom            0\n",
       "countryTo              0\n",
       "flight_no              0\n",
       "seats             164627\n",
       "collectionDate         0\n",
       "dDate                  0\n",
       "aDate                  0\n",
       "dtype: int64"
      ]
     },
     "execution_count": 4,
     "metadata": {},
     "output_type": "execute_result"
    }
   ],
   "source": [
    "flights.isna().sum()"
   ]
  },
  {
   "cell_type": "code",
   "execution_count": 5,
   "id": "accessible-pricing",
   "metadata": {},
   "outputs": [],
   "source": [
    "# Removing 'seats' column because it has many missing values.\n",
    "flights.drop('seats', axis=1, inplace=True)"
   ]
  },
  {
   "cell_type": "code",
   "execution_count": 6,
   "id": "adaptive-scotland",
   "metadata": {},
   "outputs": [],
   "source": [
    "def fill_missing(df):\n",
    "    \"\"\"\n",
    "        Fills in the missing days by duplicating the flights of the previous day.\n",
    "        \n",
    "        Args:\n",
    "            - df: Dataframe with flights data\n",
    "        Returns: \n",
    "            - Same dataframe with news added rows with no missing days.\n",
    "    \"\"\"\n",
    "    collectionDates = df['collectionDate'].unique()\n",
    "    dates_range = pd.date_range(collectionDates[0], collectionDates[-1]).tolist()\n",
    "    dates_range = [str(date).split()[0] for date in dates_range]\n",
    "    missing_dates = [date for date in dates_range if date not in collectionDates]\n",
    "    missing_dates_dt = [datetime.strptime(date, '%Y-%m-%d') for date in missing_dates]\n",
    "    previous_dates_dt = [date + timedelta(days=-1) for date in missing_dates_dt]\n",
    "    previous_dates = [datetime.strftime(date, '%Y-%m-%d') for date in previous_dates_dt]\n",
    "    \n",
    "    for idx, date in enumerate(missing_dates):\n",
    "        previous_date = previous_dates[idx]\n",
    "        this_date = df[df['collectionDate'] == previous_date].copy()\n",
    "        this_date['collectionDate'] = date\n",
    "        df = df.append(this_date)\n",
    "    return df"
   ]
  },
  {
   "cell_type": "code",
   "execution_count": 7,
   "id": "thorough-cleanup",
   "metadata": {},
   "outputs": [],
   "source": [
    "flights = fill_missing(flights)"
   ]
  },
  {
   "cell_type": "markdown",
   "id": "extra-ratio",
   "metadata": {},
   "source": [
    "### Outliers?"
   ]
  },
  {
   "cell_type": "code",
   "execution_count": null,
   "id": "august-halifax",
   "metadata": {},
   "outputs": [],
   "source": []
  },
  {
   "cell_type": "markdown",
   "id": "external-moment",
   "metadata": {},
   "source": [
    "### Adding new features"
   ]
  },
  {
   "cell_type": "code",
   "execution_count": 8,
   "id": "engaging-wallpaper",
   "metadata": {},
   "outputs": [],
   "source": [
    "def build_features(df):\n",
    "    df = df.copy()\n",
    "    # log transformation\n",
    "    df['log_price'] = np.log(df['price'])\n",
    "    # Day of month\n",
    "    df['day_of_month'] = pd.to_datetime(df['dDate']).dt.day\n",
    "\n",
    "    # Day of the week\n",
    "    df['day_of_week'] = pd.to_datetime(df['dDate']).apply(lambda x: x.day_of_week)\n",
    "    days_of_week = {0:'Monday', 1:'Tuesday', 2:'Wednesday', 3:'Thursday', 4:'Friday', 5:'Saturday', 6:'Sunday'}\n",
    "    df['day_of_week'] = df['day_of_week'].map(days_of_week)\n",
    "\n",
    "    # Session (morning, afternoon, night)\n",
    "    df['session'] = pd.cut(pd.to_datetime(df['dTime']), bins=4, labels=['night', 'morning', 'afternoon', 'evening'])\n",
    "\n",
    "    # Route\n",
    "    df['orig-dest'] = df['flyFrom']+'-'+df['flyTo']\n",
    "    \n",
    "    # Airline\n",
    "    df['airline'] = df['airlines'].apply(lambda x: x.split(',')[0])\n",
    "    \n",
    "    # Days until Departure\n",
    "    collected = pd.to_datetime(df['collectionDate'])\n",
    "    departure =  pd.to_datetime(df['dDate'])\n",
    "    daysUntilDep = departure - collected\n",
    "    df['days_until_dep'] = daysUntilDep.apply(lambda x: str(x).split()[0]).astype(int)\n",
    "    \n",
    "    # Hopping\n",
    "    df['hops'] = df['route'].apply(lambda x: len(x.split('->')) - 2)\n",
    "    df['direct'] = df['hops'] == 0\n",
    "    \n",
    "    # Competition Factor\n",
    "    competition = df.groupby(['flyFrom','flyTo','dDate'])['airline'].nunique().reset_index()\n",
    "    competition.columns = ['flyFrom','flyTo','dDate', 'competition']\n",
    "    df = pd.merge(df, competition, on=['dDate', 'flyFrom', 'flyTo'])\n",
    "    \n",
    "    # id flight\n",
    "    df['id'] = df.groupby(['dDate', 'flyFrom', 'flyTo', 'dTime', 'aTime', 'airline', 'fly_duration']).ngroup()\n",
    "    \n",
    "    #df['mean_price'] = df.groupby('id')['price'].transform('min')\n",
    "    #df['median_price'] = df.groupby('id')['price'].transform('median')\n",
    "    #df['diff_price'] = df['price'] - df['median_price']\n",
    "    \n",
    "    return df"
   ]
  },
  {
   "cell_type": "code",
   "execution_count": 9,
   "id": "classical-clock",
   "metadata": {},
   "outputs": [],
   "source": [
    "flights_features = build_features(flights)"
   ]
  },
  {
   "cell_type": "code",
   "execution_count": 10,
   "id": "equipped-asthma",
   "metadata": {},
   "outputs": [
    {
     "data": {
      "text/plain": [
       "(632177, 32)"
      ]
     },
     "execution_count": 10,
     "metadata": {},
     "output_type": "execute_result"
    }
   ],
   "source": [
    "flights_features.shape"
   ]
  },
  {
   "cell_type": "code",
   "execution_count": 11,
   "id": "becoming-religious",
   "metadata": {},
   "outputs": [],
   "source": [
    "import multiprocessing\n",
    "import numpy as np\n",
    "\n",
    "\n",
    "def parallelize_dataframe(df, func):\n",
    "    num_cores = multiprocessing.cpu_count()-1  #leave one free to not freeze machine\n",
    "    num_partitions = num_cores #number of partitions to split dataframe\n",
    "    df_split = np.array_split(df, num_partitions)\n",
    "    pool = multiprocessing.Pool(num_cores)\n",
    "    df = pd.concat(pool.map(func, df_split))\n",
    "    pool.close()\n",
    "    pool.join()\n",
    "    return df"
   ]
  },
  {
   "cell_type": "code",
   "execution_count": 12,
   "id": "excited-organ",
   "metadata": {},
   "outputs": [],
   "source": [
    "def get_hist_prices(df, progress_bar=True):\n",
    "    \"\"\" \n",
    "        New feature 'hist_prices' consisting of a historical price list for each flight.\n",
    "        \n",
    "        Args: \n",
    "            - df: Dataframe with flights data.\n",
    "            - progress_bar: If enabled, it displays a progress bar during execution.\n",
    "            \n",
    "        Returns: \n",
    "            - Same dataframe with the new column 'hist_prices'\n",
    "    \"\"\"\n",
    "    sorted_by_date = df.sort_values(by='collectionDate')\n",
    "    if progress_bar: \n",
    "        grouped = sorted_by_date.groupby(['id'])['price'].progress_apply(list)\n",
    "    else:\n",
    "        grouped = sorted_by_date.groupby(['id'])['price'].apply(list)\n",
    "    grouped = grouped.reset_index(name='hist_prices')\n",
    "    merged = pd.merge(df, grouped, on='id')\n",
    "    return merged"
   ]
  },
  {
   "cell_type": "code",
   "execution_count": 13,
   "id": "genuine-miami",
   "metadata": {},
   "outputs": [
    {
     "name": "stderr",
     "output_type": "stream",
     "text": [
      "100%|██████████| 116618/116618 [00:03<00:00, 32358.16it/s]\n"
     ]
    }
   ],
   "source": [
    "flights_hist = get_hist_prices(flights_features)"
   ]
  },
  {
   "cell_type": "code",
   "execution_count": 14,
   "id": "looking-labor",
   "metadata": {},
   "outputs": [],
   "source": [
    "def filter_flights(df):\n",
    "    \"\"\" Flight filtering to select only valid flights. This is, flights which \n",
    "        we have the price for each of the days until the departure of the flight\n",
    "        \n",
    "        Args:\n",
    "            - df: Dataframe with flights data\n",
    "        Returns\n",
    "            - new_df: New dataframe with only valid flights.\n",
    "    \"\"\"\n",
    "    max_days = df.groupby('id')['days_until_dep'].transform(max)\n",
    "    hist_lengths = df['hist_prices'].apply(len)\n",
    "    new_df = df[max_days == hist_lengths].copy()\n",
    "    return new_df"
   ]
  },
  {
   "cell_type": "code",
   "execution_count": 15,
   "id": "unlike-miniature",
   "metadata": {},
   "outputs": [
    {
     "data": {
      "text/plain": [
       "(66107, 33)"
      ]
     },
     "execution_count": 15,
     "metadata": {},
     "output_type": "execute_result"
    }
   ],
   "source": [
    "flights_valid = filter_flights(flights_hist)\n",
    "flights_valid.shape"
   ]
  },
  {
   "cell_type": "code",
   "execution_count": 16,
   "id": "imported-union",
   "metadata": {},
   "outputs": [],
   "source": [
    "def get_waiting_days(df):\n",
    "    \"\"\"\n",
    "        Add new feature 'waiting_days' that indicates the days to wait to \n",
    "        get the best price among the remaining days until flight departure. \n",
    "        This will be the target variable.\n",
    "        \n",
    "        Args: \n",
    "            - df: Dataframe with flights data\n",
    "        Returns\n",
    "            - Same dataframe with the new target: 'waiting_days'\n",
    "    \"\"\"\n",
    "    \n",
    "    waiting_days_list = np.array([])\n",
    "    for row in tqdm(df.itertuples(), total=df.shape[0]):\n",
    "        current_price = row.price\n",
    "        hist = row.hist_prices\n",
    "        days_until_dep = int(row.days_until_dep)\n",
    "        idx = len(hist)-days_until_dep\n",
    "        if days_until_dep > 1:\n",
    "            next_days_prices = hist[idx+1:]\n",
    "            idx_min = np.argmin(next_days_prices)\n",
    "            min_price = next_days_prices[idx_min]\n",
    "            if min_price < current_price:\n",
    "                waiting_days = idx_min+1\n",
    "            else:\n",
    "                waiting_days = 0\n",
    "        else:\n",
    "            waiting_days = 0\n",
    "       # print(row.id, days_until_dep, row.price, next_days_prices, waiting_days)\n",
    "        waiting_days_list = np.append(waiting_days_list, waiting_days)\n",
    "    df['waiting_days'] = waiting_days_list.astype(int)\n",
    "    return df\n"
   ]
  },
  {
   "cell_type": "code",
   "execution_count": 17,
   "id": "neither-macro",
   "metadata": {},
   "outputs": [
    {
     "name": "stderr",
     "output_type": "stream",
     "text": [
      "100%|██████████| 66107/66107 [00:02<00:00, 23529.25it/s]\n"
     ]
    }
   ],
   "source": [
    "flights_target = get_waiting_days(flights_valid)"
   ]
  },
  {
   "cell_type": "code",
   "execution_count": 28,
   "id": "prompt-crash",
   "metadata": {},
   "outputs": [],
   "source": [
    "def get_labels(df):\n",
    "    df['buy'] = df['waiting_days'].apply(lambda days: 0 if days == 0 else 1)\n",
    "    return df"
   ]
  },
  {
   "cell_type": "code",
   "execution_count": 29,
   "id": "annual-malawi",
   "metadata": {},
   "outputs": [],
   "source": [
    "flights_label = get_labels(flights_target)"
   ]
  },
  {
   "cell_type": "code",
   "execution_count": 30,
   "id": "optional-nightlife",
   "metadata": {},
   "outputs": [
    {
     "data": {
      "text/plain": [
       "0    41575\n",
       "1    24532\n",
       "Name: buy, dtype: int64"
      ]
     },
     "execution_count": 30,
     "metadata": {},
     "output_type": "execute_result"
    }
   ],
   "source": [
    "flights_label['buy'].value_counts()"
   ]
  },
  {
   "cell_type": "markdown",
   "id": "comprehensive-shepherd",
   "metadata": {},
   "source": [
    "### Split train and test"
   ]
  },
  {
   "cell_type": "code",
   "execution_count": 31,
   "id": "remarkable-light",
   "metadata": {},
   "outputs": [],
   "source": [
    "def split_data_old(df, test_size=0.3):\n",
    "    \"\"\" Split data into train and test sets. \"\"\"\n",
    "    \n",
    "    flight_dates = pd.to_datetime(df['dDate'])\n",
    "    #df['collectionDate'] = pd.to_datetime(pd.to_datetime(df['collectionDate']))\n",
    "\n",
    "    # number of days\n",
    "    days_timedelta = flight_dates.max()-flight_dates.min()\n",
    "    n_days = days_timedelta.days\n",
    "    # date where spliting\n",
    "    split_idx = int( n_days * (1-test_size)+2)\n",
    "    \n",
    "    split_date = flight_dates.min() + timedelta(days=split_idx)\n",
    "    train = df[flight_dates <= split_date].copy()\n",
    "    test = df[flight_dates > split_date].copy()\n",
    "    \n",
    "    return train, test"
   ]
  },
  {
   "cell_type": "code",
   "execution_count": 40,
   "id": "entertaining-colors",
   "metadata": {},
   "outputs": [],
   "source": [
    "def split_data(df, test_days=14):\n",
    "    flight_dates = pd.to_datetime(df['dDate'])\n",
    "    split_date = flight_dates.max() - timedelta(days=test_days)\n",
    "    train = df[flight_dates <= split_date].copy()\n",
    "    test = df[flight_dates > split_date].copy()\n",
    "    return train, test"
   ]
  },
  {
   "cell_type": "code",
   "execution_count": 41,
   "id": "alpha-stuart",
   "metadata": {},
   "outputs": [
    {
     "data": {
      "text/plain": [
       "((52669, 35), (13438, 35))"
      ]
     },
     "execution_count": 41,
     "metadata": {},
     "output_type": "execute_result"
    }
   ],
   "source": [
    "train, test = split_data(flights_label)\n",
    "train.shape, test.shape"
   ]
  },
  {
   "cell_type": "code",
   "execution_count": 42,
   "id": "available-program",
   "metadata": {},
   "outputs": [
    {
     "data": {
      "text/plain": [
       "0.2032765062701378"
      ]
     },
     "execution_count": 42,
     "metadata": {},
     "output_type": "execute_result"
    }
   ],
   "source": [
    "test.shape[0]/flights_label.shape[0]"
   ]
  },
  {
   "cell_type": "markdown",
   "id": "auburn-durham",
   "metadata": {},
   "source": [
    "## Save processed data"
   ]
  },
  {
   "cell_type": "code",
   "execution_count": 43,
   "id": "trying-wound",
   "metadata": {},
   "outputs": [],
   "source": [
    "columns = ['id','flyFrom', 'flyTo', 'orig-dest','dDate','day_of_month', 'day_of_week', 'fly_duration', 'distance',\n",
    "           'days_until_dep', 'session', 'airline', 'hops', 'direct', 'competition','price','log_price', 'hist_prices','waiting_days', 'buy']"
   ]
  },
  {
   "cell_type": "code",
   "execution_count": 44,
   "id": "august-nudist",
   "metadata": {},
   "outputs": [],
   "source": [
    "train[columns].to_csv('../data/processed/train.csv', index=False)\n",
    "test[columns].to_csv('../data/processed/test.csv', index=False)"
   ]
  },
  {
   "cell_type": "code",
   "execution_count": null,
   "id": "median-warehouse",
   "metadata": {},
   "outputs": [],
   "source": []
  }
 ],
 "metadata": {
  "kernelspec": {
   "display_name": "Python 3",
   "language": "python",
   "name": "python3"
  },
  "language_info": {
   "codemirror_mode": {
    "name": "ipython",
    "version": 3
   },
   "file_extension": ".py",
   "mimetype": "text/x-python",
   "name": "python",
   "nbconvert_exporter": "python",
   "pygments_lexer": "ipython3",
   "version": "3.9.1"
  }
 },
 "nbformat": 4,
 "nbformat_minor": 5
}
