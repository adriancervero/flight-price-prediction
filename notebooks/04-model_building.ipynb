{
 "cells": [
  {
   "cell_type": "markdown",
   "id": "latin-satisfaction",
   "metadata": {},
   "source": [
    "# 04 - Model Building"
   ]
  },
  {
   "cell_type": "code",
   "execution_count": 1,
   "id": "contemporary-cookbook",
   "metadata": {},
   "outputs": [],
   "source": [
    "import pandas as pd\n",
    "import numpy as np\n",
    "import matplotlib.pyplot as plt\n",
    "from datetime import timedelta\n",
    "from sklearn.preprocessing import StandardScaler, OneHotEncoder\n",
    "from sklearn.model_selection import train_test_split, cross_val_score, learning_curve\n",
    "from sklearn.linear_model import LogisticRegression, LinearRegression\n",
    "from sklearn.ensemble import RandomForestClassifier, RandomForestRegressor\n",
    "from sklearn.svm import SVC\n",
    "from xgboost import XGBClassifier\n",
    "from sklearn.metrics import f1_score, accuracy_score, mean_squared_error"
   ]
  },
  {
   "cell_type": "code",
   "execution_count": 2,
   "id": "premier-berlin",
   "metadata": {},
   "outputs": [
    {
     "data": {
      "text/html": [
       "<div>\n",
       "<style scoped>\n",
       "    .dataframe tbody tr th:only-of-type {\n",
       "        vertical-align: middle;\n",
       "    }\n",
       "\n",
       "    .dataframe tbody tr th {\n",
       "        vertical-align: top;\n",
       "    }\n",
       "\n",
       "    .dataframe thead th {\n",
       "        text-align: right;\n",
       "    }\n",
       "</style>\n",
       "<table border=\"1\" class=\"dataframe\">\n",
       "  <thead>\n",
       "    <tr style=\"text-align: right;\">\n",
       "      <th></th>\n",
       "      <th>dTime</th>\n",
       "      <th>dTimeUTC</th>\n",
       "      <th>aTime</th>\n",
       "      <th>aTimeUTC</th>\n",
       "      <th>airlines</th>\n",
       "      <th>fly_duration</th>\n",
       "      <th>flyFrom</th>\n",
       "      <th>cityFrom</th>\n",
       "      <th>cityCodeFrom</th>\n",
       "      <th>flyTo</th>\n",
       "      <th>...</th>\n",
       "      <th>session</th>\n",
       "      <th>orig-dest</th>\n",
       "      <th>airline</th>\n",
       "      <th>days_until_dep</th>\n",
       "      <th>hops</th>\n",
       "      <th>direct</th>\n",
       "      <th>competition</th>\n",
       "      <th>id</th>\n",
       "      <th>hist_prices</th>\n",
       "      <th>waiting_days</th>\n",
       "    </tr>\n",
       "  </thead>\n",
       "  <tbody>\n",
       "    <tr>\n",
       "      <th>0</th>\n",
       "      <td>15:00</td>\n",
       "      <td>2021-02-01 14:00:00</td>\n",
       "      <td>16:25</td>\n",
       "      <td>2021-02-01 15:25:00</td>\n",
       "      <td>UX</td>\n",
       "      <td>1.416667</td>\n",
       "      <td>MAD</td>\n",
       "      <td>Madrid</td>\n",
       "      <td>MAD</td>\n",
       "      <td>BCN</td>\n",
       "      <td>...</td>\n",
       "      <td>afternoon</td>\n",
       "      <td>MAD-BCN</td>\n",
       "      <td>UX</td>\n",
       "      <td>1</td>\n",
       "      <td>0</td>\n",
       "      <td>True</td>\n",
       "      <td>6</td>\n",
       "      <td>134</td>\n",
       "      <td>[78]</td>\n",
       "      <td>0</td>\n",
       "    </tr>\n",
       "    <tr>\n",
       "      <th>1</th>\n",
       "      <td>09:35</td>\n",
       "      <td>2021-02-01 08:35:00</td>\n",
       "      <td>10:50</td>\n",
       "      <td>2021-02-01 09:50:00</td>\n",
       "      <td>VY</td>\n",
       "      <td>1.250000</td>\n",
       "      <td>MAD</td>\n",
       "      <td>Madrid</td>\n",
       "      <td>MAD</td>\n",
       "      <td>BCN</td>\n",
       "      <td>...</td>\n",
       "      <td>morning</td>\n",
       "      <td>MAD-BCN</td>\n",
       "      <td>VY</td>\n",
       "      <td>1</td>\n",
       "      <td>0</td>\n",
       "      <td>True</td>\n",
       "      <td>6</td>\n",
       "      <td>124</td>\n",
       "      <td>[91]</td>\n",
       "      <td>0</td>\n",
       "    </tr>\n",
       "    <tr>\n",
       "      <th>2</th>\n",
       "      <td>19:45</td>\n",
       "      <td>2021-02-01 18:45:00</td>\n",
       "      <td>21:05</td>\n",
       "      <td>2021-02-01 20:05:00</td>\n",
       "      <td>IB</td>\n",
       "      <td>1.333333</td>\n",
       "      <td>MAD</td>\n",
       "      <td>Madrid</td>\n",
       "      <td>MAD</td>\n",
       "      <td>BCN</td>\n",
       "      <td>...</td>\n",
       "      <td>evening</td>\n",
       "      <td>MAD-BCN</td>\n",
       "      <td>IB</td>\n",
       "      <td>1</td>\n",
       "      <td>0</td>\n",
       "      <td>True</td>\n",
       "      <td>6</td>\n",
       "      <td>139</td>\n",
       "      <td>[91]</td>\n",
       "      <td>0</td>\n",
       "    </tr>\n",
       "    <tr>\n",
       "      <th>3</th>\n",
       "      <td>19:15</td>\n",
       "      <td>2021-02-01 18:15:00</td>\n",
       "      <td>08:50</td>\n",
       "      <td>2021-02-02 07:50:00</td>\n",
       "      <td>UX</td>\n",
       "      <td>13.583333</td>\n",
       "      <td>MAD</td>\n",
       "      <td>Madrid</td>\n",
       "      <td>MAD</td>\n",
       "      <td>BCN</td>\n",
       "      <td>...</td>\n",
       "      <td>evening</td>\n",
       "      <td>MAD-BCN</td>\n",
       "      <td>UX</td>\n",
       "      <td>1</td>\n",
       "      <td>0</td>\n",
       "      <td>True</td>\n",
       "      <td>6</td>\n",
       "      <td>137</td>\n",
       "      <td>[108]</td>\n",
       "      <td>0</td>\n",
       "    </tr>\n",
       "    <tr>\n",
       "      <th>4</th>\n",
       "      <td>14:50</td>\n",
       "      <td>2021-02-01 13:50:00</td>\n",
       "      <td>08:50</td>\n",
       "      <td>2021-02-02 07:50:00</td>\n",
       "      <td>UX</td>\n",
       "      <td>18.000000</td>\n",
       "      <td>MAD</td>\n",
       "      <td>Madrid</td>\n",
       "      <td>MAD</td>\n",
       "      <td>BCN</td>\n",
       "      <td>...</td>\n",
       "      <td>afternoon</td>\n",
       "      <td>MAD-BCN</td>\n",
       "      <td>UX</td>\n",
       "      <td>1</td>\n",
       "      <td>0</td>\n",
       "      <td>True</td>\n",
       "      <td>6</td>\n",
       "      <td>132</td>\n",
       "      <td>[112]</td>\n",
       "      <td>0</td>\n",
       "    </tr>\n",
       "  </tbody>\n",
       "</table>\n",
       "<p>5 rows × 34 columns</p>\n",
       "</div>"
      ],
      "text/plain": [
       "   dTime             dTimeUTC  aTime             aTimeUTC airlines  \\\n",
       "0  15:00  2021-02-01 14:00:00  16:25  2021-02-01 15:25:00       UX   \n",
       "1  09:35  2021-02-01 08:35:00  10:50  2021-02-01 09:50:00       VY   \n",
       "2  19:45  2021-02-01 18:45:00  21:05  2021-02-01 20:05:00       IB   \n",
       "3  19:15  2021-02-01 18:15:00  08:50  2021-02-02 07:50:00       UX   \n",
       "4  14:50  2021-02-01 13:50:00  08:50  2021-02-02 07:50:00       UX   \n",
       "\n",
       "   fly_duration flyFrom cityFrom cityCodeFrom flyTo  ...    session orig-dest  \\\n",
       "0      1.416667     MAD   Madrid          MAD   BCN  ...  afternoon   MAD-BCN   \n",
       "1      1.250000     MAD   Madrid          MAD   BCN  ...    morning   MAD-BCN   \n",
       "2      1.333333     MAD   Madrid          MAD   BCN  ...    evening   MAD-BCN   \n",
       "3     13.583333     MAD   Madrid          MAD   BCN  ...    evening   MAD-BCN   \n",
       "4     18.000000     MAD   Madrid          MAD   BCN  ...  afternoon   MAD-BCN   \n",
       "\n",
       "   airline  days_until_dep hops direct competition   id hist_prices  \\\n",
       "0       UX               1    0   True           6  134        [78]   \n",
       "1       VY               1    0   True           6  124        [91]   \n",
       "2       IB               1    0   True           6  139        [91]   \n",
       "3       UX               1    0   True           6  137       [108]   \n",
       "4       UX               1    0   True           6  132       [112]   \n",
       "\n",
       "  waiting_days  \n",
       "0            0  \n",
       "1            0  \n",
       "2            0  \n",
       "3            0  \n",
       "4            0  \n",
       "\n",
       "[5 rows x 34 columns]"
      ]
     },
     "execution_count": 2,
     "metadata": {},
     "output_type": "execute_result"
    }
   ],
   "source": [
    "train_full = pd.read_csv('../data/processed/train.csv')\n",
    "train_full.head()"
   ]
  },
  {
   "cell_type": "markdown",
   "id": "existing-tutorial",
   "metadata": {},
   "source": [
    "### Feature selection and Preprocessing"
   ]
  },
  {
   "cell_type": "markdown",
   "id": "equal-football",
   "metadata": {},
   "source": [
    "### Split train and validation"
   ]
  },
  {
   "cell_type": "code",
   "execution_count": 5,
   "id": "earlier-jordan",
   "metadata": {},
   "outputs": [],
   "source": [
    "def split_data(df, test_days=14):\n",
    "    flight_dates = pd.to_datetime(df['dDate'])\n",
    "    split_date = flight_dates.max() - timedelta(days=test_days)\n",
    "    train = df[flight_dates <= split_date].copy()\n",
    "    test = df[flight_dates > split_date].copy()\n",
    "    return train, test"
   ]
  },
  {
   "cell_type": "code",
   "execution_count": null,
   "id": "rural-complex",
   "metadata": {},
   "outputs": [],
   "source": [
    "train, valid = split_data(train_full)\n",
    "train.shape, valid.shape"
   ]
  },
  {
   "cell_type": "code",
   "execution_count": 5,
   "id": "alpine-eligibility",
   "metadata": {},
   "outputs": [],
   "source": [
    "train_prices = train[['price', 'hist_prices']].copy()\n",
    "valid_prices = valid[['price','days_until_dep', 'hist_prices']].copy()"
   ]
  },
  {
   "cell_type": "code",
   "execution_count": 7,
   "id": "effective-haiti",
   "metadata": {},
   "outputs": [],
   "source": [
    "num_attribs = ['days_until_dep', 'fly_duration', 'day_of_month', 'log_price', 'hops', 'competition']\n",
    "cat_attribs = ['flyFrom', 'flyTo', 'day_of_week', 'session']\n",
    "target = 'waiting_days'"
   ]
  },
  {
   "cell_type": "code",
   "execution_count": 8,
   "id": "honest-journalist",
   "metadata": {},
   "outputs": [],
   "source": [
    "train = train[num_attribs+cat_attribs+[target]]\n",
    "valid = valid[num_attribs+cat_attribs+[target]]"
   ]
  },
  {
   "cell_type": "code",
   "execution_count": 9,
   "id": "happy-missouri",
   "metadata": {},
   "outputs": [],
   "source": [
    "# split features and target\n",
    "X_train = train.drop(target, axis=1).copy()\n",
    "y_train = train[target].copy()\n",
    "\n",
    "X_valid = valid.drop(target, axis=1).copy()\n",
    "y_valid = valid[target].copy()"
   ]
  },
  {
   "cell_type": "code",
   "execution_count": 10,
   "id": "designed-interaction",
   "metadata": {},
   "outputs": [
    {
     "data": {
      "text/html": [
       "<div>\n",
       "<style scoped>\n",
       "    .dataframe tbody tr th:only-of-type {\n",
       "        vertical-align: middle;\n",
       "    }\n",
       "\n",
       "    .dataframe tbody tr th {\n",
       "        vertical-align: top;\n",
       "    }\n",
       "\n",
       "    .dataframe thead th {\n",
       "        text-align: right;\n",
       "    }\n",
       "</style>\n",
       "<table border=\"1\" class=\"dataframe\">\n",
       "  <thead>\n",
       "    <tr style=\"text-align: right;\">\n",
       "      <th></th>\n",
       "      <th>days_until_dep</th>\n",
       "      <th>fly_duration</th>\n",
       "      <th>day_of_month</th>\n",
       "      <th>log_price</th>\n",
       "      <th>hops</th>\n",
       "      <th>competition</th>\n",
       "      <th>flyFrom</th>\n",
       "      <th>flyTo</th>\n",
       "      <th>day_of_week</th>\n",
       "      <th>session</th>\n",
       "    </tr>\n",
       "  </thead>\n",
       "  <tbody>\n",
       "    <tr>\n",
       "      <th>0</th>\n",
       "      <td>1</td>\n",
       "      <td>1.416667</td>\n",
       "      <td>1</td>\n",
       "      <td>4.356709</td>\n",
       "      <td>0</td>\n",
       "      <td>6</td>\n",
       "      <td>MAD</td>\n",
       "      <td>BCN</td>\n",
       "      <td>Monday</td>\n",
       "      <td>morning</td>\n",
       "    </tr>\n",
       "    <tr>\n",
       "      <th>1</th>\n",
       "      <td>1</td>\n",
       "      <td>1.250000</td>\n",
       "      <td>1</td>\n",
       "      <td>4.510860</td>\n",
       "      <td>0</td>\n",
       "      <td>6</td>\n",
       "      <td>MAD</td>\n",
       "      <td>BCN</td>\n",
       "      <td>Monday</td>\n",
       "      <td>morning</td>\n",
       "    </tr>\n",
       "    <tr>\n",
       "      <th>2</th>\n",
       "      <td>1</td>\n",
       "      <td>1.333333</td>\n",
       "      <td>1</td>\n",
       "      <td>4.510860</td>\n",
       "      <td>0</td>\n",
       "      <td>6</td>\n",
       "      <td>MAD</td>\n",
       "      <td>BCN</td>\n",
       "      <td>Monday</td>\n",
       "      <td>evening</td>\n",
       "    </tr>\n",
       "    <tr>\n",
       "      <th>3</th>\n",
       "      <td>1</td>\n",
       "      <td>13.583333</td>\n",
       "      <td>1</td>\n",
       "      <td>4.682131</td>\n",
       "      <td>0</td>\n",
       "      <td>6</td>\n",
       "      <td>MAD</td>\n",
       "      <td>BCN</td>\n",
       "      <td>Monday</td>\n",
       "      <td>evening</td>\n",
       "    </tr>\n",
       "    <tr>\n",
       "      <th>4</th>\n",
       "      <td>1</td>\n",
       "      <td>18.000000</td>\n",
       "      <td>1</td>\n",
       "      <td>4.718499</td>\n",
       "      <td>0</td>\n",
       "      <td>6</td>\n",
       "      <td>MAD</td>\n",
       "      <td>BCN</td>\n",
       "      <td>Monday</td>\n",
       "      <td>morning</td>\n",
       "    </tr>\n",
       "  </tbody>\n",
       "</table>\n",
       "</div>"
      ],
      "text/plain": [
       "   days_until_dep  fly_duration  day_of_month  log_price  hops  competition  \\\n",
       "0               1      1.416667             1   4.356709     0            6   \n",
       "1               1      1.250000             1   4.510860     0            6   \n",
       "2               1      1.333333             1   4.510860     0            6   \n",
       "3               1     13.583333             1   4.682131     0            6   \n",
       "4               1     18.000000             1   4.718499     0            6   \n",
       "\n",
       "  flyFrom flyTo day_of_week  session  \n",
       "0     MAD   BCN      Monday  morning  \n",
       "1     MAD   BCN      Monday  morning  \n",
       "2     MAD   BCN      Monday  evening  \n",
       "3     MAD   BCN      Monday  evening  \n",
       "4     MAD   BCN      Monday  morning  "
      ]
     },
     "execution_count": 10,
     "metadata": {},
     "output_type": "execute_result"
    }
   ],
   "source": [
    "X_train.head()"
   ]
  },
  {
   "cell_type": "code",
   "execution_count": 11,
   "id": "organized-musician",
   "metadata": {},
   "outputs": [],
   "source": [
    "from sklearn.pipeline import Pipeline\n",
    "from sklearn.impute import SimpleImputer\n",
    "from sklearn.compose import ColumnTransformer\n",
    "from sklearn.preprocessing import OneHotEncoder, FunctionTransformer, StandardScaler\n",
    "\n",
    "num_pipeline = Pipeline([\n",
    "    ('imputer', SimpleImputer(strategy='median')),\n",
    "    ('scaler', StandardScaler())\n",
    "])\n",
    "\n",
    "cat_pipeline = Pipeline([\n",
    "    ('imputer', SimpleImputer(strategy='most_frequent')),\n",
    "    ('encoder', OneHotEncoder(handle_unknown='ignore'))\n",
    "])\n",
    "\n",
    "full_pipeline = ColumnTransformer([\n",
    "    ('num', num_pipeline, num_attribs),\n",
    "    ('cat', cat_pipeline, cat_attribs),\n",
    "])"
   ]
  },
  {
   "cell_type": "code",
   "execution_count": 12,
   "id": "statutory-friendship",
   "metadata": {},
   "outputs": [],
   "source": [
    "X_train_prepared = full_pipeline.fit_transform(X_train)\n",
    "X_valid_prepared = full_pipeline.transform(X_valid)"
   ]
  },
  {
   "cell_type": "code",
   "execution_count": 13,
   "id": "northern-bosnia",
   "metadata": {},
   "outputs": [
    {
     "data": {
      "text/plain": [
       "((49070, 28), (49070,), (7630, 28), (7630,))"
      ]
     },
     "execution_count": 13,
     "metadata": {},
     "output_type": "execute_result"
    }
   ],
   "source": [
    "X_train_prepared.shape, y_train.shape,  X_valid_prepared.shape, y_valid.shape"
   ]
  },
  {
   "cell_type": "markdown",
   "id": "moral-indiana",
   "metadata": {},
   "source": [
    "### Model building"
   ]
  },
  {
   "cell_type": "code",
   "execution_count": 14,
   "id": "romantic-acceptance",
   "metadata": {},
   "outputs": [],
   "source": [
    "def train_model(model, X_train, y_train, X_valid, y_valid, refit=True):\n",
    "    if refit:\n",
    "        model.fit(X_train, y_train)\n",
    "    y_pred_train = model.predict(X_train)\n",
    "    y_pred_valid = model.predict(X_valid)\n",
    "    training_err = np.sqrt(mean_squared_error(y_train, y_pred_train))\n",
    "    valid_err = np.sqrt(mean_squared_error(y_valid, y_pred_valid))\n",
    "    print('training:', training_err)\n",
    "    print('validation:', valid_err)\n",
    "    return model"
   ]
  },
  {
   "cell_type": "code",
   "execution_count": 15,
   "id": "weekly-fluid",
   "metadata": {},
   "outputs": [
    {
     "name": "stdout",
     "output_type": "stream",
     "text": [
      "training: 2.771721969855917\n",
      "validation: 4.81338426945493\n",
      "CPU times: user 169 ms, sys: 139 ms, total: 308 ms\n",
      "Wall time: 93.4 ms\n"
     ]
    },
    {
     "data": {
      "text/plain": [
       "LinearRegression()"
      ]
     },
     "execution_count": 15,
     "metadata": {},
     "output_type": "execute_result"
    }
   ],
   "source": [
    "%%time\n",
    "lr = LinearRegression()\n",
    "train_model(lr, X_train_prepared, y_train, X_valid_prepared, y_valid)"
   ]
  },
  {
   "cell_type": "code",
   "execution_count": 16,
   "id": "lightweight-bidding",
   "metadata": {},
   "outputs": [
    {
     "name": "stdout",
     "output_type": "stream",
     "text": [
      "training: 0.42347342629900153\n",
      "validation: 4.567145448849963\n",
      "CPU times: user 17.3 s, sys: 615 ms, total: 17.9 s\n",
      "Wall time: 17.4 s\n"
     ]
    },
    {
     "data": {
      "text/plain": [
       "RandomForestRegressor()"
      ]
     },
     "execution_count": 16,
     "metadata": {},
     "output_type": "execute_result"
    }
   ],
   "source": [
    "%%time\n",
    "rf = RandomForestRegressor()\n",
    "train_model(rf, X_train_prepared, y_train, X_valid_prepared, y_valid)"
   ]
  },
  {
   "cell_type": "code",
   "execution_count": 17,
   "id": "incomplete-person",
   "metadata": {},
   "outputs": [],
   "source": [
    "predicted = rf.predict(X_valid_prepared).round()"
   ]
  },
  {
   "cell_type": "code",
   "execution_count": 18,
   "id": "failing-anime",
   "metadata": {},
   "outputs": [
    {
     "data": {
      "image/png": "[encoded data removed]",
      "text/plain": [
       "<Figure size 432x288 with 1 Axes>"
      ]
     },
     "metadata": {
      "needs_background": "light"
     },
     "output_type": "display_data"
    }
   ],
   "source": [
    "import matplotlib.pyplot as plt\n",
    "plt.hist(predicted);"
   ]
  },
  {
   "cell_type": "code",
   "execution_count": 19,
   "id": "noble-supply",
   "metadata": {},
   "outputs": [],
   "source": [
    "test = pd.read_csv('../data/processed/test_processed.csv')"
   ]
  },
  {
   "cell_type": "code",
   "execution_count": 20,
   "id": "resistant-devon",
   "metadata": {},
   "outputs": [
    {
     "data": {
      "image/png": "[encoded data removed]",
      "text/plain": [
       "<Figure size 432x288 with 1 Axes>"
      ]
     },
     "metadata": {
      "needs_background": "light"
     },
     "output_type": "display_data"
    }
   ],
   "source": [
    "plt.hist(test['waiting_days']);"
   ]
  },
  {
   "cell_type": "code",
   "execution_count": 21,
   "id": "experimental-parish",
   "metadata": {},
   "outputs": [
    {
     "data": {
      "text/plain": [
       "2.0"
      ]
     },
     "execution_count": 21,
     "metadata": {},
     "output_type": "execute_result"
    }
   ],
   "source": [
    "np.ceil(1.9)"
   ]
  },
  {
   "cell_type": "code",
   "execution_count": 26,
   "id": "compliant-rebecca",
   "metadata": {},
   "outputs": [],
   "source": [
    "valid_prices['waiting_days'] = np.round(predicted).astype(int)"
   ]
  },
  {
   "cell_type": "code",
   "execution_count": 27,
   "id": "fifty-inspector",
   "metadata": {},
   "outputs": [
    {
     "data": {
      "text/html": [
       "<div>\n",
       "<style scoped>\n",
       "    .dataframe tbody tr th:only-of-type {\n",
       "        vertical-align: middle;\n",
       "    }\n",
       "\n",
       "    .dataframe tbody tr th {\n",
       "        vertical-align: top;\n",
       "    }\n",
       "\n",
       "    .dataframe thead th {\n",
       "        text-align: right;\n",
       "    }\n",
       "</style>\n",
       "<table border=\"1\" class=\"dataframe\">\n",
       "  <thead>\n",
       "    <tr style=\"text-align: right;\">\n",
       "      <th></th>\n",
       "      <th>price</th>\n",
       "      <th>days_until_dep</th>\n",
       "      <th>hist_prices</th>\n",
       "      <th>waiting_days</th>\n",
       "    </tr>\n",
       "  </thead>\n",
       "  <tbody>\n",
       "    <tr>\n",
       "      <th>7231</th>\n",
       "      <td>34</td>\n",
       "      <td>41</td>\n",
       "      <td>[34, 34, 61, 61, 61, 61, 61, 61, 47, 47, 47, 4...</td>\n",
       "      <td>0</td>\n",
       "    </tr>\n",
       "    <tr>\n",
       "      <th>7232</th>\n",
       "      <td>34</td>\n",
       "      <td>40</td>\n",
       "      <td>[34, 34, 61, 61, 61, 61, 61, 61, 47, 47, 47, 4...</td>\n",
       "      <td>0</td>\n",
       "    </tr>\n",
       "    <tr>\n",
       "      <th>7233</th>\n",
       "      <td>61</td>\n",
       "      <td>39</td>\n",
       "      <td>[34, 34, 61, 61, 61, 61, 61, 61, 47, 47, 47, 4...</td>\n",
       "      <td>6</td>\n",
       "    </tr>\n",
       "    <tr>\n",
       "      <th>7234</th>\n",
       "      <td>61</td>\n",
       "      <td>38</td>\n",
       "      <td>[34, 34, 61, 61, 61, 61, 61, 61, 47, 47, 47, 4...</td>\n",
       "      <td>6</td>\n",
       "    </tr>\n",
       "    <tr>\n",
       "      <th>7235</th>\n",
       "      <td>61</td>\n",
       "      <td>37</td>\n",
       "      <td>[34, 34, 61, 61, 61, 61, 61, 61, 47, 47, 47, 4...</td>\n",
       "      <td>7</td>\n",
       "    </tr>\n",
       "    <tr>\n",
       "      <th>...</th>\n",
       "      <td>...</td>\n",
       "      <td>...</td>\n",
       "      <td>...</td>\n",
       "      <td>...</td>\n",
       "    </tr>\n",
       "    <tr>\n",
       "      <th>56695</th>\n",
       "      <td>262</td>\n",
       "      <td>2</td>\n",
       "      <td>[262, 209]</td>\n",
       "      <td>0</td>\n",
       "    </tr>\n",
       "    <tr>\n",
       "      <th>56696</th>\n",
       "      <td>314</td>\n",
       "      <td>1</td>\n",
       "      <td>[314]</td>\n",
       "      <td>0</td>\n",
       "    </tr>\n",
       "    <tr>\n",
       "      <th>56697</th>\n",
       "      <td>323</td>\n",
       "      <td>1</td>\n",
       "      <td>[323]</td>\n",
       "      <td>0</td>\n",
       "    </tr>\n",
       "    <tr>\n",
       "      <th>56698</th>\n",
       "      <td>346</td>\n",
       "      <td>1</td>\n",
       "      <td>[346]</td>\n",
       "      <td>0</td>\n",
       "    </tr>\n",
       "    <tr>\n",
       "      <th>56699</th>\n",
       "      <td>518</td>\n",
       "      <td>1</td>\n",
       "      <td>[518]</td>\n",
       "      <td>0</td>\n",
       "    </tr>\n",
       "  </tbody>\n",
       "</table>\n",
       "<p>7630 rows × 4 columns</p>\n",
       "</div>"
      ],
      "text/plain": [
       "       price  days_until_dep  \\\n",
       "7231      34              41   \n",
       "7232      34              40   \n",
       "7233      61              39   \n",
       "7234      61              38   \n",
       "7235      61              37   \n",
       "...      ...             ...   \n",
       "56695    262               2   \n",
       "56696    314               1   \n",
       "56697    323               1   \n",
       "56698    346               1   \n",
       "56699    518               1   \n",
       "\n",
       "                                             hist_prices  waiting_days  \n",
       "7231   [34, 34, 61, 61, 61, 61, 61, 61, 47, 47, 47, 4...             0  \n",
       "7232   [34, 34, 61, 61, 61, 61, 61, 61, 47, 47, 47, 4...             0  \n",
       "7233   [34, 34, 61, 61, 61, 61, 61, 61, 47, 47, 47, 4...             6  \n",
       "7234   [34, 34, 61, 61, 61, 61, 61, 61, 47, 47, 47, 4...             6  \n",
       "7235   [34, 34, 61, 61, 61, 61, 61, 61, 47, 47, 47, 4...             7  \n",
       "...                                                  ...           ...  \n",
       "56695                                         [262, 209]             0  \n",
       "56696                                              [314]             0  \n",
       "56697                                              [323]             0  \n",
       "56698                                              [346]             0  \n",
       "56699                                              [518]             0  \n",
       "\n",
       "[7630 rows x 4 columns]"
      ]
     },
     "execution_count": 27,
     "metadata": {},
     "output_type": "execute_result"
    }
   ],
   "source": [
    "valid_prices"
   ]
  },
  {
   "cell_type": "code",
   "execution_count": 54,
   "id": "initial-youth",
   "metadata": {},
   "outputs": [],
   "source": [
    "def f(row):\n",
    "    if row['waiting_days'] != 0:\n",
    "        #idx = row['waiting_days'] - 1\n",
    "        \n",
    "        list_prices = row['hist_prices'].strip('][').split(', ')\n",
    "        idx = len(list_prices)-row['days_until_dep']+row['waiting_days']\n",
    "        \n",
    "        waiting_price = float(list_prices[idx])\n",
    "    else:\n",
    "        waiting_price = row['price']\n",
    "        \n",
    "    return waiting_price"
   ]
  },
  {
   "cell_type": "code",
   "execution_count": 55,
   "id": "parliamentary-semester",
   "metadata": {},
   "outputs": [],
   "source": [
    "valid_prices['waiting_price'] = valid_prices.apply(f, axis=1)"
   ]
  },
  {
   "cell_type": "code",
   "execution_count": 56,
   "id": "atlantic-moment",
   "metadata": {},
   "outputs": [],
   "source": [
    "valid_prices['savings'] = valid_prices['price'] - valid_prices['waiting_price']"
   ]
  },
  {
   "cell_type": "code",
   "execution_count": 57,
   "id": "threaded-reach",
   "metadata": {},
   "outputs": [],
   "source": [
    "valid_prices['waiting_price'].fillna(valid_prices[valid_prices['waiting_price'].isna()]['price'], inplace=True)"
   ]
  },
  {
   "cell_type": "code",
   "execution_count": 58,
   "id": "local-commonwealth",
   "metadata": {},
   "outputs": [
    {
     "data": {
      "text/plain": [
       "0"
      ]
     },
     "execution_count": 58,
     "metadata": {},
     "output_type": "execute_result"
    }
   ],
   "source": [
    "valid_prices['waiting_price'].isna().sum()"
   ]
  },
  {
   "cell_type": "code",
   "execution_count": 59,
   "id": "adolescent-uganda",
   "metadata": {},
   "outputs": [
    {
     "name": "stdout",
     "output_type": "stream",
     "text": [
      "Spent without waiting:  2147360\n",
      "Spent with waiting:  2179968.0\n",
      "Save Money: -32608.0\n",
      "-1.52%\n"
     ]
    }
   ],
   "source": [
    "print('Spent without waiting: ', valid_prices['price'].sum())\n",
    "print('Spent with waiting: ', valid_prices['waiting_price'].sum())\n",
    "print('Save Money:', valid_prices['price'].sum()-valid_prices['waiting_price'].sum())\n",
    "percent = round(valid_prices['savings'].sum()/valid_prices['price'].sum()*100, 2)\n",
    "print(str(percent)+'%')"
   ]
  },
  {
   "cell_type": "code",
   "execution_count": null,
   "id": "manual-gathering",
   "metadata": {},
   "outputs": [],
   "source": []
  },
  {
   "cell_type": "markdown",
   "id": "owned-capability",
   "metadata": {},
   "source": [
    "## Save model"
   ]
  },
  {
   "cell_type": "code",
   "execution_count": 60,
   "id": "gothic-popularity",
   "metadata": {},
   "outputs": [],
   "source": [
    "import pickle\n",
    "\n",
    "\n",
    "pickle.dump(rf, open('../models/random_forest.pkl', 'wb'))\n",
    "pickle.dump(full_pipeline, open('../models/pipeline.pkl', 'wb'))"
   ]
  },
  {
   "cell_type": "markdown",
   "id": "collaborative-making",
   "metadata": {},
   "source": [
    "### Learning curve"
   ]
  },
  {
   "cell_type": "code",
   "execution_count": null,
   "id": "expected-direction",
   "metadata": {},
   "outputs": [],
   "source": [
    "def plot_learning_curve(model, X, y, cv=5, scoring='f1'):\n",
    "    train_sizes, train_scores, validation_scores = learning_curve(model, X, y, cv=cv, scoring=scoring)\n",
    "    train_scores_mean = -train_scores.mean(axis = 1)\n",
    "    validation_scores_mean = -validation_scores.mean(axis = 1)\n",
    "    plt.plot(train_sizes, train_scores_mean, label = 'Training error')\n",
    "    plt.plot(train_sizes, validation_scores_mean, label = 'Validation error');\n",
    "    plt.legend()"
   ]
  }
 ],
 "metadata": {
  "kernelspec": {
   "display_name": "Python 3",
   "language": "python",
   "name": "python3"
  },
  "language_info": {
   "codemirror_mode": {
    "name": "ipython",
    "version": 3
   },
   "file_extension": ".py",
   "mimetype": "text/x-python",
   "name": "python",
   "nbconvert_exporter": "python",
   "pygments_lexer": "ipython3",
   "version": "3.9.1"
  }
 },
 "nbformat": 4,
 "nbformat_minor": 5
}
