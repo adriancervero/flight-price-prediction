{
 "cells": [
  {
   "cell_type": "markdown",
   "id": "c9c5e0d7",
   "metadata": {},
   "source": [
    "# 04 - Model Building\n",
    "In this notebook we are going to build and train a classification model to predict if a flight price will drop in the future or not.\n",
    "\n",
    "Steps:\n",
    "1. Load data\n",
    "2. Select and preprocessing features\n",
    "3. Train model\n",
    "4. Evaluation on validation\n",
    "5. Best model evaluation on test\n",
    "4. Store model for front-end"
   ]
  },
  {
   "cell_type": "markdown",
   "id": "d3f7c313",
   "metadata": {},
   "source": [
    "### Imports"
   ]
  },
  {
   "cell_type": "code",
   "execution_count": 34,
   "id": "fd2ae87a",
   "metadata": {},
   "outputs": [],
   "source": [
    "import pandas as pd\n",
    "import numpy as np\n",
    "import matplotlib.pyplot as plt\n",
    "import seaborn as sns\n",
    "import pickle\n",
    "\n",
    "from sklearn.preprocessing import StandardScaler, OneHotEncoder, LabelEncoder\n",
    "from sklearn.linear_model import LogisticRegression\n",
    "from sklearn.ensemble import RandomForestClassifier\n",
    "from sklearn.pipeline import Pipeline\n",
    "from sklearn.compose import ColumnTransformer\n",
    "from sklearn.impute import SimpleImputer\n",
    "from sklearn.metrics import accuracy_score, f1_score, confusion_matrix, roc_auc_score, auc, plot_confusion_matrix\n",
    "from sklearn.model_selection import cross_val_score, RandomizedSearchCV"
   ]
  },
  {
   "cell_type": "code",
   "execution_count": 35,
   "id": "cbc8c40b",
   "metadata": {},
   "outputs": [],
   "source": [
    "# Import PriceEstimatorTrainer from src folder\n",
    "import os, sys\n",
    "from pathlib import Path\n",
    "\n",
    "cwd = os.getcwd()\n",
    "path = Path(cwd)\n",
    "parent = str(path.parent.absolute())\n",
    "\n",
    "if parent + '/src/' not in sys.path:\n",
    "    sys.path.append(parent + '/src/')\n",
    "    \n",
    "import config as cfg\n",
    "from PriceEstimatorTrainer import PriceEstimatorTrainer"
   ]
  },
  {
   "cell_type": "markdown",
   "id": "5bde684c",
   "metadata": {},
   "source": [
    "### Functions"
   ]
  },
  {
   "cell_type": "code",
   "execution_count": 36,
   "id": "856ca5f6",
   "metadata": {},
   "outputs": [],
   "source": [
    "def create_pipeline(model, scaler=StandardScaler(), encoder=OneHotEncoder(handle_unknown='ignore')):\n",
    "    \"\"\" Return a preprocessing pipeline that scale numerical variables\n",
    "        and encode categorical ones \"\"\"\n",
    "    \n",
    "    num_pipeline = Pipeline([\n",
    "        ('imputer', SimpleImputer(strategy='median')),\n",
    "        ('scaler', scaler),     \n",
    "    ])\n",
    "\n",
    "    cat_pipeline = Pipeline([\n",
    "        ('imputer', SimpleImputer(strategy='most_frequent')),\n",
    "        ('encoder', encoder),\n",
    "    ])\n",
    "\n",
    "    preprocessor = ColumnTransformer([\n",
    "        ('num', num_pipeline, num),\n",
    "        ('cat', cat_pipeline, cat),\n",
    "    ])\n",
    "\n",
    "    pipeline = Pipeline([\n",
    "        ('preprocessor', preprocessor),\n",
    "        ('model', model),\n",
    "    ])\n",
    "\n",
    "    return pipeline"
   ]
  },
  {
   "cell_type": "code",
   "execution_count": 37,
   "id": "71132f63",
   "metadata": {},
   "outputs": [],
   "source": [
    "def plot_feature_importances(model, X, y):\n",
    "    \"\"\"  Plot feature importances using a random forest classifier \"\"\"\n",
    "    X = X.copy()\n",
    "    y = y[:]\n",
    "    scaler = StandardScaler()\n",
    "    encoder = LabelEncoder()\n",
    "    X[num] = scaler.fit_transform(X[num])\n",
    "    for col in cat:\n",
    "        X[col] = encoder.fit_transform(X[col])\n",
    "    model.fit(X, y)\n",
    "    importances = model.feature_importances_\n",
    "    features = list(X.columns)\n",
    "    \n",
    "    df = pd.DataFrame(importances, index=features, columns=['importance']).sort_values(ascending=False, by='importance')\n",
    "    plt.figure(figsize=(5, 3))\n",
    "    plt.title(\"Feature Importances\", fontsize=16)\n",
    "    plt.yticks(fontsize=16)\n",
    "    plt.ylabel(\"\")\n",
    "    sns.barplot(y=df.index, x=df['importance'], palette='Blues_r')\n",
    "    sns.despine(offset=10)"
   ]
  },
  {
   "cell_type": "code",
   "execution_count": 38,
   "id": "78114b43",
   "metadata": {},
   "outputs": [],
   "source": [
    "def get_metrics(estimator, X, y_true):\n",
    "    \"\"\" Return some classification metrics \"\"\"\n",
    "    y_pred = estimator.predict(X)\n",
    "    acc = accuracy_score(y_true, y_pred)\n",
    "    f1 = f1_score(y_true, y_pred)\n",
    "    roc_auc = roc_auc_score(y_true, y_pred)\n",
    "    print(f'Accuracy: {acc:.2f}')\n",
    "    print(f'F1-Score: {f1:.2f}')\n",
    "    print(f'ROC AUC: {roc_auc:.2f}')\n",
    "    \n",
    "    plot_confusion_matrix(estimator, X, y_true, cmap='Blues')"
   ]
  },
  {
   "cell_type": "code",
   "execution_count": 39,
   "id": "d92e8023",
   "metadata": {},
   "outputs": [],
   "source": [
    "def get_actual_labels(row):\n",
    "    \"\"\" Assign wait or buy label using actual data \"\"\"\n",
    "    current_d = row['days_until_dep']\n",
    "    current_price = row['price']\n",
    "    list_prices = np.array(row['list_prices'])\n",
    "    next_days = list_prices[:current_d-1]\n",
    "    if len(next_days) == 0:\n",
    "        return 0\n",
    "    else:\n",
    "        min_price = np.min(next_days)\n",
    "\n",
    "        if min_price < current_price and 1-(min_price/current_price) > min_drop_per:\n",
    "            return 1\n",
    "        else:\n",
    "            return 0"
   ]
  },
  {
   "cell_type": "code",
   "execution_count": 40,
   "id": "4352dff9",
   "metadata": {},
   "outputs": [],
   "source": [
    "def get_estimated_price(row):\n",
    "    list_prices = row['list_price_est']\n",
    "    current_bin = row['days_bins']\n",
    "    current_price = list_prices[current_bin]\n",
    "    next_prices = list_prices[:current_bin]\n",
    "    if next_prices == []:\n",
    "        print(row['id'])\n",
    "    min_bin = np.argmin(next_prices)\n",
    "    min_price = next_prices[min_bin]\n",
    "    return min_price, min_bin, current_price"
   ]
  },
  {
   "cell_type": "code",
   "execution_count": 41,
   "id": "24ad7780",
   "metadata": {},
   "outputs": [],
   "source": [
    "def get_wait_prices(row):\n",
    "    list_prices = row['list_prices']\n",
    "    current_day = row['days_until_dep']\n",
    "    min_wait = row['min_wait']\n",
    "    max_wait = row['max_wait']\n",
    "    i = current_day-max_wait\n",
    "    j = current_day-min_wait\n",
    "    wait_prices = list_prices[i:j]\n",
    "    if wait_prices == []:\n",
    "        return np.nan\n",
    "    return np.min(wait_prices)"
   ]
  },
  {
   "cell_type": "code",
   "execution_count": 42,
   "id": "ae50a9f2",
   "metadata": {},
   "outputs": [],
   "source": [
    "# Config. variables\n",
    "agg_cols = ['orig-dest', 'airline', 'session', 'days_until_dep']\n",
    "min_drop_per = 0.05"
   ]
  },
  {
   "cell_type": "markdown",
   "id": "a624c710",
   "metadata": {},
   "source": [
    "## 1. Load data"
   ]
  },
  {
   "cell_type": "code",
   "execution_count": 43,
   "id": "e5ec0c65",
   "metadata": {},
   "outputs": [
    {
     "data": {
      "text/plain": [
       "(36975, 12)"
      ]
     },
     "execution_count": 43,
     "metadata": {},
     "output_type": "execute_result"
    }
   ],
   "source": [
    "train = pd.read_csv('../data/processed/train.csv')\n",
    "train.shape"
   ]
  },
  {
   "cell_type": "code",
   "execution_count": 44,
   "id": "2bb2e293",
   "metadata": {},
   "outputs": [
    {
     "data": {
      "text/plain": [
       "(73104, 17)"
      ]
     },
     "execution_count": 44,
     "metadata": {},
     "output_type": "execute_result"
    }
   ],
   "source": [
    "valid = pd.read_csv('../data/processed/valid.csv')\n",
    "valid.shape"
   ]
  },
  {
   "cell_type": "code",
   "execution_count": 45,
   "id": "00ad73d5",
   "metadata": {},
   "outputs": [
    {
     "data": {
      "text/plain": [
       "(73105, 17)"
      ]
     },
     "execution_count": 45,
     "metadata": {},
     "output_type": "execute_result"
    }
   ],
   "source": [
    "test = pd.read_csv('../data/processed/test.csv')\n",
    "test.shape"
   ]
  },
  {
   "cell_type": "code",
   "execution_count": 46,
   "id": "adecd63a",
   "metadata": {},
   "outputs": [],
   "source": [
    "price_bins = pd.read_csv('../data/processed/price_bins.csv')\n",
    "bins_days = pd.read_csv('../data/processed/bins_days.csv')"
   ]
  },
  {
   "cell_type": "markdown",
   "id": "2a96b354",
   "metadata": {},
   "source": [
    "## 2. Select and preprocessing features"
   ]
  },
  {
   "cell_type": "code",
   "execution_count": 47,
   "id": "9f3796ee",
   "metadata": {},
   "outputs": [],
   "source": [
    "# categorical\n",
    "cat = ['orig-dest', 'airline', 'session']\n",
    "\n",
    "# numerical\n",
    "num = ['days_until_dep', 'competition', 'prob', 'fly_duration']\n",
    "\n",
    "# target\n",
    "target = 'wait'"
   ]
  },
  {
   "cell_type": "code",
   "execution_count": 48,
   "id": "5fc108b8",
   "metadata": {},
   "outputs": [],
   "source": [
    "# select features and split target\n",
    "X = train[cat+num].copy()\n",
    "y = train[target].values"
   ]
  },
  {
   "cell_type": "markdown",
   "id": "b9dbcba8",
   "metadata": {},
   "source": [
    "## 3. Training model"
   ]
  },
  {
   "cell_type": "code",
   "execution_count": 49,
   "id": "de0e4ca7",
   "metadata": {},
   "outputs": [],
   "source": [
    "# models\n",
    "rf = RandomForestClassifier(max_depth=6, random_state=42)"
   ]
  },
  {
   "cell_type": "code",
   "execution_count": 50,
   "id": "c51c2389",
   "metadata": {},
   "outputs": [
    {
     "data": {
      "image/png": "[encoded data removed]",
      "text/plain": [
       "<Figure size 360x216 with 1 Axes>"
      ]
     },
     "metadata": {
      "needs_background": "light"
     },
     "output_type": "display_data"
    }
   ],
   "source": [
    "plot_feature_importances(rf, X, y)"
   ]
  },
  {
   "cell_type": "code",
   "execution_count": 51,
   "id": "3f3c8a3b",
   "metadata": {},
   "outputs": [],
   "source": [
    "model = create_pipeline(rf)"
   ]
  },
  {
   "cell_type": "code",
   "execution_count": 52,
   "id": "7d85189d",
   "metadata": {},
   "outputs": [],
   "source": [
    "# training \n",
    "model.fit(X, y);"
   ]
  },
  {
   "cell_type": "code",
   "execution_count": 53,
   "id": "2f8d54c4",
   "metadata": {},
   "outputs": [
    {
     "name": "stdout",
     "output_type": "stream",
     "text": [
      "Accuracy: 0.76\n",
      "F1-Score: 0.82\n",
      "ROC AUC: 0.74\n"
     ]
    },
    {
     "data": {
      "image/png": "[encoded data removed]",
      "text/plain": [
       "<Figure size 432x288 with 2 Axes>"
      ]
     },
     "metadata": {
      "needs_background": "light"
     },
     "output_type": "display_data"
    }
   ],
   "source": [
    "# eval on training\n",
    "get_metrics(model, X, y)"
   ]
  },
  {
   "cell_type": "markdown",
   "id": "7349fcf5",
   "metadata": {},
   "source": [
    "## 4. Evaluation on validation"
   ]
  },
  {
   "cell_type": "markdown",
   "id": "790d326c",
   "metadata": {},
   "source": [
    "In order to evaluate the model we have to simulate a number of passengers wishing to buy airline tickets on certain days, apply the model predictions and check how much money they have saved if the model predicted they had to wait.\n",
    "\\\n",
    "I am going to use my custom class PriceEstimatorTrainer for building the model. Source code is in src folder. All the training process and hypertuning has been made with the python scripts in src folder. In this notebook I will show the final results and save the model for the front-end"
   ]
  },
  {
   "cell_type": "code",
   "execution_count": 54,
   "id": "c84112a4",
   "metadata": {},
   "outputs": [],
   "source": [
    "# training with price estimator\n",
    "m = RandomForestClassifier(max_depth=6, random_state=cfg.RANDOM_STATE)\n",
    "trainer = PriceEstimatorTrainer(model=m, pred_threshold=.5, n=10000)\n",
    "trainer.fit()"
   ]
  },
  {
   "cell_type": "code",
   "execution_count": 55,
   "id": "1030794f",
   "metadata": {},
   "outputs": [
    {
     "name": "stdout",
     "output_type": "stream",
     "text": [
      "                 Model  Savings (k€)  Losses (k€)  Mean (%) Accuracy f1-score Precision Recall\n",
      "RandomForestClassifier          23.3         -4.9      11.0   41.28%   30.19%    77.53% 18.75%\n",
      "\n",
      "\n",
      "           Savings (k€)  Losses (k€)  Mean Savings (€) Savings Percentage Wait predicted Wait correctly predicted\n",
      "orig-dest                                                                                                        \n",
      "BCN-AMS             4.0         -1.4              7.96              6.92%          22.5%                   17.02%\n",
      "BCN-FCO             2.1         -0.2             12.46              13.9%         11.86%                    9.28%\n",
      "BCN-LGW             1.8         -0.3             12.00             12.35%         28.34%                   22.45%\n",
      "BCN-PMI             1.4         -0.0              7.17             29.29%         28.02%                   21.05%\n",
      "MAD-BCN             0.3         -0.1              4.62              2.06%          4.27%                    3.17%\n",
      "MAD-EZE             0.6         -0.1             22.16              5.65%          18.8%                   17.29%\n",
      "MAD-JFK             5.1         -0.6             19.59              9.42%         16.17%                   13.12%\n",
      "MAD-LHR             1.0         -0.5              4.81              3.08%          8.55%                    3.76%\n",
      "MAD-MEX             2.5         -0.4             22.40              7.73%           7.2%                    6.97%\n",
      "MAD-TFN             4.3         -1.4              9.02              7.35%         32.77%                   26.87%\n",
      "\n",
      "Threshold: 0.5\n",
      "Confusion Matrix:\n",
      "[[2858  368]\n",
      " [5504 1270]]\n"
     ]
    },
    {
     "data": {
      "text/plain": [
       "(77.53357753357754, 11.0)"
      ]
     },
     "execution_count": 55,
     "metadata": {},
     "output_type": "execute_result"
    },
    {
     "data": {
      "image/png": "[encoded data removed]",
      "text/plain": [
       "<Figure size 576x432 with 1 Axes>"
      ]
     },
     "metadata": {
      "needs_background": "light"
     },
     "output_type": "display_data"
    }
   ],
   "source": [
    "trainer.evaluate(on='valid', plot=True)"
   ]
  },
  {
   "cell_type": "markdown",
   "id": "eca2b449",
   "metadata": {},
   "source": [
    "## 5. Best model evaluation on test"
   ]
  },
  {
   "cell_type": "code",
   "execution_count": 56,
   "id": "271e321b",
   "metadata": {},
   "outputs": [
    {
     "name": "stdout",
     "output_type": "stream",
     "text": [
      "                 Model  Savings (k€)  Losses (k€)  Mean (%) Accuracy f1-score Precision Recall\n",
      "RandomForestClassifier          22.3         -6.0      10.0    43.1%   30.76%    74.57% 19.38%\n",
      "\n",
      "\n",
      "           Savings (k€)  Losses (k€)  Mean Savings (€) Savings Percentage Wait predicted Wait correctly predicted\n",
      "orig-dest                                                                                                        \n",
      "BCN-AMS             3.4         -0.9              8.89              8.42%         18.17%                    15.9%\n",
      "BCN-FCO             1.3         -0.2              7.52             11.44%         11.18%                    9.25%\n",
      "BCN-LGW             1.3         -0.2             12.51             13.72%         21.65%                   14.59%\n",
      "BCN-PMI             1.4         -0.1              5.71             23.82%         33.78%                   21.73%\n",
      "MAD-BCN             0.2         -0.1              2.27              2.44%          4.84%                    3.85%\n",
      "MAD-EZE             0.4         -0.2              5.32              1.12%         25.95%                   21.37%\n",
      "MAD-JFK             6.3         -0.2             23.00             11.17%         18.96%                   15.29%\n",
      "MAD-LHR             0.7         -1.0             -2.19             -5.93%         12.73%                    5.22%\n",
      "MAD-MEX             2.6         -2.4              1.77              0.25%         10.23%                     8.2%\n",
      "MAD-TFN             4.6         -0.6             13.02             12.36%         31.36%                   24.09%\n",
      "\n",
      "Threshold: 0.5\n",
      "Confusion Matrix:\n",
      "[[3046  431]\n",
      " [5259 1264]]\n"
     ]
    },
    {
     "data": {
      "text/plain": [
       "(74.57227138643067, 10.0)"
      ]
     },
     "execution_count": 56,
     "metadata": {},
     "output_type": "execute_result"
    },
    {
     "data": {
      "image/png": "[encoded data removed]",
      "text/plain": [
       "<Figure size 576x432 with 1 Axes>"
      ]
     },
     "metadata": {
      "needs_background": "light"
     },
     "output_type": "display_data"
    }
   ],
   "source": [
    "trainer.evaluate(on='test', plot=True)"
   ]
  },
  {
   "cell_type": "markdown",
   "id": "2d7a829c",
   "metadata": {},
   "source": [
    "## 6. Store model for front-end"
   ]
  },
  {
   "cell_type": "code",
   "execution_count": 57,
   "id": "dac81e98",
   "metadata": {},
   "outputs": [],
   "source": [
    "model = trainer.model\n",
    "pickle.dump(model, open('../models/rf.pkl', 'wb'))"
   ]
  }
 ],
 "metadata": {
  "kernelspec": {
   "display_name": "Python 3",
   "language": "python",
   "name": "python3"
  },
  "language_info": {
   "codemirror_mode": {
    "name": "ipython",
    "version": 3
   },
   "file_extension": ".py",
   "mimetype": "text/x-python",
   "name": "python",
   "nbconvert_exporter": "python",
   "pygments_lexer": "ipython3",
   "version": "3.9.1"
  }
 },
 "nbformat": 4,
 "nbformat_minor": 5
}
