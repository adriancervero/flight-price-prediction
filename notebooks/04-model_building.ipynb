{
 "cells": [
  {
   "cell_type": "markdown",
   "id": "hearing-harvard",
   "metadata": {},
   "source": [
    "# 04 - Model Building\n",
    "In this notebook we are going to build and train a classification model to predict if a flight price will drop in the future or not.\n",
    "\n",
    "Steps:\n",
    "1. Load data\n",
    "2. Select and preprocessing features\n",
    "3. Train model\n",
    "4. Evaluation on validation\n",
    "5. Best model evaluation on test\n",
    "4. Store model for front-end"
   ]
  },
  {
   "cell_type": "markdown",
   "id": "pending-springer",
   "metadata": {},
   "source": [
    "### Imports"
   ]
  },
  {
   "cell_type": "code",
   "execution_count": 462,
   "id": "fuzzy-drill",
   "metadata": {},
   "outputs": [],
   "source": [
    "import pandas as pd\n",
    "import numpy as np\n",
    "import matplotlib.pyplot as plt\n",
    "import seaborn as sns\n",
    "import pickle\n",
    "\n",
    "from sklearn.preprocessing import StandardScaler, OneHotEncoder, LabelEncoder\n",
    "from sklearn.linear_model import LogisticRegression\n",
    "from sklearn.ensemble import RandomForestClassifier\n",
    "from sklearn.pipeline import Pipeline\n",
    "from sklearn.compose import ColumnTransformer\n",
    "from sklearn.impute import SimpleImputer\n",
    "from sklearn.metrics import accuracy_score, f1_score, confusion_matrix, roc_auc_score, auc, plot_confusion_matrix\n",
    "from sklearn.model_selection import cross_val_score, RandomizedSearchCV"
   ]
  },
  {
   "cell_type": "markdown",
   "id": "congressional-range",
   "metadata": {},
   "source": [
    "### Functions"
   ]
  },
  {
   "cell_type": "code",
   "execution_count": 19,
   "id": "aquatic-preparation",
   "metadata": {},
   "outputs": [],
   "source": [
    "def create_pipeline(model, scaler=StandardScaler(), encoder=OneHotEncoder(handle_unknown='ignore')):\n",
    "    \"\"\" Return a preprocessing pipeline that scale numerical variables\n",
    "        and encode categorical ones \"\"\"\n",
    "    \n",
    "    num_pipeline = Pipeline([\n",
    "        ('imputer', SimpleImputer(strategy='median')),\n",
    "        ('scaler', scaler),     \n",
    "    ])\n",
    "\n",
    "    cat_pipeline = Pipeline([\n",
    "        ('imputer', SimpleImputer(strategy='most_frequent')),\n",
    "        ('encoder', encoder),\n",
    "    ])\n",
    "\n",
    "    preprocessor = ColumnTransformer([\n",
    "        ('num', num_pipeline, num),\n",
    "        ('cat', cat_pipeline, cat),\n",
    "    ])\n",
    "\n",
    "    pipeline = Pipeline([\n",
    "        ('preprocessor', preprocessor),\n",
    "        ('model', model),\n",
    "    ])\n",
    "\n",
    "    return pipeline"
   ]
  },
  {
   "cell_type": "code",
   "execution_count": 20,
   "id": "becoming-diversity",
   "metadata": {},
   "outputs": [],
   "source": [
    "def plot_feature_importances(model, X, y):\n",
    "    \"\"\"  Plot feature importances using a random forest classifier \"\"\"\n",
    "    X = X.copy()\n",
    "    y = y[:]\n",
    "    scaler = StandardScaler()\n",
    "    encoder = LabelEncoder()\n",
    "    X[num] = scaler.fit_transform(X[num])\n",
    "    for col in cat:\n",
    "        X[col] = encoder.fit_transform(X[col])\n",
    "    model.fit(X, y)\n",
    "    importances = model.feature_importances_\n",
    "    features = list(X.columns)\n",
    "    \n",
    "    df = pd.DataFrame(importances, index=features, columns=['importance']).sort_values(ascending=False, by='importance')\n",
    "    plt.figure(figsize=(5, 3))\n",
    "    plt.title(\"Feature Importances\", fontsize=16)\n",
    "    plt.yticks(fontsize=16)\n",
    "    plt.ylabel(\"\")\n",
    "    sns.barplot(y=df.index, x=df['importance'], palette='Blues_r')\n",
    "    sns.despine(offset=10)"
   ]
  },
  {
   "cell_type": "code",
   "execution_count": 21,
   "id": "public-liechtenstein",
   "metadata": {},
   "outputs": [],
   "source": [
    "def get_metrics(estimator, X, y_true):\n",
    "    \"\"\" Return some classification metrics \"\"\"\n",
    "    y_pred = estimator.predict(X)\n",
    "    acc = accuracy_score(y_true, y_pred)\n",
    "    f1 = f1_score(y_true, y_pred)\n",
    "    roc_auc = roc_auc_score(y_true, y_pred)\n",
    "    print(f'Accuracy: {acc:.2f}')\n",
    "    print(f'F1-Score: {f1:.2f}')\n",
    "    print(f'ROC AUC: {roc_auc:.2f}')\n",
    "    \n",
    "    plot_confusion_matrix(estimator, X, y_true, cmap='Blues')"
   ]
  },
  {
   "cell_type": "code",
   "execution_count": 22,
   "id": "retained-military",
   "metadata": {},
   "outputs": [],
   "source": [
    "def get_actual_labels(row):\n",
    "    \"\"\" Assign wait or buy label using actual data \"\"\"\n",
    "    current_d = row['days_until_dep']\n",
    "    current_price = row['price']\n",
    "    list_prices = np.array(row['list_prices'])\n",
    "    next_days = list_prices[:current_d-1]\n",
    "    if len(next_days) == 0:\n",
    "        return 0\n",
    "    else:\n",
    "        min_price = np.min(next_days)\n",
    "\n",
    "        if min_price < current_price and 1-(min_price/current_price) > min_drop_per:\n",
    "            return 1\n",
    "        else:\n",
    "            return 0"
   ]
  },
  {
   "cell_type": "code",
   "execution_count": 23,
   "id": "returning-federal",
   "metadata": {},
   "outputs": [],
   "source": [
    "def get_estimated_price(row):\n",
    "    list_prices = row['list_price_est']\n",
    "    current_bin = row['days_bins']\n",
    "    current_price = list_prices[current_bin]\n",
    "    next_prices = list_prices[:current_bin]\n",
    "    if next_prices == []:\n",
    "        print(row['id'])\n",
    "    min_bin = np.argmin(next_prices)\n",
    "    min_price = next_prices[min_bin]\n",
    "    return min_price, min_bin, current_price"
   ]
  },
  {
   "cell_type": "code",
   "execution_count": 24,
   "id": "fossil-escape",
   "metadata": {},
   "outputs": [],
   "source": [
    "def get_wait_prices(row):\n",
    "    list_prices = row['list_prices']\n",
    "    current_day = row['days_until_dep']\n",
    "    min_wait = row['min_wait']\n",
    "    max_wait = row['max_wait']\n",
    "    i = current_day-max_wait\n",
    "    j = current_day-min_wait\n",
    "    wait_prices = list_prices[i:j]\n",
    "    if wait_prices == []:\n",
    "        return np.nan\n",
    "    return np.min(wait_prices)"
   ]
  },
  {
   "cell_type": "code",
   "execution_count": 25,
   "id": "infinite-observer",
   "metadata": {},
   "outputs": [],
   "source": [
    "# Config. variables\n",
    "agg_cols = ['orig-dest', 'airline', 'session', 'days_until_dep']\n",
    "min_drop_per = 0.05"
   ]
  },
  {
   "cell_type": "markdown",
   "id": "manual-redhead",
   "metadata": {},
   "source": [
    "## 1. Load data"
   ]
  },
  {
   "cell_type": "code",
   "execution_count": 26,
   "id": "regulation-ethernet",
   "metadata": {},
   "outputs": [
    {
     "data": {
      "text/plain": [
       "(36425, 12)"
      ]
     },
     "execution_count": 26,
     "metadata": {},
     "output_type": "execute_result"
    }
   ],
   "source": [
    "train = pd.read_csv('../data/processed/train.csv')\n",
    "train.shape"
   ]
  },
  {
   "cell_type": "code",
   "execution_count": 27,
   "id": "controlling-forward",
   "metadata": {},
   "outputs": [
    {
     "data": {
      "text/plain": [
       "(72751, 17)"
      ]
     },
     "execution_count": 27,
     "metadata": {},
     "output_type": "execute_result"
    }
   ],
   "source": [
    "valid = pd.read_csv('../data/processed/valid.csv')\n",
    "valid.shape"
   ]
  },
  {
   "cell_type": "code",
   "execution_count": 28,
   "id": "indie-ranking",
   "metadata": {},
   "outputs": [
    {
     "data": {
      "text/plain": [
       "(72751, 17)"
      ]
     },
     "execution_count": 28,
     "metadata": {},
     "output_type": "execute_result"
    }
   ],
   "source": [
    "test = pd.read_csv('../data/processed/test.csv')\n",
    "test.shape"
   ]
  },
  {
   "cell_type": "code",
   "execution_count": 29,
   "id": "preceding-vietnamese",
   "metadata": {},
   "outputs": [],
   "source": [
    "price_bins = pd.read_csv('../data/processed/price_bins.csv')\n",
    "bins_days = pd.read_csv('../data/processed/bins_days.csv')"
   ]
  },
  {
   "cell_type": "markdown",
   "id": "linear-restoration",
   "metadata": {},
   "source": [
    "## 2. Select and preprocessing features"
   ]
  },
  {
   "cell_type": "code",
   "execution_count": 30,
   "id": "formal-polls",
   "metadata": {},
   "outputs": [],
   "source": [
    "# categorical\n",
    "cat = ['orig-dest', 'airline', 'session']\n",
    "\n",
    "# numerical\n",
    "num = ['days_until_dep', 'competition', 'prob', 'fly_duration']\n",
    "\n",
    "# target\n",
    "target = 'wait'"
   ]
  },
  {
   "cell_type": "code",
   "execution_count": 31,
   "id": "proper-engineering",
   "metadata": {},
   "outputs": [],
   "source": [
    "# select features and split target\n",
    "X = train[cat+num].copy()\n",
    "y = train[target].values"
   ]
  },
  {
   "cell_type": "markdown",
   "id": "proved-princeton",
   "metadata": {},
   "source": [
    "## 3. Training model"
   ]
  },
  {
   "cell_type": "code",
   "execution_count": 32,
   "id": "guilty-treasure",
   "metadata": {},
   "outputs": [],
   "source": [
    "# models\n",
    "rf = RandomForestClassifier(max_depth=6, random_state=42)"
   ]
  },
  {
   "cell_type": "code",
   "execution_count": 35,
   "id": "forward-culture",
   "metadata": {},
   "outputs": [
    {
     "data": {
      "image/png": "[encoded data removed]",
      "text/plain": [
       "<Figure size 360x216 with 1 Axes>"
      ]
     },
     "metadata": {
      "needs_background": "light"
     },
     "output_type": "display_data"
    }
   ],
   "source": [
    "plot_feature_importances(rf, X, y)"
   ]
  },
  {
   "cell_type": "code",
   "execution_count": 36,
   "id": "retired-pepper",
   "metadata": {},
   "outputs": [],
   "source": [
    "model = create_pipeline(rf)"
   ]
  },
  {
   "cell_type": "code",
   "execution_count": 37,
   "id": "turned-terminology",
   "metadata": {},
   "outputs": [],
   "source": [
    "# training \n",
    "model.fit(X, y);"
   ]
  },
  {
   "cell_type": "code",
   "execution_count": 40,
   "id": "impressive-wildlife",
   "metadata": {},
   "outputs": [
    {
     "name": "stdout",
     "output_type": "stream",
     "text": [
      "Accuracy: 0.77\n",
      "F1-Score: 0.82\n",
      "ROC AUC: 0.74\n"
     ]
    },
    {
     "data": {
      "image/png": "[encoded data removed]",
      "text/plain": [
       "<Figure size 432x288 with 2 Axes>"
      ]
     },
     "metadata": {
      "needs_background": "light"
     },
     "output_type": "display_data"
    }
   ],
   "source": [
    "# eval on training\n",
    "get_metrics(model, X, y)"
   ]
  },
  {
   "cell_type": "markdown",
   "id": "applied-depth",
   "metadata": {},
   "source": [
    "## 4. Evaluation on validation"
   ]
  },
  {
   "cell_type": "markdown",
   "id": "prescribed-insurance",
   "metadata": {},
   "source": [
    "In order to evaluate the model we have to simulate a number of passengers wishing to buy airline tickets on certain days, apply the model predictions and check how much money they have saved if the model predicted they had to wait.\n",
    "\\\n"
   ]
  },
  {
   "cell_type": "code",
   "execution_count": 41,
   "id": "interesting-stewart",
   "metadata": {},
   "outputs": [],
   "source": [
    "def get_min_prices_df(flights):\n",
    "    \"\"\" \n",
    "        Return dataframe with min prices for each pair departure date/days until \n",
    "        departure and labeled according to the number of days remaining \n",
    "        until flight departure.\n",
    "    \"\"\"\n",
    "    # getting minimum prices\n",
    "    min_prices = flights.groupby(['orig-dest','dDate','days_until_dep'])['price'].min().reset_index()\n",
    "    \n",
    "    # list daily prices for each itinerary \n",
    "    list_prices = min_prices.groupby(['orig-dest', 'dDate'])['price'].agg(list).reset_index()\n",
    "    list_prices.rename(columns={\"price\":\"list_prices\"}, inplace=True)\n",
    "    min_prices['list_prices'] = pd.merge(min_prices, list_prices, on=['orig-dest','dDate']).reset_index()['list_prices']\n",
    "    \n",
    "    # label wait or buy according next days on list prices \n",
    "    min_prices['wait'] = min_prices.apply(get_actual_labels, axis=1)\n",
    "    \n",
    "    return min_prices"
   ]
  },
  {
   "cell_type": "code",
   "execution_count": 42,
   "id": "accepting-beach",
   "metadata": {},
   "outputs": [],
   "source": [
    "min_prices = get_min_prices_df(valid)"
   ]
  },
  {
   "cell_type": "code",
   "execution_count": 455,
   "id": "mysterious-south",
   "metadata": {},
   "outputs": [],
   "source": [
    "def get_test_flights(flights, min_prices, n=10000, random_state=42,):\n",
    "    \"\"\" \n",
    "        Create dataframe with test flights for perform predictions.\n",
    "        Steps:\n",
    "            1. Generate n travelers\n",
    "            2. Assign to each passenger the cheapest flight available\n",
    "            3. Add needed features for model using training flights groups\n",
    "            4. Add label from min_prices dataframe (target for our predictions)\n",
    "    \"\"\"\n",
    "    # generate travelers: (id, collectionDate, orig-dest, dDate)\n",
    "    travelers = flights[flights['days_until_dep']>=7][['collectionDate']+['orig-dest', 'dDate']].sample(n, random_state=random_state)\n",
    "    travelers['id'] = np.arange(n)\n",
    "    \n",
    "    # assinging cheapest flights to travelers\n",
    "    travelers_flights = pd.merge(travelers, flights, on=['collectionDate']+['orig-dest', 'dDate'])\n",
    "    cheapest_flights = travelers_flights.groupby('id')['price'].idxmin()\n",
    "    test_flights = travelers_flights.iloc[cheapest_flights]\n",
    "    \n",
    "    # adding 'competition' and 'prob' columns from train\n",
    "    test_flights = pd.merge(test_flights, train[['competition', 'prob']+agg_cols], on=agg_cols, how='left')\n",
    "    \n",
    "    # adding 'wait' col (actual labels) from min_prices df\n",
    "    test_flights = pd.merge(test_flights, min_prices[['orig-dest', 'dDate','days_until_dep', 'wait']], on=['orig-dest', 'dDate','days_until_dep'], how='left')\n",
    "    \n",
    "    return test_flights"
   ]
  },
  {
   "cell_type": "code",
   "execution_count": 46,
   "id": "silent-proxy",
   "metadata": {},
   "outputs": [],
   "source": [
    "valid_flights = get_test_flights(valid) "
   ]
  },
  {
   "cell_type": "code",
   "execution_count": 47,
   "id": "continental-anatomy",
   "metadata": {},
   "outputs": [
    {
     "name": "stdout",
     "output_type": "stream",
     "text": [
      "Accuracy: 0.49\n",
      "F1-Score: 0.29\n",
      "ROC AUC: 0.54\n"
     ]
    },
    {
     "data": {
      "image/png": "[encoded data removed]",
      "text/plain": [
       "<Figure size 432x288 with 2 Axes>"
      ]
     },
     "metadata": {
      "needs_background": "light"
     },
     "output_type": "display_data"
    }
   ],
   "source": [
    "# make predictions\n",
    "X_valid = valid_flights[cat+num]\n",
    "y_valid = valid_flights['wait'].values\n",
    "\n",
    "valid_flights['predicted'] = model.predict(X_valid)\n",
    "probs = model.predict_proba(X_valid)\n",
    "\n",
    "get_metrics(model, X_valid, y_valid)"
   ]
  },
  {
   "cell_type": "code",
   "execution_count": 410,
   "id": "extensive-least",
   "metadata": {},
   "outputs": [],
   "source": [
    "def make_predictions(test_flights, model):\n",
    "    X_valid = test_flights[cat+num]\n",
    "    y_valid = test_flights['wait'].values\n",
    "\n",
    "    test_flights['predicted'] = model.predict(X_valid)\n",
    "    probs = model.predict_proba(X_valid)\n",
    "    test_flights['wait_prob'] = probs[:,1]\n",
    "    return test_flights"
   ]
  },
  {
   "cell_type": "code",
   "execution_count": 454,
   "id": "potential-andrews",
   "metadata": {},
   "outputs": [],
   "source": [
    "def compute_savings(test_flights, min_prices_df):\n",
    "    \"\"\" Given wait predictions estimate days to wait and compute savings comparing prices. \"\"\"\n",
    "    # get just with predicted wait rows\n",
    "    wait = test_flights[(test_flights['predicted'] == 1) & (test_flights['days_until_dep'] >= 7)].copy()\n",
    "    \n",
    "    # adding estimated prices\n",
    "    list_prices = price_bins.groupby(['orig-dest','airline'])['price_est'].agg(list).rename('list_price_est').reset_index()\n",
    "    wait = pd.merge(wait, list_prices, on=['orig-dest','airline'], how='left')\n",
    "    wait = pd.merge(wait, bins_days, on='days_until_dep', how='left')\n",
    "    \n",
    "    wait['price_min_bin'] = wait.apply(get_estimated_price, axis=1)\n",
    "    wait['min_bin'] = wait['price_min_bin'].apply(lambda x: x[1])\n",
    "    wait['price_est'] = wait['price_min_bin'].apply(lambda x: x[0])\n",
    "    wait['current_price_est'] = wait['price_min_bin'].apply(lambda x: x[2])\n",
    "    wait.drop('price_min_bin', axis=1, inplace=True)\n",
    "    \n",
    "    # compute drop percentage\n",
    "    wait['drop_per'] = ((1-wait['price_est']/wait['current_price_est'])*100).round()\n",
    "    \n",
    "    # days to wait\n",
    "    wait['min_wait'] = wait['days_until_dep'] - (wait['min_bin']*5+6)\n",
    "    wait['max_wait'] = wait['days_until_dep'] - (wait['min_bin']*5+2)\n",
    "    \n",
    "    # adding wait price\n",
    "    wait = pd.merge(wait, min_prices_df[['orig-dest', 'dDate', 'list_prices', 'days_until_dep']], on=['orig-dest', 'dDate', 'days_until_dep'])\n",
    "    wait['wait_price'] = wait.apply(get_wait_prices, axis=1)\n",
    "    \n",
    "    # savings\n",
    "    wait['savings'] = wait['price'] - wait['wait_price']\n",
    "    \n",
    "    # merge with full dataframe\n",
    "    final_df = pd.merge(test_flights, wait, how='left')\n",
    "    \n",
    "    # if less than a week for departure we will predict 'buy'\n",
    "    final_df.loc[final_df['days_until_dep']<7, 'predicted'] = 0\n",
    "    \n",
    "    return final_df"
   ]
  },
  {
   "cell_type": "code",
   "execution_count": 49,
   "id": "standing-option",
   "metadata": {},
   "outputs": [],
   "source": [
    "res = compute_savings(valid_flights)"
   ]
  },
  {
   "cell_type": "code",
   "execution_count": 415,
   "id": "postal-radius",
   "metadata": {},
   "outputs": [],
   "source": [
    "def report_results(df):\n",
    "    # TOTAL RESULTS\n",
    "    savings = df[df['savings'] > 0]['savings'].sum()\n",
    "    losses = df[df['savings'] < 0]['savings'].sum()\n",
    "    accuracy = accuracy_score(df['wait'], df['predicted'])*100\n",
    "    f1 = f1_score(df['wait'],  df['predicted'])*100\n",
    "    df['saving_per'] = df['savings']/df['price']\n",
    "    saving_per = (df.groupby('orig-dest')['saving_per'].mean()*100).round(2).astype('str') + '%'\n",
    "    \n",
    "    res_total = pd.DataFrame({\n",
    "    'Model': model['model'].__class__.__name__,\n",
    "    'Savings (k€)': round(savings/1000, 1),\n",
    "    'Losses (k€)': round(losses/1000, 1),\n",
    "    'Mean (%)': round(df['saving_per'].mean(), 2)*100,\n",
    "    'Accuracy': str(round(accuracy, 2)) + '%',\n",
    "    'f1-score': str(round(f1, 2)) + '%',\n",
    "    }, index=['0'])\n",
    "    \n",
    "    print(res_total.to_string(index=False)+'\\n\\n')\n",
    "    \n",
    "    # RESULTS BY ROUTE\n",
    "    savings = (df[df['savings'] > 0].groupby('orig-dest')[['savings']].sum()/1000).round(1)\n",
    "    losses = (df[df['savings'] <= 0].groupby('orig-dest')[['savings']].sum()/1000).round(1)\n",
    "    wait_per = (df.groupby('orig-dest')['predicted'].mean()*100).round(2).astype('str') + '%'\n",
    "    mean_savings = df.groupby('orig-dest')['savings'].mean()\n",
    "    df['correct'] = (df['predicted'] == df['wait']) & (df['wait']==1)\n",
    "    accuracy = (df.groupby('orig-dest')['correct'].mean()*100).round(2).astype('str') + '%'\n",
    "\n",
    "    \n",
    "\n",
    "    res_byroute = pd.DataFrame({\n",
    "        'Savings (k€)': savings['savings'],\n",
    "        'Losses (k€)': losses['savings'],\n",
    "        'Mean Savings (€)': round(mean_savings, 2),\n",
    "        'Savings Percentage': saving_per,\n",
    "        'Wait predicted': wait_per,\n",
    "        'Wait correctly predicted': accuracy,\n",
    "    }, index=savings.index)\n",
    "    \n",
    "    \n",
    "    print(res_byroute.to_string())"
   ]
  },
  {
   "cell_type": "code",
   "execution_count": 400,
   "id": "silent-lesbian",
   "metadata": {},
   "outputs": [],
   "source": [
    "def plot_results(df):\n",
    "    savings = df[df['savings'] > 0].groupby('orig-dest')[['savings']].sum().astype(int).reset_index()\n",
    "    losses = df[df['savings'] < 0].groupby('orig-dest')[['savings']].sum().astype(int).reset_index()\n",
    "    plt.figure(figsize=(8,6))\n",
    "    g = sns.barplot(x='savings', y='orig-dest', data=savings, color='seagreen', );\n",
    "    g2 = sns.barplot(x='savings', y='orig-dest', data=losses, color='darksalmon');\n",
    "    #g.spines['left'].set_position(('axes', 0))\n",
    "    \n",
    "    # values text\n",
    "    for index, row in savings.iterrows():\n",
    "        g.text(row['savings']+600, index+0.10, str(row['savings'])+' €' , color='darkgreen', ha=\"center\")\n",
    "    for index, row in losses.iterrows():\n",
    "        g2.text(row['savings']-600, index+0.10, str(row['savings'])+' €' , color='darkred', ha=\"center\")\n",
    "    \n",
    "    sns.despine(left=False, bottom=True)\n",
    "    # remove x axis\n",
    "    plt.yticks(fontsize=14)\n",
    "    plt.xticks([])\n",
    "    plt.xlabel(None)\n",
    "    plt.ylabel(None)\n",
    "    lim = savings['savings'].max()\n",
    "    plt.xlim(-lim,lim)"
   ]
  },
  {
   "cell_type": "code",
   "execution_count": 402,
   "id": "polar-reference",
   "metadata": {},
   "outputs": [
    {
     "name": "stdout",
     "output_type": "stream",
     "text": [
      "                 Model  Savings (k€)  Losses (k€)  Mean (%) Accuracy f1-score\n",
      "RandomForestClassifier          19.3         -4.0       9.0   48.61%   28.65%\n",
      "\n",
      "\n",
      "           Savings (k€)  Losses (k€)  Mean Savings (€) Savings Percentage Wait predicted Wait correctly predicted\n",
      "orig-dest                                                                                                        \n",
      "BCN-AMS             3.9         -1.0             10.29              7.94%         18.16%                    11.2%\n",
      "BCN-FCO             2.5         -0.7              7.24              8.62%         19.89%                   15.42%\n",
      "BCN-LGW             1.9         -0.1             17.99              18.4%         21.52%                   18.04%\n",
      "BCN-PMI             0.7         -0.0              5.75             21.78%          19.4%                   16.69%\n",
      "MAD-BCN             0.1         -0.0              2.72              6.05%          4.04%                    3.25%\n",
      "MAD-EZE             0.4         -0.2              5.44              1.16%         23.75%                     7.5%\n",
      "MAD-JFK             5.7         -0.1             26.54             12.82%         15.75%                   14.19%\n",
      "MAD-LHR             0.3         -0.1              2.40              2.88%          7.18%                    3.59%\n",
      "MAD-MEX             2.0         -1.3              5.94              1.84%          8.08%                    5.37%\n",
      "MAD-TFN             1.8         -0.5              6.16              6.27%         20.78%                   11.67%\n"
     ]
    }
   ],
   "source": [
    "report_results(res)"
   ]
  },
  {
   "cell_type": "code",
   "execution_count": 401,
   "id": "transparent-stretch",
   "metadata": {},
   "outputs": [
    {
     "data": {
      "image/png": "[encoded data removed]",
      "text/plain": [
       "<Figure size 576x432 with 1 Axes>"
      ]
     },
     "metadata": {
      "needs_background": "light"
     },
     "output_type": "display_data"
    }
   ],
   "source": [
    "plot_results(res)"
   ]
  },
  {
   "cell_type": "code",
   "execution_count": 479,
   "id": "spoken-savannah",
   "metadata": {},
   "outputs": [],
   "source": [
    "# function for evaluation in one step\n",
    "def eval_model(test_data, model, plot_savings=False):\n",
    "    \n",
    "    min_prices = get_min_prices_df(test_data)\n",
    "    test_flights = get_test_flights(test_data, min_prices)\n",
    "    \n",
    "    test_flights = make_predictions(test_flights, model)\n",
    "    \n",
    "    df_results = compute_savings(test_flights, min_prices)\n",
    "    report_results(df_results)\n",
    "    if plot_savings:\n",
    "        plot_results(df_results)\n",
    "    acc = accuracy_score(df_results['wait'], df_results['predicted'])*100\n",
    "    return df_results['saving_per'].mean(), acc"
   ]
  },
  {
   "cell_type": "code",
   "execution_count": 480,
   "id": "egyptian-decision",
   "metadata": {},
   "outputs": [
    {
     "name": "stdout",
     "output_type": "stream",
     "text": [
      "                 Model  Savings (k€)  Losses (k€)  Mean (%) Accuracy f1-score\n",
      "RandomForestClassifier          19.3         -4.0       9.0   48.61%   28.65%\n",
      "\n",
      "\n",
      "           Savings (k€)  Losses (k€)  Mean Savings (€) Savings Percentage Wait predicted Wait correctly predicted\n",
      "orig-dest                                                                                                        \n",
      "BCN-AMS             3.9         -1.0             10.29              7.94%         18.16%                    11.2%\n",
      "BCN-FCO             2.5         -0.7              7.24              8.62%         19.89%                   15.42%\n",
      "BCN-LGW             1.9         -0.1             17.99              18.4%         21.52%                   18.04%\n",
      "BCN-PMI             0.7         -0.0              5.75             21.78%          19.4%                   16.69%\n",
      "MAD-BCN             0.1         -0.0              2.72              6.05%          4.04%                    3.25%\n",
      "MAD-EZE             0.4         -0.2              5.44              1.16%         23.75%                     7.5%\n",
      "MAD-JFK             5.7         -0.1             26.54             12.82%         15.75%                   14.19%\n",
      "MAD-LHR             0.3         -0.1              2.40              2.88%          7.18%                    3.59%\n",
      "MAD-MEX             2.0         -1.3              5.94              1.84%          8.08%                    5.37%\n",
      "MAD-TFN             1.8         -0.5              6.16              6.27%         20.78%                   11.67%\n"
     ]
    },
    {
     "data": {
      "text/plain": [
       "(0.09390465261748213, 48.61)"
      ]
     },
     "execution_count": 480,
     "metadata": {},
     "output_type": "execute_result"
    },
    {
     "data": {
      "image/png": "[encoded data removed]",
      "text/plain": [
       "<Figure size 576x432 with 1 Axes>"
      ]
     },
     "metadata": {
      "needs_background": "light"
     },
     "output_type": "display_data"
    }
   ],
   "source": [
    "eval_model(test_data=valid, model=model, plot_savings=True)"
   ]
  },
  {
   "cell_type": "markdown",
   "id": "proved-scene",
   "metadata": {},
   "source": [
    "## 5. Best model evaluation on test"
   ]
  },
  {
   "cell_type": "code",
   "execution_count": 481,
   "id": "conditional-dryer",
   "metadata": {},
   "outputs": [
    {
     "name": "stdout",
     "output_type": "stream",
     "text": [
      "                 Model  Savings (k€)  Losses (k€)  Mean (%) Accuracy f1-score\n",
      "RandomForestClassifier          19.7         -3.8      10.0   48.44%   28.01%\n",
      "\n",
      "\n",
      "           Savings (k€)  Losses (k€)  Mean Savings (€) Savings Percentage Wait predicted Wait correctly predicted\n",
      "orig-dest                                                                                                        \n",
      "BCN-AMS             2.7         -1.3              5.48              2.36%         16.19%                   10.34%\n",
      "BCN-FCO             1.8         -0.3              5.80              8.14%         19.19%                    14.5%\n",
      "BCN-LGW             2.2         -0.1             18.62             17.25%         25.11%                   17.11%\n",
      "BCN-PMI             1.2         -0.1              8.22             32.79%         20.65%                   16.33%\n",
      "MAD-BCN             0.1         -0.1             -0.21             -2.58%          3.59%                    1.42%\n",
      "MAD-EZE             0.5         -0.2             10.19              2.62%         21.38%                   10.34%\n",
      "MAD-JFK             5.9         -0.2             23.46             11.38%         17.59%                   14.72%\n",
      "MAD-LHR             0.6         -0.3              3.30              1.75%          8.86%                    2.74%\n",
      "MAD-MEX             2.8         -0.7             22.37              7.58%          6.62%                    5.37%\n",
      "MAD-TFN             1.9         -0.4              9.99              7.85%          15.5%                   13.84%\n"
     ]
    }
   ],
   "source": [
    "savings_score, accuracy = eval_model(test_data=test, model=model)"
   ]
  },
  {
   "cell_type": "markdown",
   "id": "tight-alexandria",
   "metadata": {},
   "source": [
    "## 6. Store model for front-end"
   ]
  },
  {
   "cell_type": "code",
   "execution_count": 491,
   "id": "familiar-tuner",
   "metadata": {},
   "outputs": [
    {
     "data": {
      "text/plain": [
       "'RandomForestClassifier_savs-0.10_acc-48.44.pkl'"
      ]
     },
     "execution_count": 491,
     "metadata": {},
     "output_type": "execute_result"
    }
   ],
   "source": [
    "model_name = model['model'].__class__.__name__ + f'_savs-{savings_score:.2f}_acc-{accuracy:.2f}.pkl'\n",
    "model_name"
   ]
  },
  {
   "cell_type": "code",
   "execution_count": 492,
   "id": "romance-sleep",
   "metadata": {},
   "outputs": [],
   "source": [
    "pickle.dump(model, open('../models/'+model_name, 'wb'))"
   ]
  }
 ],
 "metadata": {
  "kernelspec": {
   "display_name": "Python 3",
   "language": "python",
   "name": "python3"
  },
  "language_info": {
   "codemirror_mode": {
    "name": "ipython",
    "version": 3
   },
   "file_extension": ".py",
   "mimetype": "text/x-python",
   "name": "python",
   "nbconvert_exporter": "python",
   "pygments_lexer": "ipython3",
   "version": "3.9.1"
  }
 },
 "nbformat": 4,
 "nbformat_minor": 5
}
