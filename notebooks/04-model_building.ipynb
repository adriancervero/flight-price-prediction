{
 "cells": [
  {
   "cell_type": "markdown",
   "id": "indian-clock",
   "metadata": {},
   "source": [
    "# 04 - Model Building"
   ]
  },
  {
   "cell_type": "code",
   "execution_count": 29,
   "id": "gross-sewing",
   "metadata": {},
   "outputs": [],
   "source": [
    "import pandas as pd\n",
    "import numpy as np\n",
    "import matplotlib.pyplot as plt\n",
    "from sklearn.preprocessing import StandardScaler, OneHotEncoder\n",
    "from sklearn.model_selection import train_test_split, cross_val_score, learning_curve\n",
    "from sklearn.linear_model import LogisticRegression\n",
    "from sklearn.ensemble import RandomForestClassifier\n",
    "from sklearn.svm import SVC\n",
    "from xgboost import XGBClassifier"
   ]
  },
  {
   "cell_type": "code",
   "execution_count": 43,
   "id": "identified-grounds",
   "metadata": {},
   "outputs": [
    {
     "data": {
      "text/html": [
       "<div>\n",
       "<style scoped>\n",
       "    .dataframe tbody tr th:only-of-type {\n",
       "        vertical-align: middle;\n",
       "    }\n",
       "\n",
       "    .dataframe tbody tr th {\n",
       "        vertical-align: top;\n",
       "    }\n",
       "\n",
       "    .dataframe thead th {\n",
       "        text-align: right;\n",
       "    }\n",
       "</style>\n",
       "<table border=\"1\" class=\"dataframe\">\n",
       "  <thead>\n",
       "    <tr style=\"text-align: right;\">\n",
       "      <th></th>\n",
       "      <th>flyFrom</th>\n",
       "      <th>flyTo</th>\n",
       "      <th>orig-dest</th>\n",
       "      <th>day_of_month</th>\n",
       "      <th>day_of_week</th>\n",
       "      <th>fly_duration</th>\n",
       "      <th>distance</th>\n",
       "      <th>days_until_dep</th>\n",
       "      <th>session</th>\n",
       "      <th>airline</th>\n",
       "      <th>hops</th>\n",
       "      <th>direct</th>\n",
       "      <th>competition</th>\n",
       "      <th>price</th>\n",
       "      <th>log_price</th>\n",
       "      <th>buy</th>\n",
       "    </tr>\n",
       "  </thead>\n",
       "  <tbody>\n",
       "    <tr>\n",
       "      <th>0</th>\n",
       "      <td>MAD</td>\n",
       "      <td>BCN</td>\n",
       "      <td>MAD-BCN</td>\n",
       "      <td>1</td>\n",
       "      <td>Monday</td>\n",
       "      <td>1.416667</td>\n",
       "      <td>483.25</td>\n",
       "      <td>1</td>\n",
       "      <td>morning</td>\n",
       "      <td>UX</td>\n",
       "      <td>0</td>\n",
       "      <td>True</td>\n",
       "      <td>6</td>\n",
       "      <td>78</td>\n",
       "      <td>4.356709</td>\n",
       "      <td>False</td>\n",
       "    </tr>\n",
       "    <tr>\n",
       "      <th>1</th>\n",
       "      <td>MAD</td>\n",
       "      <td>BCN</td>\n",
       "      <td>MAD-BCN</td>\n",
       "      <td>1</td>\n",
       "      <td>Monday</td>\n",
       "      <td>1.250000</td>\n",
       "      <td>483.25</td>\n",
       "      <td>1</td>\n",
       "      <td>morning</td>\n",
       "      <td>VY</td>\n",
       "      <td>0</td>\n",
       "      <td>True</td>\n",
       "      <td>6</td>\n",
       "      <td>91</td>\n",
       "      <td>4.510860</td>\n",
       "      <td>False</td>\n",
       "    </tr>\n",
       "    <tr>\n",
       "      <th>2</th>\n",
       "      <td>MAD</td>\n",
       "      <td>BCN</td>\n",
       "      <td>MAD-BCN</td>\n",
       "      <td>1</td>\n",
       "      <td>Monday</td>\n",
       "      <td>1.333333</td>\n",
       "      <td>483.25</td>\n",
       "      <td>1</td>\n",
       "      <td>evening</td>\n",
       "      <td>IB</td>\n",
       "      <td>0</td>\n",
       "      <td>True</td>\n",
       "      <td>6</td>\n",
       "      <td>91</td>\n",
       "      <td>4.510860</td>\n",
       "      <td>False</td>\n",
       "    </tr>\n",
       "    <tr>\n",
       "      <th>3</th>\n",
       "      <td>MAD</td>\n",
       "      <td>BCN</td>\n",
       "      <td>MAD-BCN</td>\n",
       "      <td>1</td>\n",
       "      <td>Monday</td>\n",
       "      <td>13.583333</td>\n",
       "      <td>483.25</td>\n",
       "      <td>1</td>\n",
       "      <td>evening</td>\n",
       "      <td>UX</td>\n",
       "      <td>0</td>\n",
       "      <td>True</td>\n",
       "      <td>6</td>\n",
       "      <td>108</td>\n",
       "      <td>4.682131</td>\n",
       "      <td>False</td>\n",
       "    </tr>\n",
       "    <tr>\n",
       "      <th>4</th>\n",
       "      <td>MAD</td>\n",
       "      <td>BCN</td>\n",
       "      <td>MAD-BCN</td>\n",
       "      <td>1</td>\n",
       "      <td>Monday</td>\n",
       "      <td>18.000000</td>\n",
       "      <td>483.25</td>\n",
       "      <td>1</td>\n",
       "      <td>morning</td>\n",
       "      <td>UX</td>\n",
       "      <td>0</td>\n",
       "      <td>True</td>\n",
       "      <td>6</td>\n",
       "      <td>112</td>\n",
       "      <td>4.718499</td>\n",
       "      <td>False</td>\n",
       "    </tr>\n",
       "  </tbody>\n",
       "</table>\n",
       "</div>"
      ],
      "text/plain": [
       "  flyFrom flyTo orig-dest  day_of_month day_of_week  fly_duration  distance  \\\n",
       "0     MAD   BCN   MAD-BCN             1      Monday      1.416667    483.25   \n",
       "1     MAD   BCN   MAD-BCN             1      Monday      1.250000    483.25   \n",
       "2     MAD   BCN   MAD-BCN             1      Monday      1.333333    483.25   \n",
       "3     MAD   BCN   MAD-BCN             1      Monday     13.583333    483.25   \n",
       "4     MAD   BCN   MAD-BCN             1      Monday     18.000000    483.25   \n",
       "\n",
       "   days_until_dep  session airline  hops  direct  competition  price  \\\n",
       "0               1  morning      UX     0    True            6     78   \n",
       "1               1  morning      VY     0    True            6     91   \n",
       "2               1  evening      IB     0    True            6     91   \n",
       "3               1  evening      UX     0    True            6    108   \n",
       "4               1  morning      UX     0    True            6    112   \n",
       "\n",
       "   log_price    buy  \n",
       "0   4.356709  False  \n",
       "1   4.510860  False  \n",
       "2   4.510860  False  \n",
       "3   4.682131  False  \n",
       "4   4.718499  False  "
      ]
     },
     "execution_count": 43,
     "metadata": {},
     "output_type": "execute_result"
    }
   ],
   "source": [
    "train = pd.read_csv('../data/processed/train.csv')\n",
    "train.head()"
   ]
  },
  {
   "cell_type": "markdown",
   "id": "circular-talent",
   "metadata": {},
   "source": [
    "### Feature selection and Preprocessing"
   ]
  },
  {
   "cell_type": "code",
   "execution_count": 44,
   "id": "collaborative-decrease",
   "metadata": {},
   "outputs": [],
   "source": [
    "numerical = ['days_until_dep', 'fly_duration', 'distance', 'day_of_month', 'price']\n",
    "categorical = ['flyFrom', 'flyTo', 'days_until_dep', 'day_of_week', 'session']\n",
    "target = 'buy'  "
   ]
  },
  {
   "cell_type": "code",
   "execution_count": 45,
   "id": "joint-figure",
   "metadata": {},
   "outputs": [],
   "source": [
    "def prepare_features(df):\n",
    "    numerical = ['days_until_dep', 'fly_duration', 'distance','day_of_month', 'log_price']\n",
    "    categorical = ['flyFrom', 'flyTo', 'day_of_week', 'session', 'direct', 'airline']\n",
    "    target = 'buy'\n",
    "    \n",
    "    # split target variable\n",
    "    X = df.drop(target, axis=1)\n",
    "    y = df[target].copy()\n",
    "    y = y.apply(lambda x: 1 if x == True else 0)\n",
    "    # select features\n",
    "    X = X[numerical+categorical]\n",
    "    # get dummies for categorical variables\n",
    "    X = pd.get_dummies(X, drop_first=True)\n",
    "    # scale numerical columns\n",
    "    scaler = StandardScaler()\n",
    "    X[numerical] = scaler.fit_transform(X[numerical])\n",
    " \n",
    "    return X, y"
   ]
  },
  {
   "cell_type": "code",
   "execution_count": 46,
   "id": "extreme-blend",
   "metadata": {},
   "outputs": [
    {
     "data": {
      "text/plain": [
       "((120060, 105), (120060,))"
      ]
     },
     "execution_count": 46,
     "metadata": {},
     "output_type": "execute_result"
    }
   ],
   "source": [
    "X, y = prepare_features(train)\n",
    "X.shape, y.shape"
   ]
  },
  {
   "cell_type": "code",
   "execution_count": 41,
   "id": "jewish-chrome",
   "metadata": {},
   "outputs": [
    {
     "data": {
      "text/html": [
       "<div>\n",
       "<style scoped>\n",
       "    .dataframe tbody tr th:only-of-type {\n",
       "        vertical-align: middle;\n",
       "    }\n",
       "\n",
       "    .dataframe tbody tr th {\n",
       "        vertical-align: top;\n",
       "    }\n",
       "\n",
       "    .dataframe thead th {\n",
       "        text-align: right;\n",
       "    }\n",
       "</style>\n",
       "<table border=\"1\" class=\"dataframe\">\n",
       "  <thead>\n",
       "    <tr style=\"text-align: right;\">\n",
       "      <th></th>\n",
       "      <th>days_until_dep</th>\n",
       "      <th>fly_duration</th>\n",
       "      <th>distance</th>\n",
       "      <th>day_of_month</th>\n",
       "      <th>log_price</th>\n",
       "      <th>direct</th>\n",
       "      <th>flyFrom_MAD</th>\n",
       "      <th>flyTo_BCN</th>\n",
       "      <th>flyTo_EZE</th>\n",
       "      <th>flyTo_FCO</th>\n",
       "      <th>...</th>\n",
       "      <th>airline_UX</th>\n",
       "      <th>airline_V7</th>\n",
       "      <th>airline_VB</th>\n",
       "      <th>airline_VS</th>\n",
       "      <th>airline_VY</th>\n",
       "      <th>airline_W6</th>\n",
       "      <th>airline_WN</th>\n",
       "      <th>airline_X3</th>\n",
       "      <th>airline_XQ</th>\n",
       "      <th>airline_Y4</th>\n",
       "    </tr>\n",
       "  </thead>\n",
       "  <tbody>\n",
       "    <tr>\n",
       "      <th>0</th>\n",
       "      <td>-1.316816</td>\n",
       "      <td>-1.695417</td>\n",
       "      <td>-0.926539</td>\n",
       "      <td>-2.542449</td>\n",
       "      <td>-1.590794</td>\n",
       "      <td>True</td>\n",
       "      <td>1</td>\n",
       "      <td>1</td>\n",
       "      <td>0</td>\n",
       "      <td>0</td>\n",
       "      <td>...</td>\n",
       "      <td>1</td>\n",
       "      <td>0</td>\n",
       "      <td>0</td>\n",
       "      <td>0</td>\n",
       "      <td>0</td>\n",
       "      <td>0</td>\n",
       "      <td>0</td>\n",
       "      <td>0</td>\n",
       "      <td>0</td>\n",
       "      <td>0</td>\n",
       "    </tr>\n",
       "    <tr>\n",
       "      <th>1</th>\n",
       "      <td>-1.316816</td>\n",
       "      <td>-1.708460</td>\n",
       "      <td>-0.926539</td>\n",
       "      <td>-2.542449</td>\n",
       "      <td>-1.399929</td>\n",
       "      <td>True</td>\n",
       "      <td>1</td>\n",
       "      <td>1</td>\n",
       "      <td>0</td>\n",
       "      <td>0</td>\n",
       "      <td>...</td>\n",
       "      <td>0</td>\n",
       "      <td>0</td>\n",
       "      <td>0</td>\n",
       "      <td>0</td>\n",
       "      <td>1</td>\n",
       "      <td>0</td>\n",
       "      <td>0</td>\n",
       "      <td>0</td>\n",
       "      <td>0</td>\n",
       "      <td>0</td>\n",
       "    </tr>\n",
       "    <tr>\n",
       "      <th>2</th>\n",
       "      <td>-1.316816</td>\n",
       "      <td>-1.701939</td>\n",
       "      <td>-0.926539</td>\n",
       "      <td>-2.542449</td>\n",
       "      <td>-1.399929</td>\n",
       "      <td>True</td>\n",
       "      <td>1</td>\n",
       "      <td>1</td>\n",
       "      <td>0</td>\n",
       "      <td>0</td>\n",
       "      <td>...</td>\n",
       "      <td>0</td>\n",
       "      <td>0</td>\n",
       "      <td>0</td>\n",
       "      <td>0</td>\n",
       "      <td>0</td>\n",
       "      <td>0</td>\n",
       "      <td>0</td>\n",
       "      <td>0</td>\n",
       "      <td>0</td>\n",
       "      <td>0</td>\n",
       "    </tr>\n",
       "    <tr>\n",
       "      <th>3</th>\n",
       "      <td>-1.316816</td>\n",
       "      <td>-0.743276</td>\n",
       "      <td>-0.926539</td>\n",
       "      <td>-2.542449</td>\n",
       "      <td>-1.187864</td>\n",
       "      <td>True</td>\n",
       "      <td>1</td>\n",
       "      <td>1</td>\n",
       "      <td>0</td>\n",
       "      <td>0</td>\n",
       "      <td>...</td>\n",
       "      <td>1</td>\n",
       "      <td>0</td>\n",
       "      <td>0</td>\n",
       "      <td>0</td>\n",
       "      <td>0</td>\n",
       "      <td>0</td>\n",
       "      <td>0</td>\n",
       "      <td>0</td>\n",
       "      <td>0</td>\n",
       "      <td>0</td>\n",
       "    </tr>\n",
       "    <tr>\n",
       "      <th>4</th>\n",
       "      <td>-1.316816</td>\n",
       "      <td>-0.397636</td>\n",
       "      <td>-0.926539</td>\n",
       "      <td>-2.542449</td>\n",
       "      <td>-1.142835</td>\n",
       "      <td>True</td>\n",
       "      <td>1</td>\n",
       "      <td>1</td>\n",
       "      <td>0</td>\n",
       "      <td>0</td>\n",
       "      <td>...</td>\n",
       "      <td>1</td>\n",
       "      <td>0</td>\n",
       "      <td>0</td>\n",
       "      <td>0</td>\n",
       "      <td>0</td>\n",
       "      <td>0</td>\n",
       "      <td>0</td>\n",
       "      <td>0</td>\n",
       "      <td>0</td>\n",
       "      <td>0</td>\n",
       "    </tr>\n",
       "  </tbody>\n",
       "</table>\n",
       "<p>5 rows × 105 columns</p>\n",
       "</div>"
      ],
      "text/plain": [
       "   days_until_dep  fly_duration  distance  day_of_month  log_price  direct  \\\n",
       "0       -1.316816     -1.695417 -0.926539     -2.542449  -1.590794    True   \n",
       "1       -1.316816     -1.708460 -0.926539     -2.542449  -1.399929    True   \n",
       "2       -1.316816     -1.701939 -0.926539     -2.542449  -1.399929    True   \n",
       "3       -1.316816     -0.743276 -0.926539     -2.542449  -1.187864    True   \n",
       "4       -1.316816     -0.397636 -0.926539     -2.542449  -1.142835    True   \n",
       "\n",
       "   flyFrom_MAD  flyTo_BCN  flyTo_EZE  flyTo_FCO  ...  airline_UX  airline_V7  \\\n",
       "0            1          1          0          0  ...           1           0   \n",
       "1            1          1          0          0  ...           0           0   \n",
       "2            1          1          0          0  ...           0           0   \n",
       "3            1          1          0          0  ...           1           0   \n",
       "4            1          1          0          0  ...           1           0   \n",
       "\n",
       "   airline_VB  airline_VS  airline_VY  airline_W6  airline_WN  airline_X3  \\\n",
       "0           0           0           0           0           0           0   \n",
       "1           0           0           1           0           0           0   \n",
       "2           0           0           0           0           0           0   \n",
       "3           0           0           0           0           0           0   \n",
       "4           0           0           0           0           0           0   \n",
       "\n",
       "   airline_XQ  airline_Y4  \n",
       "0           0           0  \n",
       "1           0           0  \n",
       "2           0           0  \n",
       "3           0           0  \n",
       "4           0           0  \n",
       "\n",
       "[5 rows x 105 columns]"
      ]
     },
     "execution_count": 41,
     "metadata": {},
     "output_type": "execute_result"
    }
   ],
   "source": [
    "X.head()"
   ]
  },
  {
   "cell_type": "markdown",
   "id": "coordinated-color",
   "metadata": {},
   "source": [
    "### Split train and test"
   ]
  },
  {
   "cell_type": "code",
   "execution_count": 9,
   "id": "abroad-boards",
   "metadata": {},
   "outputs": [],
   "source": [
    "X_train, X_test, y_train, y_test = train_test_split(X, y, test_size=0.2)"
   ]
  },
  {
   "cell_type": "markdown",
   "id": "interior-atlanta",
   "metadata": {},
   "source": [
    "### Model building"
   ]
  },
  {
   "cell_type": "code",
   "execution_count": 34,
   "id": "representative-density",
   "metadata": {},
   "outputs": [],
   "source": [
    "from sklearn.metrics import f1_score, accuracy_score"
   ]
  },
  {
   "cell_type": "markdown",
   "id": "subjective-triangle",
   "metadata": {},
   "source": [
    "#### Logistic regresion"
   ]
  },
  {
   "cell_type": "code",
   "execution_count": 47,
   "id": "blond-consequence",
   "metadata": {},
   "outputs": [],
   "source": [
    "def build_model(model, X, y):\n",
    "    X_train, X_valid, y_train, y_valid = train_test_split(X, y, test_size=0.2, random_state=42)\n",
    "    model.fit(X_train, y_train)\n",
    "    y_pred = model.predict(X_train)\n",
    "\n",
    "    print('-----------------------------------')\n",
    "    print('training')\n",
    "    print('-----------------------------------')\n",
    "    print('acc:', accuracy_score(y_train, y_pred), 'f1-score:', f1_score(y_train, y_pred))\n",
    "    print('-----------------------------------')\n",
    "    print('test')\n",
    "    print('-----------------------------------')\n",
    "    y_pred = model.predict(X_valid)\n",
    "    print('acc:', accuracy_score(y_valid, y_pred), 'f1-score:', f1_score(y_valid, y_pred))\n",
    "    \n",
    "    return model"
   ]
  },
  {
   "cell_type": "code",
   "execution_count": 28,
   "id": "comparative-standing",
   "metadata": {},
   "outputs": [
    {
     "name": "stdout",
     "output_type": "stream",
     "text": [
      "-----------------------------------\n",
      "training\n",
      "-----------------------------------\n",
      "acc: 0.7161211061136099 f1-score: 0.3716063609126527\n",
      "-----------------------------------\n",
      "test\n",
      "-----------------------------------\n",
      "acc: 0.7203481592537064 f1-score: 0.36847550079939806\n"
     ]
    },
    {
     "data": {
      "text/plain": [
       "LogisticRegression()"
      ]
     },
     "execution_count": 28,
     "metadata": {},
     "output_type": "execute_result"
    }
   ],
   "source": [
    "log_clf = LogisticRegression()\n",
    "build_model(log_clf, X, y)"
   ]
  },
  {
   "cell_type": "markdown",
   "id": "magnetic-furniture",
   "metadata": {},
   "source": [
    "#### Random Forest"
   ]
  },
  {
   "cell_type": "code",
   "execution_count": 48,
   "id": "based-operator",
   "metadata": {},
   "outputs": [
    {
     "name": "stdout",
     "output_type": "stream",
     "text": [
      "-----------------------------------\n",
      "training\n",
      "-----------------------------------\n",
      "acc: 0.9996668332500417 f1-score: 0.9996597409778194\n",
      "-----------------------------------\n",
      "test\n",
      "-----------------------------------\n",
      "acc: 0.8537397967682825 f1-score: 0.8456535114705106\n"
     ]
    },
    {
     "data": {
      "text/plain": [
       "RandomForestClassifier(random_state=42)"
      ]
     },
     "execution_count": 48,
     "metadata": {},
     "output_type": "execute_result"
    }
   ],
   "source": [
    "rf = RandomForestClassifier(random_state=42)\n",
    "build_model(rf, X, y)"
   ]
  },
  {
   "cell_type": "code",
   "execution_count": 49,
   "id": "brave-withdrawal",
   "metadata": {},
   "outputs": [
    {
     "data": {
      "text/plain": [
       "0.5971827538144312"
      ]
     },
     "execution_count": 49,
     "metadata": {},
     "output_type": "execute_result"
    }
   ],
   "source": [
    "scores = cross_val_score(rf, X, y, cv=5, scoring='f1')\n",
    "scores.mean()"
   ]
  },
  {
   "cell_type": "markdown",
   "id": "cathedral-width",
   "metadata": {},
   "source": [
    "#### Logistic regresion"
   ]
  },
  {
   "cell_type": "code",
   "execution_count": 10,
   "id": "complicated-spouse",
   "metadata": {},
   "outputs": [
    {
     "name": "stderr",
     "output_type": "stream",
     "text": [
      "/home/adrian/miniconda3/envs/tfm/lib/python3.9/site-packages/xgboost/sklearn.py:888: UserWarning: The use of label encoder in XGBClassifier is deprecated and will be removed in a future release. To remove this warning, do the following: 1) Pass option use_label_encoder=False when constructing XGBClassifier object; and 2) Encode your labels (y) as integers starting with 0, i.e. 0, 1, 2, ..., [num_class - 1].\n",
      "  warnings.warn(label_encoder_deprecation_msg, UserWarning)\n"
     ]
    },
    {
     "name": "stdout",
     "output_type": "stream",
     "text": [
      "[17:10:34] WARNING: ../src/learner.cc:1061: Starting in XGBoost 1.3.0, the default evaluation metric used with the objective 'binary:logistic' was changed from 'error' to 'logloss'. Explicitly set eval_metric if you'd like to restore the old behavior.\n",
      "-----------------------------------\n",
      "training\n",
      "-----------------------------------\n",
      "acc: 0.8135175799809946 f1-score: 0.6345989727993546\n",
      "-----------------------------------\n",
      "test\n",
      "-----------------------------------\n",
      "acc: 0.7979094076655052 f1-score: 0.5971204849709522\n"
     ]
    },
    {
     "data": {
      "text/plain": [
       "XGBClassifier(base_score=0.5, booster='gbtree', colsample_bylevel=1,\n",
       "              colsample_bynode=1, colsample_bytree=1, gamma=0, gpu_id=-1,\n",
       "              importance_type='gain', interaction_constraints='',\n",
       "              learning_rate=0.300000012, max_delta_step=0, max_depth=6,\n",
       "              min_child_weight=1, missing=nan, monotone_constraints='()',\n",
       "              n_estimators=100, n_jobs=8, num_parallel_tree=1, random_state=0,\n",
       "              reg_alpha=0, reg_lambda=1, scale_pos_weight=1, subsample=1,\n",
       "              tree_method='exact', validate_parameters=1, verbosity=None)"
      ]
     },
     "execution_count": 10,
     "metadata": {},
     "output_type": "execute_result"
    }
   ],
   "source": [
    "xgb = XGBClassifier()\n",
    "build_model(xgb, X, y)"
   ]
  },
  {
   "cell_type": "markdown",
   "id": "considered-liberia",
   "metadata": {},
   "source": [
    "### Learning curve"
   ]
  },
  {
   "cell_type": "code",
   "execution_count": 15,
   "id": "liable-confidence",
   "metadata": {},
   "outputs": [],
   "source": [
    "def plot_learning_curve(model, X, y, cv=5, scoring='f1'):\n",
    "    train_sizes, train_scores, validation_scores = learning_curve(model, X, y, cv=cv, scoring=scoring)\n",
    "    train_scores_mean = -train_scores.mean(axis = 1)\n",
    "    validation_scores_mean = -validation_scores.mean(axis = 1)\n",
    "    plt.plot(train_sizes, train_scores_mean, label = 'Training error')\n",
    "    plt.plot(train_sizes, validation_scores_mean, label = 'Validation error');\n",
    "    plt.legend()"
   ]
  }
 ],
 "metadata": {
  "kernelspec": {
   "display_name": "Python 3",
   "language": "python",
   "name": "python3"
  },
  "language_info": {
   "codemirror_mode": {
    "name": "ipython",
    "version": 3
   },
   "file_extension": ".py",
   "mimetype": "text/x-python",
   "name": "python",
   "nbconvert_exporter": "python",
   "pygments_lexer": "ipython3",
   "version": "3.9.1"
  }
 },
 "nbformat": 4,
 "nbformat_minor": 5
}
