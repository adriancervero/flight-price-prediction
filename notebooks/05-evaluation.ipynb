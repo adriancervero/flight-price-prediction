{
 "cells": [
  {
   "cell_type": "code",
   "execution_count": 67,
   "id": "moved-blocking",
   "metadata": {},
   "outputs": [],
   "source": [
    "import pandas as pd\n",
    "import numpy as np\n",
    "import random\n",
    "import pickle"
   ]
  },
  {
   "cell_type": "code",
   "execution_count": 2,
   "id": "wireless-regard",
   "metadata": {},
   "outputs": [],
   "source": [
    "model = pickle.load(open('../models/random_forest.pkl', 'rb'))\n",
    "pipeline = pickle.load(open('../models/pipeline.pkl', 'rb'))\n",
    "data = pd.read_csv('../data/processed/test_processed.csv')"
   ]
  },
  {
   "cell_type": "code",
   "execution_count": 80,
   "id": "invalid-cloud",
   "metadata": {},
   "outputs": [],
   "source": [
    "def get_waiting_price(row):\n",
    "    if row['waiting_days'] != 0:\n",
    "        idx = row['waiting_days'] - 1\n",
    "        list_prices = row['hist_prices'].replace('[', '').replace(']', '').split(',')\n",
    "        waiting_price = float(list_prices[idx])\n",
    "        if np.isnan(waiting_price):\n",
    "            waiting_price = row['price']\n",
    "    else:\n",
    "        waiting_price = row['price']\n",
    "        \n",
    "    return waiting_price"
   ]
  },
  {
   "cell_type": "code",
   "execution_count": 150,
   "id": "emotional-stable",
   "metadata": {},
   "outputs": [],
   "source": [
    "class Simulator():\n",
    "    def __init__(self, n, flights, model, pipeline):\n",
    "        self.n = n\n",
    "        self.flights = flights\n",
    "        self.model = model\n",
    "        self.pipeline = pipeline\n",
    "        \n",
    "    def generate_travellers(self):\n",
    "        routes = self.flights['orig-dest'].unique()\n",
    "        departures = self.flights['dDate'].unique()\n",
    "        requests = self.flights['days_until_dep'].unique()\n",
    "        \n",
    "        travellers_routes = random.choices(routes, k=self.n)\n",
    "        travellers_dep_date = random.choices(departures, k=self.n)\n",
    "        travellers_req_date = random.choices(requests, k=self.n)\n",
    "        \n",
    "        self.travellers = pd.DataFrame({'route': travellers_routes,\n",
    "                                        'departure': travellers_dep_date,\n",
    "                                        'request':travellers_req_date})\n",
    "        \n",
    "    def get_cheapest_flights(self):\n",
    "        # select cheapest flight for each traveler\n",
    "        merged = pd.merge(self.travellers, self.flights, left_on=['departure', 'route'], right_on=['dDate', 'orig-dest'])\n",
    "        group_cols = list(self.travellers.columns)\n",
    "        cheapest_indexes = merged.groupby(group_cols)['price'].idxmin()\n",
    "        self.cheapest_flights = merged.loc[cheapest_indexes].drop(group_cols, axis=1)\n",
    "\n",
    "    def prepare_data(self, data):\n",
    "        num_attribs = ['days_until_dep', 'fly_duration', 'day_of_month', 'log_price', 'hops', 'competition']\n",
    "        cat_attribs = ['flyFrom', 'flyTo', 'day_of_week', 'session']\n",
    "    \n",
    "        data_prepared = self.pipeline.transform(data[num_attribs+cat_attribs])\n",
    "        return data_prepared\n",
    "    \n",
    "    def make_predictions(self):\n",
    "        data_prepared = self.prepare_data(self.cheapest_flights)\n",
    "        predicted = self.model.predict(data_prepared).round()\n",
    "        self.cheapest_flights['waiting_days'] = predicted.astype(int)\n",
    "        \n",
    "    def compute_savings(self):\n",
    "        df = self.cheapest_flights\n",
    "        df['waiting_price'] = df.apply(get_waiting_price, axis=1)\n",
    "        df['savings'] = df['price'] - df['waiting_price']\n",
    "        \n",
    "    def visualize_results(self):\n",
    "        df = self.cheapest_flights[['price', 'waiting_days', 'waiting_price', 'savings']]\n",
    "        \n",
    "        \n",
    "        results = {'Current': [df['price'].sum(), df['price'].mean()],\n",
    "                   'Model': [df['waiting_price'].sum(), df['waiting_price'].mean()],\n",
    "                   'Savings':[df['savings'].sum(), df['savings'].mean()]}\n",
    "        \n",
    "        df = pd.DataFrame(results, index=['Total', 'By Traveler'])\n",
    "        print(df.to_string())\n",
    "        \n",
    "    def run(self):\n",
    "        self.generate_travellers()\n",
    "        self.get_cheapest_flights()\n",
    "        self.make_predictions()\n",
    "        self.compute_savings()\n",
    "        self.visualize_results()\n",
    "    "
   ]
  },
  {
   "cell_type": "code",
   "execution_count": 151,
   "id": "universal-petite",
   "metadata": {},
   "outputs": [],
   "source": [
    "sim = Simulator(20, data, model, pipeline)"
   ]
  },
  {
   "cell_type": "code",
   "execution_count": 152,
   "id": "acquired-origin",
   "metadata": {},
   "outputs": [
    {
     "name": "stdout",
     "output_type": "stream",
     "text": [
      "             Current    Model  Savings\n",
      "Total        1973.00  2349.00   -376.0\n",
      "By Traveler    98.65   117.45    -18.8\n"
     ]
    }
   ],
   "source": [
    "sim.run()"
   ]
  },
  {
   "cell_type": "code",
   "execution_count": null,
   "id": "mechanical-startup",
   "metadata": {},
   "outputs": [],
   "source": []
  }
 ],
 "metadata": {
  "kernelspec": {
   "display_name": "Python 3",
   "language": "python",
   "name": "python3"
  },
  "language_info": {
   "codemirror_mode": {
    "name": "ipython",
    "version": 3
   },
   "file_extension": ".py",
   "mimetype": "text/x-python",
   "name": "python",
   "nbconvert_exporter": "python",
   "pygments_lexer": "ipython3",
   "version": "3.9.1"
  }
 },
 "nbformat": 4,
 "nbformat_minor": 5
}
